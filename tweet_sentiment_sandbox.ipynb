{
 "cells": [
  {
   "cell_type": "code",
   "execution_count": null,
   "metadata": {
    "collapsed": false
   },
   "outputs": [],
   "source": []
  },
  {
   "cell_type": "code",
   "execution_count": 5,
   "metadata": {
    "collapsed": true
   },
   "outputs": [
    {
     "name": "stdout",
     "output_type": "stream",
     "text": [
      "[('limited', -1), ('suicidal', -2), ('pardon', 2), ('desirable', 2), ('protest', -2), ('lurking', -1), ('controversial', -2), ('hating', -3), ('ridiculous', -3), ('hate', -3), ('aggression', -2), ('increase', 1), ('regretted', -2), ('violate', -2), ('granting', 1), ('attracted', 1), ('poorest', -2), ('scold', -2), ('bailout', -2), ('sorry', -1), ('regrets', -2), ('struck', -1), ('misreporting', -2), ('vociferous', -1), ('lurk', -1), ('misunderstanding', -2), ('distort', -2), ('stolen', -2), ('gratification', 2), ('uncertain', -1), ('stabbed', -2), ('screaming', -2), ('courageous', 2), ('disturb', -2), ('exaggerate', -2), ('harried', -2), ('solution', 1), ('nigger', -5), ('pardons', 2), ('quaking', -2), ('monopolized', -2), ('censors', -2), ('triumph', 4), ('enjoy', 2), ('shithead', -4), ('tired', -2), ('warns', -2), ('landmark', 2), ('elegant', 2), ('fabulous', 4), ('rigorous', 3), ('emptiness', -1), ('loathing', -3), ('errors', -2), ('hide', -1), ('wreck', -2), ('desirous', 2), ('integrity', 2), ('beaten', -2), ('jocular', 2), ('poison', -2), ('victims', -3), ('endorse', 2), ('shocks', -2), ('unmotivated', -2), ('hero', 2), ('avert', -1), ('festive', 2), ('interrupting', -2), ('prblms', -2), ('active', 1), ('oversells', -2), ('kudos', 3), ('rigorously', 3), ('deferring', -1), ('postpones', -1), ('oxymoron', -1), ('launched', 1), ('stressed', -2), ('lonesome', -2), ('unwanted', -2), ('postponed', -1), ('missing', -2), ('criticism', -2), ('fantastic', 4), ('secure', 2), ('dehumanize', -2), ('cheats', -3), ('sparkling', 3), ('achievable', 1), ('cherishing', 2), ('criminals', -3), ('appeasing', 2), ('motivate', 1), ('negative', -2), ('insult', -2), ('calm', 2), ('recommend', 2), ('strike', -1), ('committing', 1), ('made-up', -1), ('supporters', 1), ('successful', 3), ('expose', -1), ('haha', 3), ('award', 3), ('hurt', -2), ('grief', -2), ('disruption', -2), ('sobering', 1), ('frenzy', -3), ('excellent', 3), ('blocking', -1), ('shoot', -1), ('disappointing', -2), ('join', 1), ('somber', -2), ('refusing', -2), ('worn', -1), ('worth', 2), ('lugubrious', -2), ('criticizing', -2), ('elegantly', 2), ('defer', -1), ('pollute', -2), ('joyous', 3), ('unjust', -2), ('laughs', 1), ('shattered', -2), ('want', 1), ('indifferent', -2), ('attract', 1), ('cocksucker', -5), ('guarantee', 1), ('farce', -1), ('puzzled', -2), ('nuts', -3), ('damage', -3), ('amazing', 4), ('uncredited', -1), ('trusted', 2), ('aching', -2), ('significance', 1), ('moron', -3), ('disappoint', -2), ('bankster', -3), ('undesirable', -2), ('badly', -3), ('uselessness', -2), ('flustered', -2), ('mess', -2), ('insecure', -2), ('lag', -1), ('loyalty', 3), ('demanding', -1), ('astoundingly', 3), ('wrong', -2), ('sentencing', -2), ('sparkles', 3), ('meaningful', 2), ('ambivalent', -1), ('complacent', -2), ('splendid', 3), ('effective', 2), ('wins', 4), ('attracts', 1), ('appreciate', 2), ('greet', 1), ('stimulate', 1), ('daredevil', 2), ('steals', -2), ('worst', -3), ('greed', -3), ('restriction', -2), ('dirtiest', -2), ('consent', 2), ('derides', -2), ('rotfl', 4), ('innovative', 2), ('responsive', 2), ('derided', -2), ('cool stuff', 3), ('welcomes', 2), ('fit', 1), ('polluters', -2), ('destroyed', -3), ('affected', -1), ('litigious', -2), ('prevented', -1), ('powerful', 2), ('safe', 1), ('supporter', 1), ('collide', -1), ('avoids', -1), ('mongering', -2), ('interrupt', -2), ('soothing', 3), ('lenient', 1), ('saddened', -2), ('gloom', -1), ('brightness', 1), ('arrested', -3), ('absolve', 2), ('dumps', -1), ('misbehave', -2), ('fitness', 1), ('entitled', 1), ('vitriolic', -3), ('luck', 3), ('interruption', -2), ('exhilarated', 3), ('celebrating', 3), ('exhilarates', 3), ('substantially', 1), ('tricked', -2), ('absolves', 2), ('contend', -1), ('touts', -2), ('pesky', -2), ('god', 1), ('lurks', -1), ('sparkle', 3), ('encourage', 2), ('loathe', -3), ('heavenly', 4), ('ranter', -3), ('sluggish', -2), ('disputed', -2), ('barrier', -2), ('threatened', -2), ('revenge', -2), ('free', 1), ('mourning', -2), ('admits', -1), ('unconvinced', -1), ('fervid', 2), ('disputes', -2), ('struggle', -2), ('boosting', 1), ('enlightened', 2), ('jubilant', 3), ('exposing', -1), ('brooding', -2), ('tolerant', 2), ('disturbed', -2), ('hopeless', -2), ('ineffectively', -2), ('enraged', -2), ('wronged', -2), ('attractions', 2), ('reassure', 1), ('lovable', 3), ('rant', -3), ('downside', -2), ('enrages', -2), ('clarity', 2), ('snubbing', -2), ('dysfunction', -2), ('cheerless', -2), ('rejects', -1), ('lawsuits', -2), ('euphoric', 4), ('euphoria', 3), ('enthral', 3), ('combats', -1), ('tragic', -2), ('inconvenient', -2), ('bitter', -2), ('lunatics', -3), ('troubled', -2), ('murder', -2), ('collapse', -2), ('conciliated', 2), ('rejected', -1), ('conciliates', 2), ('wasted', -2), ('positively', 2), ('mercy', 2), ('anxiety', -2), ('coward', -2), ('matter', 1), ('guilt', -3), ('mirth', 3), ('feeling', 1), ('slashes', -2), ('self-confident', 2), ('willingness', 2), ('pessimism', -2), ('upset', -2), ('antagonistic', -2), ('enchanted', 2), ('unconcerned', -2), ('strengthening', 2), ('forced', -1), ('strength', 2), ('reassuring', 2), ('responsible', 2), ('isolated', -1), ('impotent', -2), ('elation', 3), ('recommended', 2), ('absorbed', 1), ('laughed', 1), ('enlightens', 2), ('yucky', -2), ('indoctrinate', -2), ('unsecured', -2), ('incapable', -2), ('distracts', -2), ('visionary', 3), ('vexing', -2), ('debonair', 2), ('disjointed', -2), ('relieving', 2), ('sulking', -2), ('exonerate', 2), ('treasonous', -3), ('stupid', -2), ('lifesaver', 4), ('alarm', -2), ('flop', -2), ('solemn', -1), ('demoralized', -2), ('unsophisticated', -2), ('entertaining', 2), ('annoyed', -2), ('marvel', 3), ('pardoned', 2), ('bomb', -1), ('inspire', 2), ('hunger', -2), ('rapture', 2), ('dupe', -2), ('disturbs', -2), ('solutions', 1), ('smog', -2), ('acquit', 2), ('unemployment', -2), ('contagions', -2), ('bliss', 3), ('disgust', -3), ('enslave', -2), ('adequate', 1), ('jailed', -2), ('explorations', 1), ('criticizes', -2), ('stop', -1), ('denounce', -2), ('unfair', -2), ('frowning', -1), ('haunted', -2), ('oversell', -2), ('affronted', -1), ('interrogated', -2), ('angers', -3), ('arrests', -2), ('rescues', 2), ('idiotic', -3), ('enraging', -2), ('heavyhearted', -2), ('bad', -3), ('ban', -2), ('ruins', -2), ('ethical', 2), ('erroneous', -2), ('mandatory', -1), ('disaster', -2), ('fascinating', 3), ('thwarting', -2), ('sincerest', 2), ('horrendous', -3), ('fail', -2), ('disturbing', -2), ('resigned', -1), ('best', 3), ('clarifies', 2), ('pressured', -2), ('green wash', -3), ('meditative', 1), ('hopefully', 2), ('scorn', -2), ('lethargic', -2), ('indecisive', -2), ('lazy', -1), ('rotflol', 4), ('extend', 1), ('admiring', 3), ('felony', -3), ('restricting', -2), ('weak', -2), ('ignorance', -2), ('weary', -2), ('wtf', -4), ('debt', -2), ('improve', 2), ('pity', -2), ('protect', 1), ('accident', -2), ('disdain', -2), ('ill', -2), ('adventures', 2), ('demanded', -1), ('agonise', -3), ('indoctrinating', -2), ('monopolize', -2), ('disappears', -1), ('overstatements', -2), ('peacefully', 2), ('honouring', 2), ('irresponsible', 2), ('greenwashing', -3), ('greenwashers', -3), ('persecuting', -2), ('trust', 1), ('trickery', -2), ('parley', -1), ('condemned', -2), ('victimizing', -3), ('bothers', -2), ('confident', 2), ('startled', -2), ('interest', 1), ('jackass', -4), ('incompetent', -2), ('easy', 1), ('prosperous', 3), ('attacked', -1), ('sunshine', 2), ('excite', 3), ('wowow', 4), ('doubts', -1), ('haters', -3), ('censored', -2), ('cunt', -5), ('gracious', 3), ('distorts', -2), ('inhibit', -1), ('save', 2), ('harms', -2), ('illiteracy', -2), ('roflmao', 4), ('ugly', -3), ('slam', -2), ('stopping', -1), ('murders', -2), ('dehumanizes', -2), ('chilling', -1), ('mistake', -2), ('pessimistic', -2), ('vulnerability', -2), ('congratulation', 2), ('unresearched', -2), ('dumped', -2), ('defeated', -2), ('fakes', -3), ('shame', -2), ('dizzy', -1), ('moping', -1), ('appalling', -2), ('greenwash', -3), ('disappear', -1), ('laughting', 1), ('constrained', -2), ('vindicate', 2), ('misunderstood', -2), ('disparages', -2), ('pardoning', 2), ('damages', -3), ('disparaged', -2), ('naive', -2), ('harming', -2), ('acquitting', 2), ('blames', -2), ('misery', -2), ('tops', 2), ('evil', -3), ('greeted', 1), ('delight', 3), ('consents', 2), ('outmaneuvered', -2), ('jealous', -2), ('opportunity', 2), ('blamed', -2), ('shitty', -3), ('failing', -2), ('inspires', 2), ('greatest', 3), ('detained', -2), ('flops', -2), ('dipshit', -3), ('bereave', -2), ('appease', 2), ('sentence', -2), ('agog', 2), ('envious', -2), ('disguise', -1), ('thanks', 2), ('victim', -3), ('swears', -2), ('resigning', -1), ('yes', 1), ('convivial', 2), ('enlighten', 2), ('rapturous', 4), ('terrific', 4), ('ease', 2), ('assassination', -3), ('passive', -1), ('advanced', 1), ('beloved', 3), ('prison', -2), ('moody', -1), ('expelled', -2), ('threatens', -2), ('mocked', -2), ('insensitive', -2), ('perfects', 2), ('celebrates', 3), ('bastards', -5), ('dreams', 1), ('disadvantage', -2), ('desire', 1), ('gift', 2), ('dishonest', -2), ('disillusioned', -2), ('notorious', -2), ('honored', 2), ('drowned', -2), ('stereotype', -2), ('exonerates', 2), ('proudly', 2), ('dead', -3), ('coziness', 2), ('escape', -1), ('dear', 2), ('prick', -5), ('bore', -2), ('perfected', 2), ('enemies', -2), ('denies', -2), ('congratulate', 2), ('humor', 2), ('combat', -1), ('creative', 2), ('disheartened', -2), ('honoured', 2), ('rebellion', -2), ('denied', -2), ('pollutes', -2), ('polluter', -2), ('beating', -1), ('adorable', 3), ('bamboozle', -2), ('alarmists', -2), ('bold', 2), ('disappeared', -1), ('losing', -3), ('super', 3), ('limitation', -1), ('boycotts', -2), ('derailed', -2), ('attacks', -1), ('accepts', 1), ('choke', -2), ('blithe', 2), ('despair', -3), ('ensure', 1), ('cherish', 2), ('commit', 1), ('disqualified', -2), ('dilemma', -1), ('lied', -2), ('wasting', -2), ('prisoners', -2), ('detention', -2), ('delighted', 3), ('obscene', -2), ('thankful', 2), ('unstable', -2), ('stall', -2), ('frightened', -2), ('strangely', -1), ('annoyance', -2), ('deception', -3), ('support', 2), ('unfocused', -2), ('fight', -1), ('fucking', -4), ('war', -2), ('asset', 2), ('lowest', -1), ('starve', -2), ('underestimated', -1), ('overjoyed', 4), ('forgetful', -2), ('vitality', 3), ('failure', -2), ('underestimates', -1), ('astonished', 2), ('true', 2), ('congratulations', 2), ('injury', -2), ('invincible', 2), ('bargain', 2), ('ruined', -2), ('adore', 3), ('torturing', -4), ('faking', -3), ('propaganda', -2), ('fulfills', 2), ('promises', 1), ('looms', -1), ('disgrace', -2), ('scandalous', -3), ('sinful', -3), ('assassinations', -3), ('soothe', 3), ('promised', 1), ('sprightly', 2), ('pileup', -1), ('annoying', -2), ('shit', -4), ('oversimplification', -2), ('faithful', 3), ('eerie', -2), ('interested', 2), ('looses', -3), ('ambitious', 2), ('confusing', -2), ('misinterpreted', -2), ('denier', -2), ('scream', -2), ('assfucking', -4), ('outreach', 2), ('smile', 2), ('funerals', -1), ('died', -3), ('derail', -2), ('warn', -2), ('apologizing', -1), ('cheated', -3), ('apology', -1), ('restores', 1), ('loyal', 3), ('cheater', -3), ('optionless', -2), ('menaced', -2), ('restored', 1), ('bereaving', -2), ('remarkable', 2), ('drained', -2), ('rob', -2), ('relieve', 1), ('grateful', 3), ('battle', -1), ('polluted', -2), ('devoted', 3), ('soothed', 3), ('misread', -1), ('anticipation', 1), ('praises', 3), ('deceitful', -3), ('honoring', 2), ('disgusting', -3), ('abhorrent', -3), ('amaze', 2), ('praised', 3), ('dissatisfied', -2), ('negativity', -2), ('terror', -3), ('retreat', -1), ('fatigues', -2), ('slash', -2), ('advantage', 2), ('apeshit', -3), ('gloomy', -2), ('mourn', -2), ('fatigued', -2), ('forgiving', 1), ('feeble', -2), ('cool', 1), ('impressive', 3), ('solves', 1), ('die', -3), ('accidentally', -2), ('leave', -1), ('solved', 1), ('excellence', 3), ('denounces', -2), ('unaware', -2), ('attracting', 2), ('prevent', -1), ('brave', 2), ('fearing', -2), ('insignificant', -2), ('sigh', -2), ('obsolete', -2), ('comforting', 2), ('helpless', -2), ('irritated', -3), ('acrimonious', -3), ('rapist', -4), ('self-deluded', -2), ('curse', -1), ('jeopardy', -2), ('celebrated', 3), ('havoc', -2), ('pleased', 3), ('suspect', -1), ('shared', 1), ('falling', -1), ('axed', -1), ('supporting', 1), ('unsure', -1), ('honour', 2), ('funeral', -1), ('victimized', -3), ('envy', -1), ('deceit', -3), ('persecuted', -2), ('oversimplify', -2), ('messing up', -2), ('accomplishes', 2), ('coerced', -2), ('brilliant', 4), ('guilty', -3), ('proud', 2), ('pseudoscience', -3), ('accomplished', 2), ('ineffective', -2), ('weird', -2), ('motherfucking', -5), ('breathtaking', 5), ('charmless', -3), ('love', 3), ('humour', 2), ('hardier', 2), ('bloody', -3), ('marvelous', 3), ('betraying', -3), ('fake', -3), ('scam', -2), ('crisis', -3), ('disguising', -1), ('sympathetic', 2), ('dolorous', -2), ('cherishes', 2), ('homesick', -2), ('unimpressed', -2), ('positive', 2), ('angry', -3), ('resigns', -1), ('cherished', 2), ('loving', 2), ('conciliating', 2), ('riot', -2), ('share', 1), ('swearing', -2), ('downhearted', -2), ('wooo', 4), ('drown', -2), ('dismal', -2), ('degrade', -2), ('douche', -3), ('niggas', -5), ('pretend', -1), ('flu', -2), ('inflamed', -2), ('flagship', 2), ('wanker', -3), ('drags', -1), ('hope', 2), ('growing', 1), ('detached', -1), ('stimulating', 2), ('lighthearted', 1), ('admired', 3), ('dedicated', 2), ('lobbying', -2), ('awesome', 4), ('confused', -2), ('disbelieve', -2), ('hides', -1), ('glamourous', 3), ('chic', 2), ('provoke', -1), ('unlovable', -2), ('validated', 1), ('bankrupt', -3), ('fuming', -2), ('secured', 2), ('agonizing', -3), ('immune', 1), ('misleading', -3), ('endorsement', 2), ('dehumanizing', -2), ('secures', 2), ('unbelievable', -1), ('irrational', -1), ('critics', -2), ('averted', -1), ('disgusted', -3), ('heartbreaking', -3), ('mad', -3), ('improving', 2), ('heroes', 2), ('destructive', -3), ('fraudulence', -4), ('natural', 1), ('disconsolate', -2), ('stupidly', -2), ('amuse', 3), ('nosey', -2), ('thorny', -2), ('youthful', 2), ('deceive', -3), ('offend', -2), ('worsens', -3), ('cute', 2), ('foreclosure', -2), ('shaky', -2), ('wishing', 1), ('unacceptable', -2), ('playful', 2), ('fatalities', -3), ('cuts', -1), ('lovelies', 3), ('irresolute', -2), ('blocked', -1), ('dreading', -2), ('avid', 2), ('thank', 2), ('interesting', 2), ('torn', -2), ('troubles', -2), ('abhorred', -3), ('attraction', 2), ('swindle', -3), ('undermines', -2), ('overreacted', -2), ('lonely', -2), ('accusations', -2), ('captivated', 3), ('devastated', -2), ('reject', -1), ('sarcastic', -2), ('singleminded', -2), ('compelled', 1), ('wealthy', 2), ('bullshit', -4), ('intrigues', 1), ('undermining', -2), ('drop', -1), ('does not work', -3), ('careless', -2), ('vexation', -2), ('snubbed', -2), ('stalling', -2), ('fired', -2), ('crushing', -1), ('yeah', 1), ('breakthrough', 3), ('avoided', -1), ('disasters', -2), ('amusement', 3), ('hysteria', -3), ('giddy', -2), ('accomplish', 2), ('infuriated', -2), ('monopolizes', -2), ('irony', -1), ('agonises', -3), ('worshiped', 3), ('cancels', -1), ('infuriates', -2), ('collisions', -2), ('condemns', -2), ('trauma', -3), ('hacked', -1), ('agonised', -3), ('inaction', -2), ('phobic', -2), ('vicious', -2), ('disrespect', -2), ('felonies', -3), ('advantages', 2), ('crazier', -2), ('ominous', 3), ('care', 2), ('envies', -1), ('disguised', -1), ('collapsing', -2), ('impose', -1), ('honest', 2), ('disguises', -1), ('funky', 2), ('apologising', -1), ('winwin', 3), ('aboard', 1), ('bothersome', -2), ('outcry', -2), ('entrusted', 2), ('neglect', -2), ('blind', -1), ('suspend', -1), ('surviving', 2), ('suspended', -1), ('suing', -2), ('lags', -2), ('agonising', -3), ('ashame', -2), ('rageful', -2), ('monopolizing', -2), ('derision', -2), ('oversimplifies', -2), ('encourages', 2), ('stifled', -1), ('persecute', -2), ('legally', 1), ('oversimplified', -2), ('seduced', -1), ('hug', 2), ('appreciates', 2), ('alas', -1), ('slashed', -2), ('appreciated', 2), ('petrified', -2), ('fuking', -4), ('lmao', 4), ('depressed', -2), ('favors', 2), ('optimism', 2), ('protected', 1), ('happy', 3), ('damned', -4), ('proactive', 2), ('usefulness', 2), ('prospect', 1), ('questionable', -2), ('illness', -2), ('contentious', -2), ('jewels', 1), ('sad', -2), ('conspiracy', -3), ('distorted', -2), ('anger', -3), ('shocked', -2), ('violates', -2), ('defenseless', -2), ('destroy', -3), ('relaxed', 2), ('deniers', -2), ('pain', -2), ('oppressive', -2), ('betrayal', -3), ('suspects', -1), ('insanity', -2), ('unmatched', 1), ('cleared', 1), ('envying', -1), ('lawl', 3), (\"can't stand\", -3), ('steadfast', 2), ('discarding', -1), ('adopt', 1), ('axe', -1), ('cheat', -3), ('infuriate', -2), ('applauding', 2), ('bright', 1), ('scoop', 3), ('aggressive', -2), ('stressor', -2), ('help', 2), ('woow', 4), ('strangled', -2), ('dick', -4), ('robs', -2), ('embittered', -2), ('crime', -3), ('dejecting', -2), ('welcomed', 2), ('tears', -2), ('travesty', -2), ('defenders', 2), ('outrage', -3), ('dreaded', -2), ('dispute', -2), ('rejoiced', 4), ('haplessness', -2), ('satisfied', 2), ('rejoices', 4), ('hailed', 2), ('consolable', 2), ('unethical', -2), ('justified', 2), ('celebrate', 3), ('astounds', 3), ('verdicts', -1), ('wrathful', -3), ('sabotage', -2), ('obliterate', -2), ('imbecile', -3), ('superb', 5), ('worried', -3), ('jokes', 2), ('overreaction', -2), ('spam', -2), ('prevents', -1), ('disparage', -2), ('worrying', -3), ('vision', 1), ('ignored', -2), ('lethargy', -2), ('imposing', -1), ('violated', -2), ('whitewash', -3), ('fucktard', -4), ('dickhead', -4), ('slashing', -2), ('ignores', -1), ('rewarded', 2), ('encouraged', 2), ('fails', -2), ('enlightening', 2), ('fascinated', 3), ('belittled', -2), ('mope', -1), ('enjoys', 2), ('moaned', -2), ('fascinates', 3), ('fearless', 2), ('pained', -2), ('killing', -3), ('blame', -2), ('jovial', 2), ('awards', 3), ('hurts', -2), ('moans', -2), ('spark', 1), ('grieved', -2), ('undermine', -2), ('frisky', 2), ('yeees', 2), ('tout', -2), ('disappointment', -2), ('protesters', -2), ('cornered', -2), ('sulky', -2), ('cancer', -1), ('smartest', 2), ('accusation', -2), ('exploit', -2), ('grants', 1), ('anti', -1), ('cancel', -1), ('perpetrators', -2), ('bizarre', -2), ('panics', -3), ('better', 2), ('screams', -2), ('punishes', -2), ('collides', -1), ('capable', 1), ('swift', 2), ('brainwashing', -3), ('jaunty', 2), ('punished', -2), ('peaceful', 2), ('ruining', -2), ('aggressions', -2), ('shortages', -2), ('blessing', 3), ('mocking', -2), ('unified', 1), ('suspected', -1), ('careful', 2), ('spirit', 1), ('colluding', -3), ('sedition', -2), ('apologised', -1), ('apologises', -1), ('cancelled', -1), ('abducted', -2), ('falsified', -3), ('huckster', -2), ('raptured', 2), ('unsupported', -2), ('sincere', 2), ('oks', 2), ('dubious', -2), ('blah', -2), ('bias', -1), ('embrace', 1), ('raptures', 2), ('ironic', -1), ('engages', 1), ('fame', 1), ('worry', -3), ('resentful', -2), ('harsh', -2), ('dithering', -2), ('granted', 1), ('underestimate', -1), ('weakness', -2), ('struggling', -2), ('favorited', 2), ('applaud', 2), ('boosted', 1), ('intimidation', -2), ('cheers', 2), ('favorites', 2), ('cheery', 3), ('weep', -2), ('complained', -2), ('longing', -1), ('charges', -2), ('amazes', 2), ('disregards', -2), ('no', -1), ('severe', -2), ('solve', 1), ('inability', -2), ('no fun', -3), ('reward', 2), ('amazed', 2), ('charged', -3), ('diffident', -2), ('robing', -2), ('exaggerating', -2), ('pissing', -3), ('kill', -3), ('greetings', 2), ('madness', -3), ('alarmist', -2), ('death', -2), ('clueless', -2), ('deceiving', -3), ('dauntless', 2), ('adventurous', 2), ('disputing', -2), ('mournful', -2), ('joyful', 3), ('starving', -2), ('kills', -3), ('reassured', 1), ('earnest', 2), ('boycotted', -2), ('accepted', 1), ('disappointed', -2), ('vague', -2), ('tremulous', -2), ('distrustful', -3), ('possessive', -2), ('terrorize', -3), ('endorses', 2), ('greeting', 1), ('miracle', 4), ('discarded', -1), ('benefit', 2), ('laughing', 1), ('dirtier', -2), ('passionate', 2), ('endorsed', 2), ('burdens', -2), ('hysterics', -3), ('exposed', -1), ('pushy', -1), ('short-sightedness', -2), ('slavery', -3), ('exposes', -1), ('intact', 2), ('gross', -2), ('noob', -2), ('douchebag', -3), ('slick', 2), ('legal', 1), ('deficit', -2), ('restoring', 1), ('apocalyptic', -2), ('destroys', -3), ('biased', -2), ('welcome', 2), ('racism', -3), ('sadden', -2), ('lmfao', 4), ('indestructible', 2), ('stereotyped', -2), ('exultantly', 3), ('disparaging', -2), ('broken', -1), ('stops', -1), ('exciting', 3), ('fondness', 2), ('joyfully', 3), ('contagion', -2), ('zealous', 2), ('smear', -2), ('cares', 2), ('favorite', 2), ('tumor', -2), ('boldly', 2), ('scornful', -2), ('masterpieces', 4), ('perturbed', -2), ('protests', -2), ('lively', 2), ('apologize', -1), ('annoys', -2), ('empathetic', 2), ('loathed', -3), ('innovates', 1), ('exonerated', 2), ('totalitarian', -2), ('betrays', -3), ('lol', 3), ('mindless', -2), ('racist', -3), ('futile', 2), ('decisive', 1), ('hysterical', -3), ('allergic', -2), ('ranters', -3), ('exasperated', 2), ('mischief', -1), ('mourns', -2), ('vested', 1), ('unsettled', -1), ('stressors', -2), ('delayed', -1), ('strikes', -1), ('sophisticated', 2), ('fascists', -2), ('promote', 1), ('irreversible', -1), ('abused', -3), ('fraud', -4), ('rage', -2), ('overreacts', -2), ('resolving', 2), ('treasure', 2), ('dirty', -2), ('abuses', -3), ('ennui', -2), ('deadlock', -2), ('agree', 1), ('affection', 3), ('illnesses', -2), ('leaked', -1), ('fright', -2), ('exhausted', -2), ('certain', 1), ('bamboozled', -2), ('censor', -2), ('tranquil', 2), ('amused', 3), ('bamboozles', -2), ('casualty', -2), ('selfish', -3), ('strikers', -2), ('pensive', -1), ('idiot', -3), ('conflictive', -2), ('short-sighted', -2), ('undermined', -2), ('fools', -2), ('dismayed', -2), ('victimize', -3), ('gaining', 2), ('obsessed', 2), ('overreact', -2), ('important', 2), ('fresh', 1), ('mourned', -2), ('applause', 2), ('apathy', -3), ('not working', -3), ('fraudulent', -4), ('doubted', -1), ('restricted', -2), ('burdening', -2), ('liar', -3), ('forget', -1), ('vile', -3), ('lack', -2), ('pique', -2), ('thoughtful', 2), ('sappy', -1), ('dreadful', -3), ('catastrophe', -3), ('opportunities', 2), ('riots', -2), ('revengeful', -2), ('robber', -2), ('remorse', -2), ('enjoying', 2), ('restrict', -2), ('distorting', -2), ('libelous', -2), ('infringement', -2), ('carefree', 1), ('saved', 2), ('crestfallen', -2), ('fan', 3), ('rape', -4), ('awful', -3), ('robed', -2), ('fag', -3), ('fad', -2), ('elated', 3), ('heaven', 2), ('misinformation', -2), ('fearful', -2), ('liars', -3), ('mistaking', -2), ('enrapture', 3), ('son-of-a-bitch', -5), ('methodical', 2), ('vivacious', 3), ('appreciating', 2), ('apologizes', -1), ('darkness', -1), ('skeptic', -2), ('disruptions', -2), ('zealots', -2), ('overload', -1), ('crush', -1), ('apologized', -1), ('undecided', -1), ('starved', -2), ('falsify', -3), ('escaping', -1), ('unprofessional', -2), ('loose', -3), ('overstatement', -2), ('motherfucker', -5), ('rigged', -1), ('disastrous', -3), ('hopelessness', -2), ('yummy', 3), ('strong', 2), ('untarnished', 2), ('tragedy', -2), ('cock', -5), ('inspired', 2), ('masterpiece', 4), ('horrified', -3), ('gleeful', 3), ('heartbroken', -3), ('murdering', -3), ('dehumanized', -2), ('whimsical', 1), ('cowardly', -2), ('snub', -2), ('deject', -2), ('irritate', -3), ('wavering', -1), ('promoting', 1), ('fraudster', -4), ('hurrah', 5), ('inquisition', -2), ('diamond', 1), ('brisk', 2), ('problem', -2), ('excuse', -1), ('broke', -1), ('retained', -1), ('doom', -2), ('glad', 3), ('unfulfilled', -2), ('offender', -2), ('sucks', -3), ('offended', -2), ('abandon', -2), ('beautiful', 3), ('stubborn', -2), ('embarrassing', -2), ('virtuous', 2), ('neglected', -2), ('accept', 1), ('boycott', -2), ('collision', -2), ('protects', 1), ('exclude', -1), ('condemn', -2), ('unappreciated', -2), ('huge', 1), ('prosecution', -1), ('obnoxious', -3), ('calms', 2), ('awkward', -2), ('terribly', -3), ('needy', -2), ('comfort', 2), ('ratified', 2), ('abhors', -3), ('hugs', 2), ('peril', -2), ('controversially', -2), ('disgraced', -2), ('questioning', -1), ('adventure', 2), ('numb', -1), ('hooliganism', -2), ('refuse', -2), ('criticize', -2), ('n00b', -2), ('spiteful', -2), ('wishes', 1), ('dread', -2), ('deafening', -1), ('pay', -1), ('pleasure', 3), ('dream', 1), ('enslaved', -2), ('heartfelt', 3), ('outraged', -3), ('committed', 1), ('hell', -4), ('smiling', 2), ('suffer', -2), ('trouble', -2), ('arrogant', -2), ('messed', -2), ('pray', 1), ('solving', 1), ('averts', -1), ('bummer', -2), ('nifty', 2), ('fool', -2), ('hurting', -2), ('good', 3), ('motivated', 2), ('abandons', -2), ('fuckface', -4), ('moaning', -2), ('belittle', -2), ('complain', -2), ('desperately', -3), ('slicker', 2), ('imprisoned', -2), ('scumbag', -4), ('bless', 2), ('stopped', -1), ('reassures', 1), ('shocking', -2), ('disorganized', -2), ('neglects', -2), ('harm', -2), ('shock', -2), ('restless', -2), ('noble', 2), ('resolute', 2), ('hard', -1), ('oppressed', -2), ('gun', -1), ('punitive', -2), ('deride', -2), ('suspecting', -1), ('seditious', -2), ('gullible', -2), ('missed', -2), ('ftw', 3), ('miss', -2), ('childish', -2), ('disquiet', -2), ('jolly', 2), ('safety', 1), ('paradise', 3), ('offline', -1), ('ass', -4), ('nervously', -2), ('warm', 1), ('bully', -2), ('pathetic', -2), ('dirt', -2), ('favored', 2), ('commits', 1), ('forgive', 1), ('pleasant', 3), ('brightest', 2), ('dire', -3), ('backed', 1), ('hapless', -2), ('heroic', 3), ('disadvantaged', -2), ('benefits', 2), ('stampede', -2), ('success', 2), ('cheering', 2), ('threat', -2), ('fallen', -2), ('top', 2), ('unhealthy', -2), ('stabs', -2), ('contender', -1), ('disregarded', -2), ('shameful', -2), ('sympathy', 2), ('humourous', 2), ('defects', -3), ('totalitarianism', -2), ('touting', -2), ('bullied', -2), ('validate', 1), ('regret', -2), ('moan', -2), ('kinder', 2), ('threatening', -2), ('revive', 2), ('wonderful', 4), ('shamed', -2), ('dumbass', -3), ('imperfect', -2), ('rescue', 2), ('relieved', 2), ('convinces', 1), ('appreciation', 2), ('luckily', 3), ('treasures', 2), ('convinced', 1), ('grace', 1), ('relieves', 1), ('kind', 2), ('picturesque', 2), ('disrespected', -2), ('grey', -1), ('spirited', 2), ('hooligans', -2), ('risks', -2), ('insulted', -2), ('restful', 2), ('sentenced', -2), ('cleaner', 2), ('motivation', 1), ('outstanding', 5), ('strengthen', 2), ('suspicious', -2), ('defect', -3), ('rewards', 2), ('sentences', -2), ('blissful', 3), ('vulnerable', -2), ('misrepresentation', -2), ('speculative', -2), ('trapped', -2), ('lackadaisical', -2), ('applauded', 2), ('aggravating', -2), ('serene', 2), ('contestable', -2), ('frauds', -4), ('approves', 2), ('inconvenience', -2), ('reach', 1), ('charm', 3), ('significant', 1), ('accepting', 1), ('boycotting', -2), ('approved', 2), ('funnier', 4), ('unequal', -1), ('squelched', -1), ('once-in-a-lifetime', 3), ('clear', 1), ('greenwasher', -3), ('clean', 2), ('hindrance', -2), ('fainthearted', -2), ('amusements', 3), ('dragged', -1), ('dodging', -2), ('stunned', -2), ('agonize', -3), ('fond', 2), ('degrades', -2), ('aghast', -2), ('dejects', -2), ('shares', 1), ('carefully', 2), ('defender', 2), ('degraded', -2), ('fine', 2), ('distressing', -2), ('aggravate', -2), ('justice', 2), ('nervous', -2), ('ruin', -2), ('unhappy', -2), ('penalty', -2), ('failed', -2), ('betray', -3), ('pretty', 1), ('indifference', -2), ('devastate', -2), ('gains', 2), ('banned', -2), ('revered', 2), ('courage', 2), ('hid', -1), ('pretending', -1), ('damnit', -4), ('frightening', -3), ('distraction', -2), ('enemy', -2), ('resolve', 2), ('contagious', -1), ('boost', 1), ('disregarding', -2), ('violent', -3), ('thwarts', -2), ('mistakes', -2), ('withdrawal', -3), ('poisoned', -2), ('courteous', 2), ('relentless', -1), ('repulsed', -2), ('insane', -2), ('cramp', -1), ('dump', -1), ('dumb', -3), ('tender', 2), ('threats', -2), ('wow', 4), ('please', 1), ('rejecting', -1), ('woo', 3), ('determined', 2), ('right direction', 3), ('silly', -1), ('piss', -4), ('cancelling', -1), ('vindicated', 2), ('na\\xc3\\xafve', -2), ('hardship', -2), ('fidgety', -2), ('intimidated', -2), ('persecutes', -2), ('unstoppable', 2), ('vindicates', 2), ('fatality', -3), ('betrayed', -3), ('intimidates', -2), ('prospects', 1), ('improved', 2), ('adores', 3), ('influential', 2), ('offending', -2), ('chastising', -3), ('timorous', -2), ('adored', 3), ('improves', 2), ('scams', -2), ('forgotten', -1), ('poverty', -1), ('cynic', -2), ('faggots', -3), ('liked', 2), ('distress', -2), ('drunk', -2), ('sweet', 2), ('stuck', -2), ('rofl', 4), ('alone', -2), ('eviction', -1), ('likes', 2), ('vindicating', 2), ('improvement', 2), ('worthless', -2), ('victimizes', -3), ('some kind', 0), ('dud', -2), ('damn', -4), ('threaten', -2), ('empty', -1), ('affectionate', 3), ('fire', -2), ('cruelty', -3), ('disruptive', -2), ('misbehaving', -2), ('demand', -1), ('gag', -2), ('poised', -2), ('loom', -1), ('misunderstands', -2), ('solid', 2), ('postponing', -1), ('straight', 1), ('cashing in', -2), ('terrorizes', -3), ('admire', 3), ('healthy', 2), ('fud', -3), ('substantial', 1), ('error', -2), ('fun', 4), ('flees', -1), ('walkouts', -2), ('costly', -2), ('hoping', 2), ('backing', 2), ('overlooked', -1), ('astound', 3), ('hoax', -2), ('obstacle', -2), ('frantic', -1), ('beautifully', 3), ('rig', -1), ('anguish', -3), ('funny', 4), ('unworthy', -2), ('stimulates', 1), ('choking', -2), ('grant', 1), ('perpetrator', -2), ('engrossed', 1), ('stimulated', 1), ('madly', -3), ('grand', 3), ('esteemed', 2), ('itchy', -2), ('conflict', -2), ('displeased', -2), ('absentees', -1), ('praising', 3), ('comprehensive', 2), ('overweight', -1), ('alert', -1), ('absolved', 2), ('haunting', 1), ('robust', 2), ('timid', -2), ('starves', -2), ('cocksuckers', -5), ('regretting', -2), ('cheer', 2), ('inspirational', 2), ('clears', 1), ('absolving', 2), ('appalled', -2), ('abilities', 2), ('exploits', -2), ('reliant', 2), ('competitive', 2), ('exonerating', 2), ('cocky', -2), ('vigilant', 3), ('useful', 2), ('praying', 1), ('cut', -1), ('hated', -3), ('eager', 2), ('questioned', -1), ('crying', -2), ('eery', -2), ('excited', 3), ('hates', -3), ('useless', -2), ('motivating', 2), ('complains', -2), ('emergency', -2), ('demands', -1), ('big', 1), ('joyless', -2), ('condemnation', -2), ('rotflmfao', 4), ('matters', 1), ('suffering', -2), ('dearly', 3), ('like', 2), ('skeptical', -2), ('worsening', -3), ('imposed', -1), ('lost', -3), ('sincerely', 2), ('ignore', -1), ('distrust', -3), ('imposes', -1), ('provoking', -1), ('vibrant', 3), ('popular', 3), ('mediocrity', -3), ('foolish', -2), ('disorder', -2), ('humorous', 2), ('goddamn', -3), ('unloved', -2), ('disinclined', -2), ('urgent', -1), ('strongest', 2), ('loser', -3), ('selfishness', -3), ('curious', 1), ('irresistible', 2), ('prosecutes', -1), ('collapses', -2), ('visioning', 1), ('warnings', -3), ('thrilled', 5), ('stingy', -2), ('prosecuted', -2), ('innovation', 1), ('apathetic', -3), ('jumpy', -1), ('swiftly', 2), ('hypocritical', -2), ('agreement', 1), ('refused', -2), ('looming', -1), ('ache', -2), ('intense', 1), ('unconfirmed', -1), ('faith', 1), ('cautious', -1), ('discontented', -2), ('worse', -3), ('exaggerated', -2), ('firing', -2), ('stricken', -2), ('greets', 1), ('hahahah', 3), ('block', -1), ('exaggerates', -2), ('abusive', -3), ('nonsense', -2), ('awaited', -1), ('piteous', -2), ('colliding', -1), ('risk', -2), ('calming', 2), ('impressed', 3), ('infuriating', -2), ('sneaky', -1), ('infected', -2), ('grave', -2), ('impresses', 3), ('bored', -2), ('insensitivity', -2), ('invite', 1), ('collapsed', -2), ('audacious', 3), ('undeserving', -2), ('delighting', 3), ('alive', 1), ('hopes', 2), ('dull', -2), ('gallantry', 3), ('redeemed', 2), ('exploration', 1), ('mature', 2), ('highlight', 2), ('validates', 1), ('wicked', -2), ('repulse', -1), ('genial', 3), ('devastating', -2), ('haunt', -1), ('warning', -3), ('denying', -2), ('disappoints', -2), ('rainy', -1), ('sullen', -2), ('paradox', -1), ('peace', 2), ('backs', 1), ('tard', -2), ('preventing', -1), ('tits', -2), ('unequaled', 2), ('mock', -2), ('nice', 3), ('smiles', 2), ('scapegoat', -2), ('energetic', 2), ('accidental', -2), ('scandals', -3), ('problems', -2), ('resign', -1), ('prepared', 1), ('helping', 2), ('drag', -1), ('smiled', 2), ('worsened', -3), ('suffers', -2), ('downcast', -2), ('rescued', 2), ('humiliated', -3), ('attacking', -1), ('impatient', -2), ('bribe', -3), ('ignorant', -2), ('menace', -2), ('avoid', -1), ('discards', -1), ('rants', -3), ('cheerful', 2), ('infatuation', 2), ('intricate', 2), ('screwed up', -3), ('spamming', -2), ('suave', 2), ('expelling', -2), ('obstinate', -2), ('helps', 2), ('excluded', -2), ('stable', 2), ('dislike', -2), ('friendly', 2), ('enslaves', -2), ('chagrined', -2), ('murderous', -3), ('torture', -4), ('slickest', 2), ('manipulated', -1), ('accuse', -2), ('abduction', -2), ('cover-up', -3), ('compassionate', 2), ('anxious', -2), ('verdict', -1), ('jerk', -3), ('comforts', 2), ('unsatisfied', -2), ('calmed', 2), ('chastise', -3), ('uncomfortable', -2), ('exuberant', 4), ('ardent', 1), ('manipulating', -1), ('odd', -2), ('mischiefs', -1), ('appeased', 2), ('appeases', 2), ('melancholy', -2), ('upsetting', -2), ('misgiving', -2), ('desired', 2), ('focused', 2), ('sexy', 3), ('enterprising', 1), ('irritating', -3), ('great', 3), ('engage', 1), ('survivor', 2), ('uneasy', -2), ('distressed', -2), ('haunts', -1), ('fuked', -4), ('honor', 2), ('distresses', -2), ('panicked', -3), ('danger', -2), ('win', 4), ('terrified', -3), ('apprehensive', -2), ('crazy', -2), ('offends', -2), ('hardy', 2), ('scandal', -3), ('droopy', -2), ('confidence', 2), ('cheered', 2), ('crap', -3), ('illegal', -3), ('doubt', -1), ('weeping', -2), ('bitterly', -2), ('agreeable', 2), ('noisy', -1), ('clever', 2), ('rich', 2), ('fuck', -4), ('impress', 3), ('charming', 3), ('sore', -1), ('unbelieving', -1), ('ashamed', -2), ('disabling', -1), ('duped', -2), ('annoy', -2), ('challenge', -1), ('critic', -2), ('benefitting', 2), ('walkout', -2), ('recession', -2), ('praise', 3), ('fulfill', 2), ('violence', -3), ('admires', 3), ('escapes', -1), ('effectively', 2), ('wowww', 4), ('contempt', -2), ('hesitate', -2), ('united', 1), ('daring', 2), ('despairs', -3), ('destroying', -3), ('buoyant', 2), ('rejoicing', 4), ('struggles', -2), ('humerous', 3), ('fortunate', 2), ('delay', -1), ('fearsome', -2), ('justifiably', 2), ('struggled', -2), ('comedy', 1), ('intelligent', 2), ('tension', -1), ('blocks', -1), ('incompetence', -2), ('await', -1), ('bothered', -2), ('perjury', -3), ('abuse', -3), ('fatigue', -2), ('solidarity', 2), ('criticized', -2), ('dont like', -2), ('lame', -2), ('interrupted', -2), ('trembling', -2), ('acquitted', 2), ('prays', 1), ('allow', 1), ('classy', 3), ('furious', -3), ('beauties', 3), ('widowed', -1), ('doubtful', -1), ('nasty', -3), ('boosts', 1), ('perfect', 3), ('superior', 2), ('exclusion', -1), ('glee', 3), ('winning', 4), ('revives', 2), ('stalled', -2), ('criminal', -3), ('violating', -2), ('crash', -2), ('greater', 3), ('commended', 2), ('cutting', -1), ('twat', -5), ('kiss', 2), ('terrible', -3), ('admonished', -2), ('panic', -3), ('mirthful', 3), ('expels', -2), ('trap', -1), ('incapacitated', -2), ('disregard', -2), ('cry', -1), ('thwart', -2), ('aggravates', -2), ('aggravated', -2), ('burdened', -2), ('incensed', -2), ('fraudsters', -4), ('blesses', 2), ('gallant', 3), ('chaos', -2), ('fascist', -2), ('hilarious', 2), ('postpone', -1), ('supports', 2), ('despairing', -3), ('jackasses', -4), ('shortage', -2), ('greedy', -2), ('loomed', -1), ('conflicts', -2), ('embarrass', -2), ('shrew', -4), ('scary', -2), ('hostile', -2), ('steal', -2), ('keen', 1), ('sleeplessness', -2), ('sorrowful', -2), ('scare', -2), ('distracted', -2), ('embarrasses', -2), ('pitied', -1), ('confuse', -2), ('reaches', 1), ('jesus', 1), ('embarrassed', -2), ('mocks', -2), ('bitch', -5), ('lagging', -2), ('foreclosures', -2), ('reached', 1), ('suck', -3), ('unapproved', -2), ('salient', 1), ('sadly', -2), ('cynical', -2), ('fuckers', -4), ('silencing', -1), ('attack', -1), ('exhilarating', 3), ('perfectly', 3), ('misinformed', -2), ('adopts', 1), ('interests', 1), ('craziest', -2), ('chagrin', -2), ('punish', -2), ('doomed', -2), ('apologise', -1), ('dreary', -2), ('innovate', 1), ('depressing', -2), ('applauds', 2), ('manipulation', -1), ('astounded', 3), ('loved', 3), ('glamorous', 3), ('warfare', -2), ('boring', -3), ('bother', -2), ('tortured', -4), ('swindles', -3), ('tortures', -4), ('pretends', -1), ('misunderstand', -2), ('accusing', -2), ('thwarted', -2), ('woebegone', -2), ('poisons', -2), ('comfortable', 2), ('recommends', 2), ('sincerity', 2), ('miserable', -3), ('blockbuster', 3), ('demonstration', -1), ('clearly', 1), ('bastard', -5), ('afraid', -2), ('congrats', 2), ('boastful', -2), ('battles', -1), ('provokes', -1), ('skeptics', -2), ('provoked', -1), ('asshole', -4), ('underestimating', -1), ('snubs', -2), ('alienation', -2), ('clash', -2), ('prblm', -2), ('disappointments', -2), ('harmful', -2), ('courtesy', 2), ('prisoner', -2), ('alarmed', -2), ('medal', 3), ('fervent', 2), ('fair', 2), ('deny', -2), ('enthusiastic', 3), ('stronger', 2), ('fiasco', -3), ('contemptuous', -2), ('survived', 2), ('exclusive', 2), ('chances', 2), ('sceptical', -2), ('agreed', 1), ('supported', 2), ('beatific', 3), ('fear', -2), ('darkest', -2), ('agrees', 1), ('litigation', -1), ('inspiring', 3), ('conciliate', 2), ('winner', 4), ('hopeful', 2), ('rash', -2), ('won', 3), ('fatiguing', -2), ('inferior', -2), ('indignant', -2), ('prosecute', -1), ('doubting', -1), ('harmed', -2), ('lucky', 3), ('exultant', 3), ('dodgy', -2), ('marvels', 3), ('spammers', -3), ('gray', -1), ('deceives', -3), ('shy', -1), ('dejected', -2), ('wish', 1), ('thoughtless', -2), ('deceived', -3), ('strengthened', 2), ('accuses', -2), ('humiliation', -3), ('expel', -2), ('catastrophic', -4), ('yearning', 1), ('accused', -2), ('triumphant', 4), ('desperate', -3), ('zealot', -2), ('awaits', -1), ('exploited', -2), ('wealth', 3), ('insulting', -2), ('cheaters', -3), ('invulnerable', 2), ('frustrates', -2), ('green washing', -3), ('favor', 2), ('beautify', 3), ('injustice', -2), ('horrible', -3), ('progress', 2), ('harsher', -2), ('frustrated', -2), ('subversive', -2), ('fed up', -3), ('ability', 2), ('importance', 2), ('joy', 3), ('sorrow', -2), ('regretful', -2), ('vitamin', 1), ('embarrassment', -2), ('merry', 3), ('approval', 2), ('poorer', -2), ('lawsuit', -2), ('absentee', -1), ('direful', -3), ('limits', -1), ('joke', 2), ('powerless', -2), ('fulfilled', 2), ('admit', -1), ('deriding', -2), ('safely', 1), ('glorious', 2), ('unclear', -1), ('commend', 2), ('competent', 2), ('laugh', 1), ('cynicism', -2), ('suicide', -2), ('validating', 1), ('pissed', -4), ('waste', -1), ('chastised', -3), ('perplexed', -2), ('harshest', -2), ('interrupts', -2), ('spammer', -3), ('ensuring', 1), ('tense', -2), ('chastises', -3), ('swindling', -3), ('piqued', -2), ('banish', -1), ('novel', 2), ('toothless', -2), ('abandoned', -2), ('intimidate', -2), ('irate', -3), ('promotes', 1), ('stunning', 4), ('hahaha', 3), ('promoted', 1), ('frustrating', -2), ('loathes', -3), ('agonized', -3), ('chaotic', -2), ('unintelligent', -2), ('encouragement', 2), ('respected', 2), ('optimistic', 2), ('agonizes', -3), ('whore', -4), ('lunatic', -3), ('unbiased', 2), ('maddening', -3), ('defiant', -1), ('romance', 2), ('strange', -1), ('smarter', 2), ('privileged', 2), ('difficult', -1), ('injured', -2), ('conflicting', -2), ('spiritless', -2), ('overselling', -2), ('retarded', -2), ('fucker', -4), ('bullying', -2), ('discredited', -2), ('discouraged', -2), ('fucked', -4), ('skepticism', -2), ('lobby', -2), ('expand', 1), ('destruction', -3), ('retard', -2), ('frikin', -2), ('discounted', -1), ('fascinate', 3), ('obstacles', -2), ('disoriented', -2), ('enrage', -2), ('failures', -2), ('drowns', -2), ('restore', 1), ('stout', 2), ('cried', -2), ('discord', -2), ('mumpish', -2), ('misbehaves', -2), ('mistaken', -2), ('cries', -2), ('glum', -2), ('misbehaved', -2), ('happiness', 3), ('afflicted', -1), ('generous', 2), ('terrorized', -3), ('passively', -1), ('killed', -3), ('arrest', -2), ('extends', 1), ('roflcopter', 4), ('exempt', -1), ('despondent', -3), ('indignation', -2), ('smart', 1), ('clouded', -1), ('resolved', 2), ('increased', 1), ('myth', -1), ('crushed', -2), ('virulent', -2), ('livid', -2), ('mirthfully', 3), ('burden', -2), ('resolves', 2), ('crushes', -1), ('woeful', -3), ('prominent', 2), ('loss', -3), ('racists', -3), ('helpful', 2), ('inviting', 1), ('inquisitive', 2), ('exploiting', -2), ('admitted', -1), ('warned', -2), ('nerves', -1), ('poor', -2), ('scared', -2), ('hail', 2), ('immortal', 2), ('growth', 2), ('supportive', 2), ('neglecting', -2), ('hesitant', -2), ('leak', -1), ('corpse', -1), ('anguished', -3), ('rewarding', 2), ('woohoo', 3), ('screwed', -2), ('worsen', -3), ('blurry', -2), ('benefitted', 2), ('murderer', -2), ('reaching', 1), ('hooligan', -2), ('chokes', -2), ('slut', -5), ('pressure', -1), ('uptight', -2), ('worthy', 2), ('scapegoats', -2), ('choked', -2), ('frustrate', -2), ('hiding', -1), ('gained', 2), ('inconsiderate', -2), ('visions', 1), ('freedom', 2), ('swear', -2), ('discard', -1), ('contending', -1), ('obliterated', -2), ('commitment', 2), ('screamed', -2), ('promise', 1), ('badass', -3), ('acquits', 2), ('rejoice', 4), ('lagged', -2), ('indoctrinates', -2), ('awarded', 3), ('stamina', 2), ('restricts', -2), ('frustration', -2), ('indoctrinated', -2), ('relishing', 2), ('touted', -2), ('abductions', -2), ('bitches', -5), ('not good', -2), ('blaming', -2), ('admonish', -2), ('fuckhead', -4), ('gain', 2), ('contemptuously', -2), ('ha', 2), ('assets', 2), ('lovely', 3), ('glory', 2), ('protesting', -2), ('distract', -2), ('warmth', 2), ('excitement', 3), ('cruel', -3), ('convince', 1), ('delights', 3), ('gagged', -2), ('gullibility', -2), ('faggot', -3), ('strengthens', 2), ('horrific', -3), ('intimidating', -2), ('inadequate', -2), ('meaningless', -2), ('upsets', -2), ('goodness', 3), ('authority', 1), ('infatuated', 2), ('immobilized', -1), ('detain', -2), ('sick', -2), ('gallantly', 3), ('reckless', -2), ('derails', -2), ('profiteer', -2), ('ecstatic', 4), ('traumatic', -3), ('treason', -3), ('astounding', 3), ('insults', -2), ('chance', 2), ('stab', -2), ('animosity', -2), ('godsend', 4), ('inspiration', 2), ('ghost', -1), ('insipid', -2), ('bereaves', -2), ('jewel', 1), ('disconsolation', -2), ('accidents', -2), ('expands', 1), ('abhor', -3), ('bereaved', -2)]\n"
     ]
    }
   ],
   "source": [
    "afinnfile = open(\"AFINN-111.txt\")\n",
    "scores = {} # initialize an empty dictionary\n",
    "for line in afinnfile:\n",
    "  term, score  = line.split(\"\\t\")  # The file is tab-delimited. \"\\t\" means \"tab character\"\n",
    "  scores[term] = int(score)  # Convert the score to an integer.\n",
    "\n",
    "print scores.items() # Print every (term, score) pair in the dictionary"
   ]
  },
  {
   "cell_type": "code",
   "execution_count": 15,
   "metadata": {
    "collapsed": false
   },
   "outputs": [],
   "source": [
    "import json\n",
    "tweet_file= open('problem_1_submission.txt', 'r')"
   ]
  },
  {
   "cell_type": "code",
   "execution_count": 10,
   "metadata": {
    "collapsed": false
   },
   "outputs": [
    {
     "data": {
      "text/plain": [
       "<open file 'problem_1_submission.txt', mode 'r' at 0x00000000034C7270>"
      ]
     },
     "execution_count": 10,
     "metadata": {},
     "output_type": "execute_result"
    }
   ],
   "source": [
    "tweet_file"
   ]
  },
  {
   "cell_type": "code",
   "execution_count": 35,
   "metadata": {
    "collapsed": false
   },
   "outputs": [],
   "source": [
    "tweetScores= []#Initialize list of total score per tweet\n",
    "\n",
    "tweet_index= 0#Initialize a counter to keep track of tweet we're on\n",
    "for line2 in tweet_file:\n",
    "    try:#We'll try our entire process for all objects that are tweets and not 'delete' objects (which have no 'text' field)\n",
    "        tweet_index= tweet_index+1\n",
    "        dataDict= json.loads(line2)#Loads first 'line2', which is actually the first json object\n",
    "        #print 'Tweet index:', tweet_index, ',', 'Tweet text: '#, dataDict['text']\n",
    "        tweet= dataDict['text'].split()#Split text object into a list of terms\n",
    "        print tweet\n",
    "        \n",
    "        tweetList= []#Initialize list of scores for tweet \n",
    "        sumTweet= []#Initialize sum variable\n",
    "        for i in range(0,len(tweet)):#For item in list, if it is in dictionary, append value/score (from key:value pair) to tweetList. If not, append a 0 value instead\n",
    "            if tweet[i].encode('utf-8').strip() in scores.keys():\n",
    "                 tweetList.append(scores[tweet[i]])\n",
    "            else:\n",
    "                tweetList.append(0)\n",
    "        sumTweet= sum(tweetList)#Add scores of all terms in tweet\n",
    "        tweetScores.append(sumTweet)\n",
    "        print sumTweet#'Tweet score: ', sumTweet#Append this total score to a list with combined scores for all tweets\n",
    "    except:#If not, then:\n",
    "        print 'Has no text, skip entry'\n",
    "        continue\n",
    "    \n",
    "    #==\n",
    "    #The following is not relevant anymore since it prints out 0 as length (reason is we finished reading file so by this point there are no more lines left)\n",
    "    #lines(sent_file)\n",
    "    #lines(tweet_file)\n",
    "    #print 'Our final score table for the tweets is: ', tweetScores"
   ]
  },
  {
   "cell_type": "code",
   "execution_count": null,
   "metadata": {
    "collapsed": false
   },
   "outputs": [],
   "source": []
  },
  {
   "cell_type": "code",
   "execution_count": 30,
   "metadata": {
    "collapsed": false
   },
   "outputs": [
    {
     "name": "stdout",
     "output_type": "stream",
     "text": [
      "None\n"
     ]
    }
   ],
   "source": []
  },
  {
   "cell_type": "code",
   "execution_count": 16,
   "metadata": {
    "collapsed": false
   },
   "outputs": [],
   "source": [
    "def term_list(tweet_file):\n",
    "    '''This function will open a tweet file, split the content of each \n",
    "    tweets text into a list and append the lists of multiple lists into a master list '''\n",
    "    \n",
    "    #output= open(tweet_file, 'r')\n",
    "    tweet_index= 0#Initialize a counter to keep track of tweet we're on\n",
    "    total_terms= []\n",
    "    for line in tweet_file:\n",
    "        try:#We'll try our entire process for all objects that are tweets and not 'delete' objects (which have no 'text' field)\n",
    "            #print 'working'\n",
    "            tweet_index= tweet_index+1\n",
    "            dataDict= json.loads(line)#Loads first 'line2', which is actually the first json object\n",
    "            tweet= dataDict['text'].split()#Split text object into a list of terms            \n",
    "            total_terms.append(tweet)\n",
    "            \n",
    "        except:#If not, then:\n",
    "            print 'Has no text, skip entry'\n",
    "            continue\n",
    "    #Append tweet lists to a larger list (as long as they're larger than one character)\n",
    "    one_list= [item.encode('utf-8') for sublist1 in total_terms for item in sublist1 if len(item)>1]\n",
    "    return one_list"
   ]
  },
  {
   "cell_type": "code",
   "execution_count": 17,
   "metadata": {
    "collapsed": false
   },
   "outputs": [
    {
     "name": "stdout",
     "output_type": "stream",
     "text": [
      "Has no text, skip entry\n",
      "Has no text, skip entry\n",
      "Has no text, skip entry\n"
     ]
    },
    {
     "data": {
      "text/plain": [
       "[\"it's\",\n",
       " 'good',\n",
       " 'having',\n",
       " 'kuya',\n",
       " 'around,',\n",
       " 'medyo',\n",
       " 'nakakawala',\n",
       " 'ng',\n",
       " 'lungkot.',\n",
       " '@piraco75@MarkGKirshnerCuando',\n",
       " 'un',\n",
       " '\\xe2\\x9d\\xa4es',\n",
       " 'herido,es',\n",
       " 'dif\\xc3\\xadcil',\n",
       " 'confortarlo,',\n",
       " 'siempre',\n",
       " 'habr\\xc3\\xa1',\n",
       " 'un',\n",
       " 'nuevo',\n",
       " 'amanecer',\n",
       " 'un',\n",
       " 'nuevo',\n",
       " 'amor\\xe2\\x9d\\xa4',\n",
       " 'https://t.co/grq1lbfwjp',\n",
       " 'https://t.co/kMes28OUhn',\n",
       " '\\xe6\\xba\\x80\\xe9\\x96\\x8b\\xf0\\x9f\\x8c\\xb8\\xf0\\x9f\\x8c\\xb8\\xf0\\x9f\\x8c\\xb8\\xf0\\x9f\\x8c\\xb8\\xf0\\x9f\\x8c\\xb8\\xf0\\x9f\\x8c\\xb8\\xf0\\x9f\\x8c\\xb8',\n",
       " 'https://t.co/QO7OtAbsnZ',\n",
       " 'RT',\n",
       " '@Scra_15:',\n",
       " 'Recuerdos',\n",
       " 'felices',\n",
       " 'que',\n",
       " 'en',\n",
       " 'mi',\n",
       " 'mente',\n",
       " 'siempre',\n",
       " 'perduraran',\n",
       " '\\xd9\\x85\\xd9\\x86',\n",
       " '\\xd9\\x83\\xd8\\xa7\\xd9\\x86',\n",
       " '\\xd8\\xa2\\xd8\\xae\\xd8\\xb1',\n",
       " '\\xd9\\x83\\xd9\\x84\\xd8\\xa7\\xd9\\x85\\xd9\\x87',\n",
       " '\\xd9\\x84\\xd8\\xa7',\n",
       " '\\xd8\\xa5\\xd9\\x84\\xd9\\x87',\n",
       " '\\xd8\\xa5\\xd9\\x84\\xd8\\xa7',\n",
       " '\\xd8\\xa7\\xd9\\x84\\xd9\\x84\\xd9\\x87',\n",
       " '\\xd8\\xaf\\xd8\\xae\\xd9\\x84',\n",
       " '\\xd8\\xa7\\xd9\\x84\\xd8\\xac\\xd9\\x86\\xd8\\xa9',\n",
       " 'https://t.co/EbRe8Pke9e',\n",
       " 'RT',\n",
       " '@Infographic_ksa:',\n",
       " '#\\xd9\\x85\\xd9\\x88\\xd8\\xb4\\xd9\\x86\\xd8\\xac\\xd8\\xb1\\xd8\\xa7\\xd9\\x81\\xd9\\x8a\\xd9\\x83',\n",
       " '\\xd9\\x84\\xd8\\xa8\\xd8\\xb9\\xd8\\xb6',\n",
       " '\\xd9\\x85\\xd8\\xa7\\xd9\\x88\\xd8\\xb1\\xd8\\xaf',\n",
       " '\\xd9\\x81\\xd9\\x8a',\n",
       " '\\xd8\\xad\\xd9\\x88\\xd8\\xa7\\xd8\\xb1',\n",
       " '\\xe2\\x81\\xa7#\\xd8\\xa7\\xd9\\x84\\xd8\\xa3\\xd9\\x85\\xd9\\x8a\\xd8\\xb1_\\xd9\\x85\\xd8\\xad\\xd9\\x85\\xd8\\xaf_\\xd8\\xa8\\xd9\\x86_\\xd8\\xb3\\xd9\\x84\\xd9\\x85\\xd8\\xa7\\xd9\\x86\\xe2\\x81\\xa9',\n",
       " '\\xd9\\x84\\xd8\\xa8\\xd9\\x84\\xd9\\x88\\xd9\\x85\\xd8\\xa8\\xd9\\x8a\\xd8\\xb1\\xd8\\xba',\n",
       " 'https://t.co/fsn8hE7Wiu',\n",
       " '@pabloamaralgv',\n",
       " 'programa',\n",
       " 'RT',\n",
       " '@Tribute_TFlash:',\n",
       " '@SeriesBrazil',\n",
       " 'glee',\n",
       " 'pisa',\n",
       " 'RT',\n",
       " '@TasbehEstigfar:',\n",
       " '\\xd8\\xaa\\xd8\\xb7\\xd8\\xa8\\xd9\\x8a\\xd9\\x82',\n",
       " '\\xd8\\xa7\\xd9\\x84\\xd9\\x82\\xd8\\xb1\\xd8\\xa2\\xd9\\x86',\n",
       " '\\xd8\\xa7\\xd9\\x84\\xd9\\x83\\xd8\\xb1\\xd9\\x8a\\xd9\\x85',\n",
       " '\\xd8\\xa7\\xd9\\x84\\xd8\\xb4\\xd8\\xa7\\xd9\\x85\\xd9\\x84',\n",
       " '\\xd9\\x88\\xd9\\x82\\xd9\\x81',\n",
       " '\\xd9\\x88\\xd8\\xb5\\xd8\\xaf\\xd9\\x82\\xd8\\xa9',\n",
       " '\\xd8\\xac\\xd8\\xa7\\xd8\\xb1\\xd9\\x8a\\xd8\\xa9',\n",
       " '\\xd9\\x84\\xd9\\x84\\xd9\\x88\\xd8\\xa7\\xd9\\x84\\xd8\\xaf',\n",
       " '\\xd8\\xa7\\xd9\\x84\\xd9\\x84\\xd9\\x87',\n",
       " '\\xd9\\x8a\\xd8\\xb1\\xd8\\xad\\xd9\\x85\\xd9\\x87\\xd8\\x8c',\n",
       " '\\xd9\\x84\\xd8\\xa7\\xd8\\xaa\\xd8\\xad\\xd8\\xb1\\xd9\\x85\\xd9\\x88\\xd9\\x87',\n",
       " '\\xd8\\xa7\\xd9\\x84\\xd8\\xa7\\xd8\\xac\\xd8\\xb1',\n",
       " 'https://t.co/pRXVzL90iZ',\n",
       " '\\xd8\\xb1\\xd8\\xa8\\xd9\\x8e\\xd9\\x8a',\n",
       " '\\xd8\\xa7\\xd8\\xb1\\xd8\\xad\\xd9\\x85\\xd9\\x87',\n",
       " '\\xd9\\x88\\xd8\\xa7\\xd8\\xb1\\xd8\\xad\\xd9\\x85',\n",
       " '\\xd8\\xa3\\xe2\\x80\\xa6',\n",
       " 'T\\xc3\\xa1',\n",
       " 'tendo',\n",
       " 'um',\n",
       " 'tanto',\n",
       " 'de',\n",
       " 'not\\xc3\\xadcias',\n",
       " 'boas',\n",
       " 'na',\n",
       " 'internet,',\n",
       " 'quando',\n",
       " 'vou',\n",
       " 'abrir',\n",
       " 'ler,',\n",
       " 'pegadinha',\n",
       " 'de',\n",
       " '1\\xc2\\xb0',\n",
       " 'de',\n",
       " 'abril',\n",
       " 'RT',\n",
       " '@argiro1961:',\n",
       " 'Van',\n",
       " '500',\n",
       " 'millones',\n",
       " 'por',\n",
       " 'Otoniel',\n",
       " 'necesito',\n",
       " 'la',\n",
       " 'red',\n",
       " 'de',\n",
       " 'cooperantes',\n",
       " 'ten\\xc3\\xada',\n",
       " 'el',\n",
       " 'guerrerista',\n",
       " 'Uribe.',\n",
       " 'https://t.co/cdbhlbJRti',\n",
       " 'Que',\n",
       " 'nunca',\n",
       " 'me',\n",
       " 'falten',\n",
       " 'mis',\n",
       " 'amigos',\n",
       " 'plis',\n",
       " '\\xf0\\x9f\\x91\\x8c\\xe2\\x9c\\x8c\\xf0\\x9f\\x92\\x95',\n",
       " 'RT',\n",
       " '@Laker_Show:',\n",
       " 'REPORT:',\n",
       " 'Lakers',\n",
       " 'looking',\n",
       " 'to',\n",
       " 'trade',\n",
       " \"D'Angelo\",\n",
       " 'Russell',\n",
       " 'because',\n",
       " 'of',\n",
       " 'recent',\n",
       " 'issues.',\n",
       " 'https://t.co/Bq9KmHhYuo',\n",
       " 'RT',\n",
       " '@etthyene:',\n",
       " 'The100',\n",
       " 's\\xc3\\xa9rie',\n",
       " 'mais',\n",
       " 'real',\n",
       " 'que',\n",
       " 'tem',\n",
       " 'ne:',\n",
       " 'lgbt',\n",
       " 's\\xc3\\xb3',\n",
       " 'toma',\n",
       " 'no',\n",
       " 'cu,',\n",
       " 'mulher',\n",
       " 's\\xc3\\xb3',\n",
       " 'sofre',\n",
       " 'homem',\n",
       " 'faz',\n",
       " 'merda',\n",
       " 'fica',\n",
       " 'impune',\n",
       " 'pintado',\n",
       " 'como',\n",
       " 'h\\xe2\\x80\\xa6',\n",
       " 'RT',\n",
       " '@LaurenMJSpain:',\n",
       " '#Harmonizers',\n",
       " '#iHeartAwards',\n",
       " '#BestFanArmy',\n",
       " 'https://t.co/EDWnpUPIRk',\n",
       " 'tenho',\n",
       " 'mania',\n",
       " 'em',\n",
       " 'ser',\n",
       " 'melhor',\n",
       " 'em',\n",
       " 'tudo',\n",
       " 'at\\xc3\\xa9',\n",
       " 'pq',\n",
       " 'eu',\n",
       " 'sou',\n",
       " 'melhor',\n",
       " 'em',\n",
       " 'tudo',\n",
       " 'n\\xc3\\xa9']"
      ]
     },
     "execution_count": 17,
     "metadata": {},
     "output_type": "execute_result"
    }
   ],
   "source": [
    "new= term_list(tweet_file)\n",
    "new"
   ]
  },
  {
   "cell_type": "code",
   "execution_count": 83,
   "metadata": {
    "collapsed": false
   },
   "outputs": [
    {
     "name": "stdout",
     "output_type": "stream",
     "text": [
      "Has no text, skip entry\n",
      "Has no text, skip entry\n",
      "Has no text, skip entry\n"
     ]
    }
   ],
   "source": [
    "#Now that we have a list of all the terms in our list, we can filter it to get all the unique terms and turn it back to a list\n",
    "one_list= term_list('problem_1_submission.txt')\n",
    "uniqueList= set(one_list)#Filters list to include only unique terms\n",
    "uniqueList= list(uniqueList)#Turn the unique set back into a list\n"
   ]
  },
  {
   "cell_type": "code",
   "execution_count": 84,
   "metadata": {
    "collapsed": false
   },
   "outputs": [],
   "source": [
    "#We'll make a new list full of zero integers that we'll add to anytime we find an occurrence of our terms\n",
    "#We'll then zip this zero list to our list of unique terms, and turn that into a dictionary\n",
    "size= len(uniqueList)\n",
    "scoreList= [0.0]*size\n",
    "uniqueScore= dict(zip(uniqueList,scoreList))"
   ]
  },
  {
   "cell_type": "code",
   "execution_count": 87,
   "metadata": {
    "collapsed": false
   },
   "outputs": [
    {
     "name": "stdout",
     "output_type": "stream",
     "text": [
      "it's 0.0160427807487\n",
      "good 0.0160427807487\n",
      "having 0.0160427807487\n",
      "kuya 0.0160427807487\n",
      "around, 0.0160427807487\n",
      "medyo 0.0160427807487\n",
      "nakakawala 0.0160427807487\n",
      "ng 0.0160427807487\n",
      "lungkot. 0.0160427807487\n",
      "@piraco75@MarkGKirshnerCuando 0.0160427807487\n",
      "un 0.0374331550802\n",
      "❤es 0.0160427807487\n",
      "herido,es 0.0160427807487\n",
      "difícil 0.0160427807487\n",
      "confortarlo, 0.0160427807487\n",
      "siempre 0.0267379679144\n",
      "habrá 0.0160427807487\n",
      "un 0.0427807486631\n",
      "nuevo 0.0267379679144\n",
      "amanecer 0.0160427807487\n",
      "un 0.048128342246\n",
      "nuevo 0.0320855614973\n",
      "amor❤ 0.0160427807487\n",
      "https://t.co/grq1lbfwjp 0.0160427807487\n",
      "https://t.co/kMes28OUhn 0.0160427807487\n",
      "満開🌸🌸🌸🌸🌸🌸🌸 0.0160427807487\n",
      "https://t.co/QO7OtAbsnZ 0.0160427807487\n",
      "RT 0.0909090909091\n",
      "@Scra_15: 0.0160427807487\n",
      "Recuerdos 0.0160427807487\n",
      "felices 0.0160427807487\n",
      "que 0.0267379679144\n",
      "en 0.0160427807487\n",
      "mi 0.0160427807487\n",
      "mente 0.0160427807487\n",
      "siempre 0.0320855614973\n",
      "perduraran 0.0160427807487\n",
      "من 0.0160427807487\n",
      "كان 0.0160427807487\n",
      "آخر 0.0160427807487\n",
      "كلامه 0.0160427807487\n",
      "لا 0.0160427807487\n",
      "إله 0.0160427807487\n",
      "إلا 0.0160427807487\n",
      "الله 0.0267379679144\n",
      "دخل 0.0160427807487\n",
      "الجنة 0.0160427807487\n",
      "https://t.co/EbRe8Pke9e 0.0160427807487\n",
      "RT 0.096256684492\n",
      "@Infographic_ksa: 0.0160427807487\n",
      "#موشنجرافيك 0.0160427807487\n",
      "لبعض 0.0160427807487\n",
      "ماورد 0.0160427807487\n",
      "في 0.0160427807487\n",
      "حوار 0.0160427807487\n",
      "⁧#الأمير_محمد_بن_سلمان⁩ 0.0160427807487\n",
      "لبلومبيرغ 0.0160427807487\n",
      "https://t.co/fsn8hE7Wiu 0.0160427807487\n",
      "@pabloamaralgv 0.0160427807487\n",
      "programa 0.0160427807487\n",
      "RT 0.101604278075\n",
      "@Tribute_TFlash: 0.0160427807487\n",
      "@SeriesBrazil 0.0160427807487\n",
      "glee 0.0160427807487\n",
      "pisa 0.0160427807487\n",
      "RT 0.106951871658\n",
      "@TasbehEstigfar: 0.0160427807487\n",
      "تطبيق 0.0160427807487\n",
      "القرآن 0.0160427807487\n",
      "الكريم 0.0160427807487\n",
      "الشامل 0.0160427807487\n",
      "وقف 0.0160427807487\n",
      "وصدقة 0.0160427807487\n",
      "جارية 0.0160427807487\n",
      "للوالد 0.0160427807487\n",
      "الله 0.0320855614973\n",
      "يرحمه، 0.0160427807487\n",
      "لاتحرموه 0.0160427807487\n",
      "الاجر 0.0160427807487\n",
      "https://t.co/pRXVzL90iZ 0.0160427807487\n",
      "ربَي 0.0160427807487\n",
      "ارحمه 0.0160427807487\n",
      "وارحم 0.0160427807487\n",
      "أ… 0.0160427807487\n",
      "Tá 0.0160427807487\n",
      "tendo 0.0160427807487\n",
      "um 0.0160427807487\n",
      "tanto 0.0160427807487\n",
      "de 0.048128342246\n",
      "notícias 0.0160427807487\n",
      "boas 0.0160427807487\n",
      "na 0.0160427807487\n",
      "internet, 0.0160427807487\n",
      "quando 0.0160427807487\n",
      "vou 0.0160427807487\n",
      "abrir 0.0160427807487\n",
      "ler, 0.0160427807487\n",
      "pegadinha 0.0160427807487\n",
      "de 0.0534759358289\n",
      "1° 0.0160427807487\n",
      "de 0.0588235294118\n",
      "abril 0.0160427807487\n",
      "RT 0.112299465241\n",
      "@argiro1961: 0.0160427807487\n",
      "Van 0.0160427807487\n",
      "500 0.0160427807487\n",
      "millones 0.0160427807487\n",
      "por 0.0160427807487\n",
      "Otoniel 0.0160427807487\n",
      "necesito 0.0160427807487\n",
      "la 0.0160427807487\n",
      "red 0.0160427807487\n",
      "de 0.0641711229947\n",
      "cooperantes 0.0160427807487\n",
      "tenía 0.0160427807487\n",
      "el 0.0160427807487\n",
      "guerrerista 0.0160427807487\n",
      "Uribe. 0.0160427807487\n",
      "https://t.co/cdbhlbJRti 0.0160427807487\n",
      "Que 0.0160427807487\n",
      "nunca 0.0160427807487\n",
      "me 0.0160427807487\n",
      "falten 0.0160427807487\n",
      "mis 0.0160427807487\n",
      "amigos 0.0160427807487\n",
      "plis 0.0160427807487\n",
      "👌✌💕 0.0160427807487\n",
      "RT 0.117647058824\n",
      "@Laker_Show: 0.0160427807487\n",
      "REPORT: 0.0160427807487\n",
      "Lakers 0.0160427807487\n",
      "looking 0.0160427807487\n",
      "to 0.0160427807487\n",
      "trade 0.0160427807487\n",
      "D'Angelo 0.0160427807487\n",
      "Russell 0.0160427807487\n",
      "because 0.0160427807487\n",
      "of 0.0160427807487\n",
      "recent 0.0160427807487\n",
      "issues. 0.0160427807487\n",
      "https://t.co/Bq9KmHhYuo 0.0160427807487\n",
      "RT 0.122994652406\n",
      "@etthyene: 0.0160427807487\n",
      "The100 0.0160427807487\n",
      "série 0.0160427807487\n",
      "mais 0.0160427807487\n",
      "real 0.0160427807487\n",
      "que 0.0320855614973\n",
      "tem 0.0160427807487\n",
      "ne: 0.0160427807487\n",
      "lgbt 0.0160427807487\n",
      "só 0.0267379679144\n",
      "toma 0.0160427807487\n",
      "no 0.0160427807487\n",
      "cu, 0.0160427807487\n",
      "mulher 0.0160427807487\n",
      "só 0.0320855614973\n",
      "sofre 0.0160427807487\n",
      "homem 0.0160427807487\n",
      "faz 0.0160427807487\n",
      "merda 0.0160427807487\n",
      "fica 0.0160427807487\n",
      "impune 0.0160427807487\n",
      "pintado 0.0160427807487\n",
      "como 0.0160427807487\n",
      "h… 0.0160427807487\n",
      "RT 0.128342245989\n",
      "@LaurenMJSpain: 0.0160427807487\n",
      "#Harmonizers 0.0160427807487\n",
      "#iHeartAwards 0.0160427807487\n",
      "#BestFanArmy 0.0160427807487\n",
      "https://t.co/EDWnpUPIRk 0.0160427807487\n",
      "tenho 0.0160427807487\n",
      "mania 0.0160427807487\n",
      "em 0.0374331550802\n",
      "ser 0.0160427807487\n",
      "melhor 0.0267379679144\n",
      "em 0.0427807486631\n",
      "tudo 0.0267379679144\n",
      "até 0.0160427807487\n",
      "pq 0.0160427807487\n",
      "eu 0.0160427807487\n",
      "sou 0.0160427807487\n",
      "melhor 0.0320855614973\n",
      "em 0.048128342246\n",
      "tudo 0.0320855614973\n",
      "né 0.0160427807487\n"
     ]
    }
   ],
   "source": [
    "#Now we'll go through the term list we compiled and update the score on our dictionary whenever we find a previous occurrence\n",
    "for item in one_list:\n",
    "    if item in uniqueScore.keys():\n",
    "        uniqueScore[item] += 1\n",
    "    else:\n",
    "        print 'Nothing to see here'\n",
    "        continue\n",
    "    print item, uniqueScore[item]/len(one_list)"
   ]
  },
  {
   "cell_type": "code",
   "execution_count": null,
   "metadata": {
    "collapsed": false
   },
   "outputs": [],
   "source": []
  },
  {
   "cell_type": "code",
   "execution_count": null,
   "metadata": {
    "collapsed": false
   },
   "outputs": [],
   "source": []
  },
  {
   "cell_type": "code",
   "execution_count": null,
   "metadata": {
    "collapsed": false
   },
   "outputs": [],
   "source": []
  },
  {
   "cell_type": "code",
   "execution_count": 75,
   "metadata": {
    "collapsed": false
   },
   "outputs": [
    {
     "data": {
      "text/plain": [
       "'tenho'"
      ]
     },
     "execution_count": 75,
     "metadata": {},
     "output_type": "execute_result"
    }
   ],
   "source": [
    "#tweetScore= []\n",
    "if str(tweet[0])"
   ]
  },
  {
   "cell_type": "code",
   "execution_count": 91,
   "metadata": {
    "collapsed": false
   },
   "outputs": [],
   "source": [
    "tweet.append('aggression')"
   ]
  },
  {
   "cell_type": "code",
   "execution_count": 92,
   "metadata": {
    "collapsed": false
   },
   "outputs": [],
   "source": [
    "#newList= [val for i in ]\n",
    "#Make list of values from dictionary\n",
    "newList= []\n",
    "for i in range(0,len(tweet)):\n",
    "    if tweet[i].encode('utf-8').strip() in scores.keys():\n",
    "        newList.append(scores[tweet[i]])\n"
   ]
  },
  {
   "cell_type": "code",
   "execution_count": 94,
   "metadata": {
    "collapsed": false
   },
   "outputs": [
    {
     "name": "stdout",
     "output_type": "stream",
     "text": [
      "em\n"
     ]
    }
   ],
   "source": [
    "i= 5\n",
    "tweet[i].encode('utf-8') in scores.keys()\n",
    "print str(tweet[i])"
   ]
  },
  {
   "cell_type": "code",
   "execution_count": 97,
   "metadata": {
    "collapsed": false
   },
   "outputs": [
    {
     "data": {
      "text/plain": [
       "-2"
      ]
     },
     "execution_count": 97,
     "metadata": {},
     "output_type": "execute_result"
    }
   ],
   "source": [
    "scores[tweet[15]]"
   ]
  },
  {
   "cell_type": "code",
   "execution_count": 104,
   "metadata": {
    "collapsed": false
   },
   "outputs": [
    {
     "ename": "SyntaxError",
     "evalue": "invalid syntax (<ipython-input-104-5c219357738d>, line 2)",
     "output_type": "error",
     "traceback": [
      "\u001b[1;36m  File \u001b[1;32m\"<ipython-input-104-5c219357738d>\"\u001b[1;36m, line \u001b[1;32m2\u001b[0m\n\u001b[1;33m    [blankList.append(scores[tweet[i]]) if tweet[i].encode('utf-8').strip() in scores.keys() for i in range(0,len(tweet)) ]\u001b[0m\n\u001b[1;37m                                                                                               ^\u001b[0m\n\u001b[1;31mSyntaxError\u001b[0m\u001b[1;31m:\u001b[0m invalid syntax\n"
     ]
    }
   ],
   "source": [
    "blankList= []\n",
    "[blankList.append(scores[tweet[i]]) if tweet[i].encode('utf-8').strip() in scores.keys() for i in range(0,len(tweet)) ]"
   ]
  },
  {
   "cell_type": "code",
   "execution_count": 101,
   "metadata": {
    "collapsed": false
   },
   "outputs": [
    {
     "data": {
      "text/plain": [
       "[u'tenho',\n",
       " u'mania',\n",
       " u'em',\n",
       " u'ser',\n",
       " u'melhor',\n",
       " u'em',\n",
       " u'tudo',\n",
       " u'at\\xe9',\n",
       " u'pq',\n",
       " u'eu',\n",
       " u'sou',\n",
       " u'melhor',\n",
       " u'em',\n",
       " u'tudo',\n",
       " u'n\\xe9',\n",
       " 'aggression']"
      ]
     },
     "execution_count": 101,
     "metadata": {},
     "output_type": "execute_result"
    }
   ],
   "source": [
    "tweet"
   ]
  },
  {
   "cell_type": "markdown",
   "metadata": {
    "collapsed": true
   },
   "source": [
    "Here we'll look at the happiest state code starting with the prob 2 code to read the tweets."
   ]
  },
  {
   "cell_type": "code",
   "execution_count": null,
   "metadata": {
    "collapsed": true
   },
   "outputs": [],
   "source": []
  },
  {
   "cell_type": "code",
   "execution_count": 44,
   "metadata": {
    "collapsed": false
   },
   "outputs": [
    {
     "name": "stdout",
     "output_type": "stream",
     "text": [
      "Trying line:  {\"created_at\":\"Sat Apr 02 01:32:01 +0000 2016\",\"id\":716075683575832576,\"id_str\":\"716075683575832576\",\"text\":\"it's good having kuya around, medyo nakakawala ng lungkot.\",\"source\":\"\\u003ca href=\\\"http:\\/\\/twitter.com\\\" rel=\\\"nofollow\\\"\\u003eTwitter Web Client\\u003c\\/a\\u003e\",\"truncated\":false,\"in_reply_to_status_id\":null,\"in_reply_to_status_id_str\":null,\"in_reply_to_user_id\":null,\"in_reply_to_user_id_str\":null,\"in_reply_to_screen_name\":null,\"user\":{\"id\":616673208,\"id_str\":\"616673208\",\"name\":\"aly\",\"screen_name\":\"alyshiiiing\",\"location\":\"Lucban, Quezon\",\"url\":\"http:\\/\\/instagram.com\\/alyzzaaguda\",\"description\":\"waiting...\",\"protected\":false,\"verified\":false,\"followers_count\":559,\"friends_count\":339,\"listed_count\":2,\"favourites_count\":5971,\"statuses_count\":24213,\"created_at\":\"Sun Jun 24 00:06:54 +0000 2012\",\"utc_offset\":28800,\"time_zone\":\"Beijing\",\"geo_enabled\":true,\"lang\":\"en\",\"contributors_enabled\":false,\"is_translator\":false,\"profile_background_color\":\"655156\",\"profile_background_image_url\":\"http:\\/\\/pbs.twimg.com\\/profile_background_images\\/378800000122614252\\/8e34679e3fc4d760d4ac40d4dfffbe25.png\",\"profile_background_image_url_https\":\"https:\\/\\/pbs.twimg.com\\/profile_background_images\\/378800000122614252\\/8e34679e3fc4d760d4ac40d4dfffbe25.png\",\"profile_background_tile\":true,\"profile_link_color\":\"EB3467\",\"profile_sidebar_border_color\":\"FFFFFF\",\"profile_sidebar_fill_color\":\"D8E9CC\",\"profile_text_color\":\"E17C30\",\"profile_use_background_image\":true,\"profile_image_url\":\"http:\\/\\/pbs.twimg.com\\/profile_images\\/715058134713311232\\/hNCG9dI__normal.jpg\",\"profile_image_url_https\":\"https:\\/\\/pbs.twimg.com\\/profile_images\\/715058134713311232\\/hNCG9dI__normal.jpg\",\"profile_banner_url\":\"https:\\/\\/pbs.twimg.com\\/profile_banners\\/616673208\\/1450779366\",\"default_profile\":false,\"default_profile_image\":false,\"following\":null,\"follow_request_sent\":null,\"notifications\":null},\"geo\":null,\"coordinates\":null,\"place\":null,\"contributors\":null,\"is_quote_status\":false,\"retweet_count\":0,\"favorite_count\":0,\"entities\":{\"hashtags\":[],\"urls\":[],\"user_mentions\":[],\"symbols\":[]},\"favorited\":false,\"retweeted\":false,\"filter_level\":\"low\",\"lang\":\"tl\",\"timestamp_ms\":\"1459560721664\"}\n",
      "\n",
      "Has no text, skip entry\n",
      "Trying line:  {\"created_at\":\"Sat Apr 02 01:32:01 +0000 2016\",\"id\":716075683559002112,\"id_str\":\"716075683559002112\",\"text\":\"@piraco75@MarkGKirshnerCuando un \\u2764es herido,es dif\\u00edcil confortarlo, siempre habr\\u00e1 un nuevo amanecer y un nuevo amor\\u2764 https:\\/\\/t.co\\/grq1lbfwjp\",\"source\":\"\\u003ca href=\\\"http:\\/\\/twitter.com\\/download\\/android\\\" rel=\\\"nofollow\\\"\\u003eTwitter for Android\\u003c\\/a\\u003e\",\"truncated\":false,\"in_reply_to_status_id\":null,\"in_reply_to_status_id_str\":null,\"in_reply_to_user_id\":null,\"in_reply_to_user_id_str\":null,\"in_reply_to_screen_name\":null,\"user\":{\"id\":1965768272,\"id_str\":\"1965768272\",\"name\":\"Apfel\",\"screen_name\":\"GenisRita\",\"location\":null,\"url\":null,\"description\":null,\"protected\":false,\"verified\":false,\"followers_count\":1814,\"friends_count\":388,\"listed_count\":233,\"favourites_count\":110076,\"statuses_count\":113299,\"created_at\":\"Thu Oct 17 00:22:05 +0000 2013\",\"utc_offset\":null,\"time_zone\":null,\"geo_enabled\":true,\"lang\":\"es\",\"contributors_enabled\":false,\"is_translator\":false,\"profile_background_color\":\"C0DEED\",\"profile_background_image_url\":\"http:\\/\\/abs.twimg.com\\/images\\/themes\\/theme1\\/bg.png\",\"profile_background_image_url_https\":\"https:\\/\\/abs.twimg.com\\/images\\/themes\\/theme1\\/bg.png\",\"profile_background_tile\":false,\"profile_link_color\":\"0084B4\",\"profile_sidebar_border_color\":\"C0DEED\",\"profile_sidebar_fill_color\":\"DDEEF6\",\"profile_text_color\":\"333333\",\"profile_use_background_image\":true,\"profile_image_url\":\"http:\\/\\/pbs.twimg.com\\/profile_images\\/477570926175727617\\/bt2Rt54d_normal.jpeg\",\"profile_image_url_https\":\"https:\\/\\/pbs.twimg.com\\/profile_images\\/477570926175727617\\/bt2Rt54d_normal.jpeg\",\"profile_banner_url\":\"https:\\/\\/pbs.twimg.com\\/profile_banners\\/1965768272\\/1432299270\",\"default_profile\":true,\"default_profile_image\":false,\"following\":null,\"follow_request_sent\":null,\"notifications\":null},\"geo\":null,\"coordinates\":null,\"place\":null,\"contributors\":null,\"is_quote_status\":false,\"retweet_count\":0,\"favorite_count\":0,\"entities\":{\"hashtags\":[],\"urls\":[],\"user_mentions\":[],\"symbols\":[],\"media\":[{\"id\":716075666563670016,\"id_str\":\"716075666563670016\",\"indices\":[117,140],\"media_url\":\"http:\\/\\/pbs.twimg.com\\/media\\/CfADBlnUIAAHlIc.jpg\",\"media_url_https\":\"https:\\/\\/pbs.twimg.com\\/media\\/CfADBlnUIAAHlIc.jpg\",\"url\":\"https:\\/\\/t.co\\/grq1lbfwjp\",\"display_url\":\"pic.twitter.com\\/grq1lbfwjp\",\"expanded_url\":\"http:\\/\\/twitter.com\\/GenisRita\\/status\\/716075683559002112\\/photo\\/1\",\"type\":\"photo\",\"sizes\":{\"thumb\":{\"w\":150,\"h\":150,\"resize\":\"crop\"},\"large\":{\"w\":592,\"h\":535,\"resize\":\"fit\"},\"small\":{\"w\":340,\"h\":307,\"resize\":\"fit\"},\"medium\":{\"w\":592,\"h\":535,\"resize\":\"fit\"}}}]},\"extended_entities\":{\"media\":[{\"id\":716075666563670016,\"id_str\":\"716075666563670016\",\"indices\":[117,140],\"media_url\":\"http:\\/\\/pbs.twimg.com\\/media\\/CfADBlnUIAAHlIc.jpg\",\"media_url_https\":\"https:\\/\\/pbs.twimg.com\\/media\\/CfADBlnUIAAHlIc.jpg\",\"url\":\"https:\\/\\/t.co\\/grq1lbfwjp\",\"display_url\":\"pic.twitter.com\\/grq1lbfwjp\",\"expanded_url\":\"http:\\/\\/twitter.com\\/GenisRita\\/status\\/716075683559002112\\/photo\\/1\",\"type\":\"photo\",\"sizes\":{\"thumb\":{\"w\":150,\"h\":150,\"resize\":\"crop\"},\"large\":{\"w\":592,\"h\":535,\"resize\":\"fit\"},\"small\":{\"w\":340,\"h\":307,\"resize\":\"fit\"},\"medium\":{\"w\":592,\"h\":535,\"resize\":\"fit\"}}},{\"id\":716075673291337728,\"id_str\":\"716075673291337728\",\"indices\":[117,140],\"media_url\":\"http:\\/\\/pbs.twimg.com\\/media\\/CfADB-rUMAAsh_1.jpg\",\"media_url_https\":\"https:\\/\\/pbs.twimg.com\\/media\\/CfADB-rUMAAsh_1.jpg\",\"url\":\"https:\\/\\/t.co\\/grq1lbfwjp\",\"display_url\":\"pic.twitter.com\\/grq1lbfwjp\",\"expanded_url\":\"http:\\/\\/twitter.com\\/GenisRita\\/status\\/716075683559002112\\/photo\\/1\",\"type\":\"photo\",\"sizes\":{\"large\":{\"w\":300,\"h\":300,\"resize\":\"fit\"},\"medium\":{\"w\":300,\"h\":300,\"resize\":\"fit\"},\"thumb\":{\"w\":150,\"h\":150,\"resize\":\"crop\"},\"small\":{\"w\":300,\"h\":300,\"resize\":\"fit\"}}},{\"id\":716075675350802432,\"id_str\":\"716075675350802432\",\"indices\":[117,140],\"media_url\":\"http:\\/\\/pbs.twimg.com\\/media\\/CfADCGWVIAA1stJ.jpg\",\"media_url_https\":\"https:\\/\\/pbs.twimg.com\\/media\\/CfADCGWVIAA1stJ.jpg\",\"url\":\"https:\\/\\/t.co\\/grq1lbfwjp\",\"display_url\":\"pic.twitter.com\\/grq1lbfwjp\",\"expanded_url\":\"http:\\/\\/twitter.com\\/GenisRita\\/status\\/716075683559002112\\/photo\\/1\",\"type\":\"photo\",\"sizes\":{\"thumb\":{\"w\":150,\"h\":150,\"resize\":\"crop\"},\"small\":{\"w\":338,\"h\":281,\"resize\":\"fit\"},\"large\":{\"w\":338,\"h\":281,\"resize\":\"fit\"},\"medium\":{\"w\":338,\"h\":281,\"resize\":\"fit\"}}},{\"id\":716075676453904386,\"id_str\":\"716075676453904386\",\"indices\":[117,140],\"media_url\":\"http:\\/\\/pbs.twimg.com\\/media\\/CfADCKdVIAI29kW.jpg\",\"media_url_https\":\"https:\\/\\/pbs.twimg.com\\/media\\/CfADCKdVIAI29kW.jpg\",\"url\":\"https:\\/\\/t.co\\/grq1lbfwjp\",\"display_url\":\"pic.twitter.com\\/grq1lbfwjp\",\"expanded_url\":\"http:\\/\\/twitter.com\\/GenisRita\\/status\\/716075683559002112\\/photo\\/1\",\"type\":\"photo\",\"sizes\":{\"large\":{\"w\":550,\"h\":793,\"resize\":\"fit\"},\"medium\":{\"w\":550,\"h\":793,\"resize\":\"fit\"},\"small\":{\"w\":340,\"h\":490,\"resize\":\"fit\"},\"thumb\":{\"w\":150,\"h\":150,\"resize\":\"crop\"}}}]},\"favorited\":false,\"retweeted\":false,\"possibly_sensitive\":false,\"filter_level\":\"low\",\"lang\":\"es\",\"timestamp_ms\":\"1459560721660\"}\n",
      "\n",
      "Has no text, skip entry\n",
      "Trying line:  {\"created_at\":\"Sat Apr 02 01:32:01 +0000 2016\",\"id\":716075683579977729,\"id_str\":\"716075683579977729\",\"text\":\"https:\\/\\/t.co\\/kMes28OUhn\",\"source\":\"\\u003ca href=\\\"http:\\/\\/twitter.com\\/download\\/iphone\\\" rel=\\\"nofollow\\\"\\u003eTwitter for iPhone\\u003c\\/a\\u003e\",\"truncated\":false,\"in_reply_to_status_id\":null,\"in_reply_to_status_id_str\":null,\"in_reply_to_user_id\":null,\"in_reply_to_user_id_str\":null,\"in_reply_to_screen_name\":null,\"user\":{\"id\":2666782706,\"id_str\":\"2666782706\",\"name\":\"J\\u0359\\u03b1\\u0438\\u0454 A\\u0359\\u044f\\u043a\\u0454\\u0438\\u0455\\u03b1\\u03c9\",\"screen_name\":\"JanieTheKillr\",\"location\":\"With Jason-Senpai\",\"url\":\"http:\\/\\/www.HowToStalkSenpai.com\",\"description\":\"\\u2661I love you @Jthetoymaker !~ do not get near my Senpai\\u2661 \\u00bb Dog:@TalkingHannah \\u00ab \\u2022 children:@carcinogenocist @SirenKiller @SallyDiceJuega \\u2022\",\"protected\":false,\"verified\":false,\"followers_count\":3859,\"friends_count\":751,\"listed_count\":21,\"favourites_count\":12909,\"statuses_count\":143,\"created_at\":\"Mon Jul 21 18:33:47 +0000 2014\",\"utc_offset\":null,\"time_zone\":null,\"geo_enabled\":true,\"lang\":\"en\",\"contributors_enabled\":false,\"is_translator\":false,\"profile_background_color\":\"000000\",\"profile_background_image_url\":\"http:\\/\\/abs.twimg.com\\/images\\/themes\\/theme1\\/bg.png\",\"profile_background_image_url_https\":\"https:\\/\\/abs.twimg.com\\/images\\/themes\\/theme1\\/bg.png\",\"profile_background_tile\":false,\"profile_link_color\":\"DD2E44\",\"profile_sidebar_border_color\":\"000000\",\"profile_sidebar_fill_color\":\"000000\",\"profile_text_color\":\"000000\",\"profile_use_background_image\":false,\"profile_image_url\":\"http:\\/\\/pbs.twimg.com\\/profile_images\\/714937298018770945\\/VXd5vrx2_normal.jpg\",\"profile_image_url_https\":\"https:\\/\\/pbs.twimg.com\\/profile_images\\/714937298018770945\\/VXd5vrx2_normal.jpg\",\"profile_banner_url\":\"https:\\/\\/pbs.twimg.com\\/profile_banners\\/2666782706\\/1455926056\",\"default_profile\":false,\"default_profile_image\":false,\"following\":null,\"follow_request_sent\":null,\"notifications\":null},\"geo\":null,\"coordinates\":null,\"place\":null,\"contributors\":null,\"is_quote_status\":false,\"retweet_count\":0,\"favorite_count\":0,\"entities\":{\"hashtags\":[],\"urls\":[],\"user_mentions\":[],\"symbols\":[],\"media\":[{\"id\":716075674675445761,\"id_str\":\"716075674675445761\",\"indices\":[0,23],\"media_url\":\"http:\\/\\/pbs.twimg.com\\/media\\/CfADCD1UAAE54tm.jpg\",\"media_url_https\":\"https:\\/\\/pbs.twimg.com\\/media\\/CfADCD1UAAE54tm.jpg\",\"url\":\"https:\\/\\/t.co\\/kMes28OUhn\",\"display_url\":\"pic.twitter.com\\/kMes28OUhn\",\"expanded_url\":\"http:\\/\\/twitter.com\\/JanieTheKillr\\/status\\/716075683579977729\\/photo\\/1\",\"type\":\"photo\",\"sizes\":{\"medium\":{\"w\":600,\"h\":1193,\"resize\":\"fit\"},\"thumb\":{\"w\":150,\"h\":150,\"resize\":\"crop\"},\"large\":{\"w\":640,\"h\":1272,\"resize\":\"fit\"},\"small\":{\"w\":340,\"h\":676,\"resize\":\"fit\"}}}]},\"extended_entities\":{\"media\":[{\"id\":716075674675445761,\"id_str\":\"716075674675445761\",\"indices\":[0,23],\"media_url\":\"http:\\/\\/pbs.twimg.com\\/media\\/CfADCD1UAAE54tm.jpg\",\"media_url_https\":\"https:\\/\\/pbs.twimg.com\\/media\\/CfADCD1UAAE54tm.jpg\",\"url\":\"https:\\/\\/t.co\\/kMes28OUhn\",\"display_url\":\"pic.twitter.com\\/kMes28OUhn\",\"expanded_url\":\"http:\\/\\/twitter.com\\/JanieTheKillr\\/status\\/716075683579977729\\/photo\\/1\",\"type\":\"photo\",\"sizes\":{\"medium\":{\"w\":600,\"h\":1193,\"resize\":\"fit\"},\"thumb\":{\"w\":150,\"h\":150,\"resize\":\"crop\"},\"large\":{\"w\":640,\"h\":1272,\"resize\":\"fit\"},\"small\":{\"w\":340,\"h\":676,\"resize\":\"fit\"}}}]},\"favorited\":false,\"retweeted\":false,\"possibly_sensitive\":false,\"filter_level\":\"low\",\"lang\":\"und\",\"timestamp_ms\":\"1459560721665\"}\n",
      "\n",
      "Has no text, skip entry\n",
      "Trying line:  {\"delete\":{\"status\":{\"id\":715958456943910912,\"id_str\":\"715958456943910912\",\"user_id\":4821225798,\"user_id_str\":\"4821225798\"},\"timestamp_ms\":\"1459560722241\"}}\n",
      "\n",
      "Has no text, skip entry\n",
      "Trying line:  {\"delete\":{\"status\":{\"id\":465928353506398209,\"id_str\":\"465928353506398209\",\"user_id\":922419216,\"user_id_str\":\"922419216\"},\"timestamp_ms\":\"1459560722300\"}}\n",
      "\n",
      "Has no text, skip entry\n",
      "Trying line:  {\"created_at\":\"Sat Apr 02 01:32:01 +0000 2016\",\"id\":716075683550605312,\"id_str\":\"716075683550605312\",\"text\":\"\\u6e80\\u958b\\ud83c\\udf38\\ud83c\\udf38\\ud83c\\udf38\\ud83c\\udf38\\ud83c\\udf38\\ud83c\\udf38\\ud83c\\udf38 https:\\/\\/t.co\\/QO7OtAbsnZ\",\"source\":\"\\u003ca href=\\\"http:\\/\\/twitter.com\\/download\\/iphone\\\" rel=\\\"nofollow\\\"\\u003eTwitter for iPhone\\u003c\\/a\\u003e\",\"truncated\":false,\"in_reply_to_status_id\":null,\"in_reply_to_status_id_str\":null,\"in_reply_to_user_id\":null,\"in_reply_to_user_id_str\":null,\"in_reply_to_screen_name\":null,\"user\":{\"id\":2695720417,\"id_str\":\"2695720417\",\"name\":\"Mackey\",\"screen_name\":\"Mackey1013\",\"location\":null,\"url\":null,\"description\":\"SUPER JUNIOR \\u304c\\u5927\\u597d\\u304d\\u3067\\u3059\\u3002Donghae\\u304c\\u611b\\u304a\\u3057\\u304f\\u3066\\u305f\\u307e\\u308a\\u307e\\u305b\\u3093\\u30022017\\/07\\/14\\u3092\\u30b4\\u30e0\\u9774\\u5c65\\u3044\\u3066\\u5f85\\u3063\\u3066\\u307e\\u3059\\u3002\",\"protected\":false,\"verified\":false,\"followers_count\":24,\"friends_count\":147,\"listed_count\":0,\"favourites_count\":1359,\"statuses_count\":2396,\"created_at\":\"Thu Jul 31 13:16:33 +0000 2014\",\"utc_offset\":-25200,\"time_zone\":\"Pacific Time (US & Canada)\",\"geo_enabled\":false,\"lang\":\"ja\",\"contributors_enabled\":false,\"is_translator\":false,\"profile_background_color\":\"C0DEED\",\"profile_background_image_url\":\"http:\\/\\/abs.twimg.com\\/images\\/themes\\/theme1\\/bg.png\",\"profile_background_image_url_https\":\"https:\\/\\/abs.twimg.com\\/images\\/themes\\/theme1\\/bg.png\",\"profile_background_tile\":false,\"profile_link_color\":\"0084B4\",\"profile_sidebar_border_color\":\"C0DEED\",\"profile_sidebar_fill_color\":\"DDEEF6\",\"profile_text_color\":\"333333\",\"profile_use_background_image\":true,\"profile_image_url\":\"http:\\/\\/pbs.twimg.com\\/profile_images\\/655322743731163136\\/O90LbIQW_normal.jpg\",\"profile_image_url_https\":\"https:\\/\\/pbs.twimg.com\\/profile_images\\/655322743731163136\\/O90LbIQW_normal.jpg\",\"profile_banner_url\":\"https:\\/\\/pbs.twimg.com\\/profile_banners\\/2695720417\\/1430790316\",\"default_profile\":true,\"default_profile_image\":false,\"following\":null,\"follow_request_sent\":null,\"notifications\":null},\"geo\":null,\"coordinates\":null,\"place\":null,\"contributors\":null,\"is_quote_status\":false,\"retweet_count\":0,\"favorite_count\":0,\"entities\":{\"hashtags\":[],\"urls\":[],\"user_mentions\":[],\"symbols\":[],\"media\":[{\"id\":716075654240870400,\"id_str\":\"716075654240870400\",\"indices\":[10,33],\"media_url\":\"http:\\/\\/pbs.twimg.com\\/media\\/CfADA3tVIAAEZl2.jpg\",\"media_url_https\":\"https:\\/\\/pbs.twimg.com\\/media\\/CfADA3tVIAAEZl2.jpg\",\"url\":\"https:\\/\\/t.co\\/QO7OtAbsnZ\",\"display_url\":\"pic.twitter.com\\/QO7OtAbsnZ\",\"expanded_url\":\"http:\\/\\/twitter.com\\/Mackey1013\\/status\\/716075683550605312\\/photo\\/1\",\"type\":\"photo\",\"sizes\":{\"small\":{\"w\":340,\"h\":462,\"resize\":\"fit\"},\"medium\":{\"w\":600,\"h\":815,\"resize\":\"fit\"},\"thumb\":{\"w\":150,\"h\":150,\"resize\":\"crop\"},\"large\":{\"w\":1024,\"h\":1390,\"resize\":\"fit\"}}}]},\"extended_entities\":{\"media\":[{\"id\":716075654240870400,\"id_str\":\"716075654240870400\",\"indices\":[10,33],\"media_url\":\"http:\\/\\/pbs.twimg.com\\/media\\/CfADA3tVIAAEZl2.jpg\",\"media_url_https\":\"https:\\/\\/pbs.twimg.com\\/media\\/CfADA3tVIAAEZl2.jpg\",\"url\":\"https:\\/\\/t.co\\/QO7OtAbsnZ\",\"display_url\":\"pic.twitter.com\\/QO7OtAbsnZ\",\"expanded_url\":\"http:\\/\\/twitter.com\\/Mackey1013\\/status\\/716075683550605312\\/photo\\/1\",\"type\":\"photo\",\"sizes\":{\"small\":{\"w\":340,\"h\":462,\"resize\":\"fit\"},\"medium\":{\"w\":600,\"h\":815,\"resize\":\"fit\"},\"thumb\":{\"w\":150,\"h\":150,\"resize\":\"crop\"},\"large\":{\"w\":1024,\"h\":1390,\"resize\":\"fit\"}}}]},\"favorited\":false,\"retweeted\":false,\"possibly_sensitive\":false,\"filter_level\":\"low\",\"lang\":\"ja\",\"timestamp_ms\":\"1459560721658\"}\n",
      "\n",
      "Has no text, skip entry\n",
      "Trying line:  {\"delete\":{\"status\":{\"id\":624824296691531780,\"id_str\":\"624824296691531780\",\"user_id\":244780810,\"user_id_str\":\"244780810\"},\"timestamp_ms\":\"1459560722551\"}}\n",
      "\n",
      "Has no text, skip entry\n",
      "Trying line:  {\"created_at\":\"Sat Apr 02 01:32:02 +0000 2016\",\"id\":716075687745097728,\"id_str\":\"716075687745097728\",\"text\":\"RT @Scra_15: Recuerdos felices que en mi mente siempre perduraran\",\"source\":\"\\u003ca href=\\\"http:\\/\\/twitter.com\\\" rel=\\\"nofollow\\\"\\u003eTwitter Web Client\\u003c\\/a\\u003e\",\"truncated\":false,\"in_reply_to_status_id\":null,\"in_reply_to_status_id_str\":null,\"in_reply_to_user_id\":null,\"in_reply_to_user_id_str\":null,\"in_reply_to_screen_name\":null,\"user\":{\"id\":1219610641,\"id_str\":\"1219610641\",\"name\":\"Hector Ortiz.\",\"screen_name\":\"hachejota_\",\"location\":null,\"url\":null,\"description\":\"Critica mi jale cuando tengas mi calibre.18.\",\"protected\":false,\"verified\":false,\"followers_count\":301,\"friends_count\":332,\"listed_count\":2,\"favourites_count\":609,\"statuses_count\":1582,\"created_at\":\"Mon Feb 25 19:18:20 +0000 2013\",\"utc_offset\":-16200,\"time_zone\":\"Caracas\",\"geo_enabled\":false,\"lang\":\"es\",\"contributors_enabled\":false,\"is_translator\":false,\"profile_background_color\":\"131516\",\"profile_background_image_url\":\"http:\\/\\/pbs.twimg.com\\/profile_background_images\\/476361682277511168\\/b1Nqxz2K.jpeg\",\"profile_background_image_url_https\":\"https:\\/\\/pbs.twimg.com\\/profile_background_images\\/476361682277511168\\/b1Nqxz2K.jpeg\",\"profile_background_tile\":true,\"profile_link_color\":\"009999\",\"profile_sidebar_border_color\":\"FFFFFF\",\"profile_sidebar_fill_color\":\"EFEFEF\",\"profile_text_color\":\"333333\",\"profile_use_background_image\":true,\"profile_image_url\":\"http:\\/\\/pbs.twimg.com\\/profile_images\\/714095734006661120\\/QEeGHXb5_normal.jpg\",\"profile_image_url_https\":\"https:\\/\\/pbs.twimg.com\\/profile_images\\/714095734006661120\\/QEeGHXb5_normal.jpg\",\"profile_banner_url\":\"https:\\/\\/pbs.twimg.com\\/profile_banners\\/1219610641\\/1459088850\",\"default_profile\":false,\"default_profile_image\":false,\"following\":null,\"follow_request_sent\":null,\"notifications\":null},\"geo\":null,\"coordinates\":null,\"place\":null,\"contributors\":null,\"retweeted_status\":{\"created_at\":\"Sat Apr 02 01:31:28 +0000 2016\",\"id\":716075544782245888,\"id_str\":\"716075544782245888\",\"text\":\"Recuerdos felices que en mi mente siempre perduraran\",\"source\":\"\\u003ca href=\\\"http:\\/\\/twitter.com\\\" rel=\\\"nofollow\\\"\\u003eTwitter Web Client\\u003c\\/a\\u003e\",\"truncated\":false,\"in_reply_to_status_id\":null,\"in_reply_to_status_id_str\":null,\"in_reply_to_user_id\":null,\"in_reply_to_user_id_str\":null,\"in_reply_to_screen_name\":null,\"user\":{\"id\":2364191498,\"id_str\":\"2364191498\",\"name\":\"Swanny Ramos \\u2648\",\"screen_name\":\"Scra_15\",\"location\":\"Venezolana \\u270c\",\"url\":null,\"description\":\"Bless\\u2728Todo mejora con el Tiempo\\u30c4\",\"protected\":false,\"verified\":false,\"followers_count\":409,\"friends_count\":264,\"listed_count\":0,\"favourites_count\":474,\"statuses_count\":2515,\"created_at\":\"Thu Feb 27 13:40:19 +0000 2014\",\"utc_offset\":-16200,\"time_zone\":\"Caracas\",\"geo_enabled\":false,\"lang\":\"es\",\"contributors_enabled\":false,\"is_translator\":false,\"profile_background_color\":\"3B94D9\",\"profile_background_image_url\":\"http:\\/\\/pbs.twimg.com\\/profile_background_images\\/674274057353895936\\/YMwBJuch.jpg\",\"profile_background_image_url_https\":\"https:\\/\\/pbs.twimg.com\\/profile_background_images\\/674274057353895936\\/YMwBJuch.jpg\",\"profile_background_tile\":true,\"profile_link_color\":\"F58EA8\",\"profile_sidebar_border_color\":\"000000\",\"profile_sidebar_fill_color\":\"000000\",\"profile_text_color\":\"000000\",\"profile_use_background_image\":true,\"profile_image_url\":\"http:\\/\\/pbs.twimg.com\\/profile_images\\/712074717495234560\\/XSb0p5Rg_normal.jpg\",\"profile_image_url_https\":\"https:\\/\\/pbs.twimg.com\\/profile_images\\/712074717495234560\\/XSb0p5Rg_normal.jpg\",\"profile_banner_url\":\"https:\\/\\/pbs.twimg.com\\/profile_banners\\/2364191498\\/1458426455\",\"default_profile\":false,\"default_profile_image\":false,\"following\":null,\"follow_request_sent\":null,\"notifications\":null},\"geo\":null,\"coordinates\":null,\"place\":null,\"contributors\":null,\"is_quote_status\":false,\"retweet_count\":1,\"favorite_count\":0,\"entities\":{\"hashtags\":[],\"urls\":[],\"user_mentions\":[],\"symbols\":[]},\"favorited\":false,\"retweeted\":false,\"filter_level\":\"low\",\"lang\":\"es\"},\"is_quote_status\":false,\"retweet_count\":0,\"favorite_count\":0,\"entities\":{\"hashtags\":[],\"urls\":[],\"user_mentions\":[{\"screen_name\":\"Scra_15\",\"name\":\"Swanny Ramos \\u2648\",\"id\":2364191498,\"id_str\":\"2364191498\",\"indices\":[3,11]}],\"symbols\":[]},\"favorited\":false,\"retweeted\":false,\"filter_level\":\"low\",\"lang\":\"es\",\"timestamp_ms\":\"1459560722658\"}\n",
      "\n",
      "Has no text, skip entry\n",
      "Trying line:  {\"created_at\":\"Sat Apr 02 01:32:02 +0000 2016\",\"id\":716075687766016000,\"id_str\":\"716075687766016000\",\"text\":\"\\u0645\\u0646 \\u0643\\u0627\\u0646 \\u0622\\u062e\\u0631 \\u0643\\u0644\\u0627\\u0645\\u0647 \\u0644\\u0627 \\u0625\\u0644\\u0647 \\u0625\\u0644\\u0627 \\u0627\\u0644\\u0644\\u0647 \\u062f\\u062e\\u0644 \\u0627\\u0644\\u062c\\u0646\\u0629 https:\\/\\/t.co\\/EbRe8Pke9e\",\"source\":\"\\u003ca href=\\\"http:\\/\\/du3a.org\\\" rel=\\\"nofollow\\\"\\u003e\\u062a\\u0637\\u0628\\u064a\\u0642 \\u062f\\u0639\\u0640\\u0640\\u0640\\u0640\\u0640\\u0640\\u0640\\u0627\\u0621\\u003c\\/a\\u003e\",\"truncated\":false,\"in_reply_to_status_id\":null,\"in_reply_to_status_id_str\":null,\"in_reply_to_user_id\":null,\"in_reply_to_user_id_str\":null,\"in_reply_to_screen_name\":null,\"user\":{\"id\":4548022822,\"id_str\":\"4548022822\",\"name\":\"\\u0645\\u062f\\u062d\\u062a \\u0637\\u0627\\u0644\\u0628\",\"screen_name\":\"tJbmn6Hk1s5wLLX\",\"location\":null,\"url\":null,\"description\":null,\"protected\":false,\"verified\":false,\"followers_count\":133,\"friends_count\":336,\"listed_count\":0,\"favourites_count\":21,\"statuses_count\":682,\"created_at\":\"Sun Dec 20 16:35:35 +0000 2015\",\"utc_offset\":null,\"time_zone\":null,\"geo_enabled\":false,\"lang\":\"ar\",\"contributors_enabled\":false,\"is_translator\":false,\"profile_background_color\":\"F5F8FA\",\"profile_background_image_url\":\"\",\"profile_background_image_url_https\":\"\",\"profile_background_tile\":false,\"profile_link_color\":\"2B7BB9\",\"profile_sidebar_border_color\":\"C0DEED\",\"profile_sidebar_fill_color\":\"DDEEF6\",\"profile_text_color\":\"333333\",\"profile_use_background_image\":true,\"profile_image_url\":\"http:\\/\\/pbs.twimg.com\\/profile_images\\/678616028105019392\\/iINSWayM_normal.jpg\",\"profile_image_url_https\":\"https:\\/\\/pbs.twimg.com\\/profile_images\\/678616028105019392\\/iINSWayM_normal.jpg\",\"profile_banner_url\":\"https:\\/\\/pbs.twimg.com\\/profile_banners\\/4548022822\\/1450629642\",\"default_profile\":true,\"default_profile_image\":false,\"following\":null,\"follow_request_sent\":null,\"notifications\":null},\"geo\":null,\"coordinates\":null,\"place\":null,\"contributors\":null,\"is_quote_status\":false,\"retweet_count\":0,\"favorite_count\":0,\"entities\":{\"hashtags\":[],\"urls\":[{\"url\":\"https:\\/\\/t.co\\/EbRe8Pke9e\",\"expanded_url\":\"http:\\/\\/du3a.org\",\"display_url\":\"du3a.org\",\"indices\":[43,66]}],\"user_mentions\":[],\"symbols\":[]},\"favorited\":false,\"retweeted\":false,\"possibly_sensitive\":false,\"filter_level\":\"low\",\"lang\":\"ar\",\"timestamp_ms\":\"1459560722663\"}\n",
      "\n",
      "Has no text, skip entry\n",
      "Trying line:  {\"created_at\":\"Sat Apr 02 01:32:02 +0000 2016\",\"id\":716075687745085441,\"id_str\":\"716075687745085441\",\"text\":\"RT @Infographic_ksa: #\\u0645\\u0648\\u0634\\u0646\\u062c\\u0631\\u0627\\u0641\\u064a\\u0643 \\u0644\\u0628\\u0639\\u0636 \\u0645\\u0627\\u0648\\u0631\\u062f \\u0641\\u064a \\u062d\\u0648\\u0627\\u0631 \\u2067#\\u0627\\u0644\\u0623\\u0645\\u064a\\u0631_\\u0645\\u062d\\u0645\\u062f_\\u0628\\u0646_\\u0633\\u0644\\u0645\\u0627\\u0646\\u2069 \\u0644\\u0628\\u0644\\u0648\\u0645\\u0628\\u064a\\u0631\\u063a\\nhttps:\\/\\/t.co\\/fsn8hE7Wiu\",\"source\":\"\\u003ca href=\\\"http:\\/\\/twitter.com\\\" rel=\\\"nofollow\\\"\\u003eTwitter Web Client\\u003c\\/a\\u003e\",\"truncated\":false,\"in_reply_to_status_id\":null,\"in_reply_to_status_id_str\":null,\"in_reply_to_user_id\":null,\"in_reply_to_user_id_str\":null,\"in_reply_to_screen_name\":null,\"user\":{\"id\":3291829480,\"id_str\":\"3291829480\",\"name\":\"\\u0633\\u0627\\u0645\\u0631\\r \\u0627\\u0644\\u0631\\u0648\\u064a\\u0634\\u062f\",\"screen_name\":\"Samr_Alroeshd\",\"location\":\"\\u0627\\u0644\\u0645\\u0645\\u0644\\u0643\\u0629 \\u0627\\u0644\\u0639\\u0631\\u0628\\u064a\\u0629 \\u0627\\u0644\\u0633\\u0639\\u0648\\u062f\\u064a\\u0629 \",\"url\":null,\"description\":null,\"protected\":false,\"verified\":false,\"followers_count\":13,\"friends_count\":49,\"listed_count\":0,\"favourites_count\":16,\"statuses_count\":808,\"created_at\":\"Wed May 20 19:11:07 +0000 2015\",\"utc_offset\":null,\"time_zone\":null,\"geo_enabled\":false,\"lang\":\"en\",\"contributors_enabled\":false,\"is_translator\":false,\"profile_background_color\":\"C0DEED\",\"profile_background_image_url\":\"http:\\/\\/abs.twimg.com\\/images\\/themes\\/theme1\\/bg.png\",\"profile_background_image_url_https\":\"https:\\/\\/abs.twimg.com\\/images\\/themes\\/theme1\\/bg.png\",\"profile_background_tile\":false,\"profile_link_color\":\"0084B4\",\"profile_sidebar_border_color\":\"C0DEED\",\"profile_sidebar_fill_color\":\"DDEEF6\",\"profile_text_color\":\"333333\",\"profile_use_background_image\":true,\"profile_image_url\":\"http:\\/\\/pbs.twimg.com\\/profile_images\\/601447880633651202\\/VQyNfvMR_normal.jpg\",\"profile_image_url_https\":\"https:\\/\\/pbs.twimg.com\\/profile_images\\/601447880633651202\\/VQyNfvMR_normal.jpg\",\"default_profile\":true,\"default_profile_image\":false,\"following\":null,\"follow_request_sent\":null,\"notifications\":null},\"geo\":null,\"coordinates\":null,\"place\":null,\"contributors\":null,\"retweeted_status\":{\"created_at\":\"Sat Apr 02 01:12:31 +0000 2016\",\"id\":716070776701460480,\"id_str\":\"716070776701460480\",\"text\":\"#\\u0645\\u0648\\u0634\\u0646\\u062c\\u0631\\u0627\\u0641\\u064a\\u0643 \\u0644\\u0628\\u0639\\u0636 \\u0645\\u0627\\u0648\\u0631\\u062f \\u0641\\u064a \\u062d\\u0648\\u0627\\u0631 \\u2067#\\u0627\\u0644\\u0623\\u0645\\u064a\\u0631_\\u0645\\u062d\\u0645\\u062f_\\u0628\\u0646_\\u0633\\u0644\\u0645\\u0627\\u0646\\u2069 \\u0644\\u0628\\u0644\\u0648\\u0645\\u0628\\u064a\\u0631\\u063a\\nhttps:\\/\\/t.co\\/fsn8hE7Wiu\",\"source\":\"\\u003ca href=\\\"http:\\/\\/twitter.com\\\" rel=\\\"nofollow\\\"\\u003eTwitter Web Client\\u003c\\/a\\u003e\",\"truncated\":false,\"in_reply_to_status_id\":null,\"in_reply_to_status_id_str\":null,\"in_reply_to_user_id\":null,\"in_reply_to_user_id_str\":null,\"in_reply_to_screen_name\":null,\"user\":{\"id\":3265951398,\"id_str\":\"3265951398\",\"name\":\"\\u0625\\u0646\\u0641\\u0648\\u062c\\u0631\\u0627\\u0641\\u064a\\u0643 \\u0627\\u0644\\u0633\\u0639\\u0648\\u062f\\u064a\\u0629\",\"screen_name\":\"Infographic_ksa\",\"location\":\"\\u0627\\u0644\\u0645\\u0645\\u0644\\u0643\\u0629 \\u0627\\u0644\\u0639\\u0631\\u0628\\u064a\\u0629 \\u0627\\u0644\\u0633\\u0639\\u0648\\u062f\\u064a\\u0629\",\"url\":\"http:\\/\\/snapchat.com\\/add\\/Infographic_ksa\",\"description\":\"\\u0627\\u0646\\u0641\\u0648\\u062c\\u0631\\u0627\\u0641\\u064a\\u0643 \\u0627\\u0644\\u0633\\u0639\\u0648\\u062f\\u064a\\u0629\\u060c \\u062d\\u0642\\u0627\\u0626\\u0642 \\u0645\\u0648\\u062b\\u0642\\u0629. \\u062d\\u0642\\u0648\\u0642 \\u0627\\u0644\\u0646\\u0634\\u0631 \\u0645\\u0641\\u062a\\u0648\\u062d\\u0629 \\u0644\\u0644\\u0643\\u0644 no copyright. @Infographic_ksa: Facts backed by numbers & evidence; all of which could be found here.\",\"protected\":false,\"verified\":true,\"followers_count\":136859,\"friends_count\":48,\"listed_count\":374,\"favourites_count\":265,\"statuses_count\":1337,\"created_at\":\"Thu Jul 02 12:02:47 +0000 2015\",\"utc_offset\":10800,\"time_zone\":\"Riyadh\",\"geo_enabled\":true,\"lang\":\"ar\",\"contributors_enabled\":false,\"is_translator\":false,\"profile_background_color\":\"4A913C\",\"profile_background_image_url\":\"http:\\/\\/abs.twimg.com\\/images\\/themes\\/theme1\\/bg.png\",\"profile_background_image_url_https\":\"https:\\/\\/abs.twimg.com\\/images\\/themes\\/theme1\\/bg.png\",\"profile_background_tile\":false,\"profile_link_color\":\"4A913C\",\"profile_sidebar_border_color\":\"000000\",\"profile_sidebar_fill_color\":\"000000\",\"profile_text_color\":\"000000\",\"profile_use_background_image\":false,\"profile_image_url\":\"http:\\/\\/pbs.twimg.com\\/profile_images\\/646329771123568640\\/XRum1j3Y_normal.jpg\",\"profile_image_url_https\":\"https:\\/\\/pbs.twimg.com\\/profile_images\\/646329771123568640\\/XRum1j3Y_normal.jpg\",\"profile_banner_url\":\"https:\\/\\/pbs.twimg.com\\/profile_banners\\/3265951398\\/1456865296\",\"default_profile\":false,\"default_profile_image\":false,\"following\":null,\"follow_request_sent\":null,\"notifications\":null},\"geo\":null,\"coordinates\":null,\"place\":null,\"contributors\":null,\"is_quote_status\":false,\"retweet_count\":1977,\"favorite_count\":663,\"entities\":{\"hashtags\":[{\"text\":\"\\u0645\\u0648\\u0634\\u0646\\u062c\\u0631\\u0627\\u0641\\u064a\\u0643\",\"indices\":[0,11]},{\"text\":\"\\u0627\\u0644\\u0623\\u0645\\u064a\\u0631_\\u0645\\u062d\\u0645\\u062f_\\u0628\\u0646_\\u0633\\u0644\\u0645\\u0627\\u0646\",\"indices\":[32,53]}],\"urls\":[{\"url\":\"https:\\/\\/t.co\\/fsn8hE7Wiu\",\"expanded_url\":\"https:\\/\\/amp.twimg.com\\/v\\/6e0acfea-46e2-4db1-8c35-b8b9a952a2fd\",\"display_url\":\"amp.twimg.com\\/v\\/6e0acfea-46e\\u2026\",\"indices\":[65,88]}],\"user_mentions\":[],\"symbols\":[]},\"favorited\":false,\"retweeted\":false,\"possibly_sensitive\":false,\"filter_level\":\"low\",\"lang\":\"ar\"},\"is_quote_status\":false,\"retweet_count\":0,\"favorite_count\":0,\"entities\":{\"hashtags\":[{\"text\":\"\\u0645\\u0648\\u0634\\u0646\\u062c\\u0631\\u0627\\u0641\\u064a\\u0643\",\"indices\":[21,32]},{\"text\":\"\\u0627\\u0644\\u0623\\u0645\\u064a\\u0631_\\u0645\\u062d\\u0645\\u062f_\\u0628\\u0646_\\u0633\\u0644\\u0645\\u0627\\u0646\",\"indices\":[53,74]}],\"urls\":[{\"url\":\"https:\\/\\/t.co\\/fsn8hE7Wiu\",\"expanded_url\":\"https:\\/\\/amp.twimg.com\\/v\\/6e0acfea-46e2-4db1-8c35-b8b9a952a2fd\",\"display_url\":\"amp.twimg.com\\/v\\/6e0acfea-46e\\u2026\",\"indices\":[86,109]}],\"user_mentions\":[{\"screen_name\":\"Infographic_ksa\",\"name\":\"\\u0625\\u0646\\u0641\\u0648\\u062c\\u0631\\u0627\\u0641\\u064a\\u0643 \\u0627\\u0644\\u0633\\u0639\\u0648\\u062f\\u064a\\u0629\",\"id\":3265951398,\"id_str\":\"3265951398\",\"indices\":[3,19]}],\"symbols\":[]},\"favorited\":false,\"retweeted\":false,\"possibly_sensitive\":false,\"filter_level\":\"low\",\"lang\":\"ar\",\"timestamp_ms\":\"1459560722658\"}\n",
      "\n",
      "Has no text, skip entry\n",
      "Trying line:  {\"created_at\":\"Sat Apr 02 01:32:02 +0000 2016\",\"id\":716075687761809408,\"id_str\":\"716075687761809408\",\"text\":\"@pabloamaralgv \\u00e9 o programa\",\"source\":\"\\u003ca href=\\\"http:\\/\\/twitter.com\\/download\\/iphone\\\" rel=\\\"nofollow\\\"\\u003eTwitter for iPhone\\u003c\\/a\\u003e\",\"truncated\":false,\"in_reply_to_status_id\":716075460212441088,\"in_reply_to_status_id_str\":\"716075460212441088\",\"in_reply_to_user_id\":320455853,\"in_reply_to_user_id_str\":\"320455853\",\"in_reply_to_screen_name\":\"pabloamaralgv\",\"user\":{\"id\":159217610,\"id_str\":\"159217610\",\"name\":\"Raphael\",\"screen_name\":\"raphaelplay_\",\"location\":\"Aracaju, Brasil\",\"url\":null,\"description\":\"Televis\\u00e3o, Futebol, F\\u00f3rmula 1 e Problemas da vida: voc\\u00ea v\\u00ea por aqui\",\"protected\":false,\"verified\":false,\"followers_count\":1340,\"friends_count\":271,\"listed_count\":17,\"favourites_count\":146,\"statuses_count\":139185,\"created_at\":\"Thu Jun 24 19:53:53 +0000 2010\",\"utc_offset\":-10800,\"time_zone\":\"Brasilia\",\"geo_enabled\":true,\"lang\":\"pt\",\"contributors_enabled\":false,\"is_translator\":false,\"profile_background_color\":\"2B91C4\",\"profile_background_image_url\":\"http:\\/\\/pbs.twimg.com\\/profile_background_images\\/545377987844001793\\/6CamRri5.jpeg\",\"profile_background_image_url_https\":\"https:\\/\\/pbs.twimg.com\\/profile_background_images\\/545377987844001793\\/6CamRri5.jpeg\",\"profile_background_tile\":true,\"profile_link_color\":\"095875\",\"profile_sidebar_border_color\":\"000000\",\"profile_sidebar_fill_color\":\"3799DB\",\"profile_text_color\":\"000000\",\"profile_use_background_image\":true,\"profile_image_url\":\"http:\\/\\/pbs.twimg.com\\/profile_images\\/622529705036656640\\/hYL-WKdN_normal.jpg\",\"profile_image_url_https\":\"https:\\/\\/pbs.twimg.com\\/profile_images\\/622529705036656640\\/hYL-WKdN_normal.jpg\",\"profile_banner_url\":\"https:\\/\\/pbs.twimg.com\\/profile_banners\\/159217610\\/1449091219\",\"default_profile\":false,\"default_profile_image\":false,\"following\":null,\"follow_request_sent\":null,\"notifications\":null},\"geo\":null,\"coordinates\":null,\"place\":null,\"contributors\":null,\"is_quote_status\":false,\"retweet_count\":0,\"favorite_count\":0,\"entities\":{\"hashtags\":[],\"urls\":[],\"user_mentions\":[{\"screen_name\":\"pabloamaralgv\",\"name\":\"Pablo Arrocha\",\"id\":320455853,\"id_str\":\"320455853\",\"indices\":[0,14]}],\"symbols\":[]},\"favorited\":false,\"retweeted\":false,\"filter_level\":\"low\",\"lang\":\"pt\",\"timestamp_ms\":\"1459560722662\"}\n",
      "\n",
      "Has no text, skip entry\n",
      "Trying line:  {\"created_at\":\"Sat Apr 02 01:32:02 +0000 2016\",\"id\":716075687745101825,\"id_str\":\"716075687745101825\",\"text\":\"RT @Tribute_TFlash: @SeriesBrazil glee pisa\",\"source\":\"\\u003ca href=\\\"http:\\/\\/twitter.com\\/download\\/android\\\" rel=\\\"nofollow\\\"\\u003eTwitter for Android\\u003c\\/a\\u003e\",\"truncated\":false,\"in_reply_to_status_id\":null,\"in_reply_to_status_id_str\":null,\"in_reply_to_user_id\":null,\"in_reply_to_user_id_str\":null,\"in_reply_to_screen_name\":null,\"user\":{\"id\":1329768066,\"id_str\":\"1329768066\",\"name\":\"Gustavo\",\"screen_name\":\"LMS_lover\",\"location\":\"Brazil\",\"url\":null,\"description\":\"Leanatic for life... If you believe in yourself you can make yourself whatever you want to be! \\u2b50 #BOYLEANATIC\",\"protected\":false,\"verified\":false,\"followers_count\":372,\"friends_count\":107,\"listed_count\":3,\"favourites_count\":3595,\"statuses_count\":13238,\"created_at\":\"Fri Apr 05 18:10:11 +0000 2013\",\"utc_offset\":-10800,\"time_zone\":\"Brasilia\",\"geo_enabled\":true,\"lang\":\"pt\",\"contributors_enabled\":false,\"is_translator\":false,\"profile_background_color\":\"89C9FA\",\"profile_background_image_url\":\"http:\\/\\/abs.twimg.com\\/images\\/themes\\/theme18\\/bg.gif\",\"profile_background_image_url_https\":\"https:\\/\\/abs.twimg.com\\/images\\/themes\\/theme18\\/bg.gif\",\"profile_background_tile\":false,\"profile_link_color\":\"9266CC\",\"profile_sidebar_border_color\":\"EEEEEE\",\"profile_sidebar_fill_color\":\"F6F6F6\",\"profile_text_color\":\"333333\",\"profile_use_background_image\":true,\"profile_image_url\":\"http:\\/\\/pbs.twimg.com\\/profile_images\\/653951513052770304\\/QXsZvywo_normal.jpg\",\"profile_image_url_https\":\"https:\\/\\/pbs.twimg.com\\/profile_images\\/653951513052770304\\/QXsZvywo_normal.jpg\",\"profile_banner_url\":\"https:\\/\\/pbs.twimg.com\\/profile_banners\\/1329768066\\/1444749447\",\"default_profile\":false,\"default_profile_image\":false,\"following\":null,\"follow_request_sent\":null,\"notifications\":null},\"geo\":null,\"coordinates\":null,\"place\":null,\"contributors\":null,\"retweeted_status\":{\"created_at\":\"Sat Apr 02 00:29:08 +0000 2016\",\"id\":716059856155885568,\"id_str\":\"716059856155885568\",\"text\":\"@SeriesBrazil glee pisa\",\"source\":\"\\u003ca href=\\\"http:\\/\\/twitter.com\\/download\\/android\\\" rel=\\\"nofollow\\\"\\u003eTwitter for Android\\u003c\\/a\\u003e\",\"truncated\":false,\"in_reply_to_status_id\":716059692414476290,\"in_reply_to_status_id_str\":\"716059692414476290\",\"in_reply_to_user_id\":293807001,\"in_reply_to_user_id_str\":\"293807001\",\"in_reply_to_screen_name\":\"SeriesBrazil\",\"user\":{\"id\":1659026232,\"id_str\":\"1659026232\",\"name\":\"Fabio o mockingjay \\u27b0\",\"screen_name\":\"Tribute_TFlash\",\"location\":null,\"url\":null,\"description\":\"\\u00e9 a vida\",\"protected\":false,\"verified\":false,\"followers_count\":1112,\"friends_count\":667,\"listed_count\":9,\"favourites_count\":9443,\"statuses_count\":21189,\"created_at\":\"Sat Aug 10 02:15:49 +0000 2013\",\"utc_offset\":-25200,\"time_zone\":\"Pacific Time (US & Canada)\",\"geo_enabled\":true,\"lang\":\"pt\",\"contributors_enabled\":false,\"is_translator\":false,\"profile_background_color\":\"C0DEED\",\"profile_background_image_url\":\"http:\\/\\/abs.twimg.com\\/images\\/themes\\/theme1\\/bg.png\",\"profile_background_image_url_https\":\"https:\\/\\/abs.twimg.com\\/images\\/themes\\/theme1\\/bg.png\",\"profile_background_tile\":false,\"profile_link_color\":\"0084B4\",\"profile_sidebar_border_color\":\"C0DEED\",\"profile_sidebar_fill_color\":\"DDEEF6\",\"profile_text_color\":\"333333\",\"profile_use_background_image\":true,\"profile_image_url\":\"http:\\/\\/pbs.twimg.com\\/profile_images\\/715225454085607426\\/hcrwI2eR_normal.jpg\",\"profile_image_url_https\":\"https:\\/\\/pbs.twimg.com\\/profile_images\\/715225454085607426\\/hcrwI2eR_normal.jpg\",\"profile_banner_url\":\"https:\\/\\/pbs.twimg.com\\/profile_banners\\/1659026232\\/1459358434\",\"default_profile\":true,\"default_profile_image\":false,\"following\":null,\"follow_request_sent\":null,\"notifications\":null},\"geo\":null,\"coordinates\":null,\"place\":null,\"contributors\":null,\"is_quote_status\":false,\"retweet_count\":5,\"favorite_count\":0,\"entities\":{\"hashtags\":[],\"urls\":[],\"user_mentions\":[{\"screen_name\":\"SeriesBrazil\",\"name\":\"S\\u00e9ries Brasil\",\"id\":293807001,\"id_str\":\"293807001\",\"indices\":[0,13]}],\"symbols\":[]},\"favorited\":false,\"retweeted\":false,\"filter_level\":\"low\",\"lang\":\"und\"},\"is_quote_status\":false,\"retweet_count\":0,\"favorite_count\":0,\"entities\":{\"hashtags\":[],\"urls\":[],\"user_mentions\":[{\"screen_name\":\"Tribute_TFlash\",\"name\":\"Fabio o mockingjay \\u27b0\",\"id\":1659026232,\"id_str\":\"1659026232\",\"indices\":[3,18]},{\"screen_name\":\"SeriesBrazil\",\"name\":\"S\\u00e9ries Brasil\",\"id\":293807001,\"id_str\":\"293807001\",\"indices\":[20,33]}],\"symbols\":[]},\"favorited\":false,\"retweeted\":false,\"filter_level\":\"low\",\"lang\":\"und\",\"timestamp_ms\":\"1459560722658\"}\n",
      "\n",
      "Has no text, skip entry\n",
      "Trying line:  {\"created_at\":\"Sat Apr 02 01:32:02 +0000 2016\",\"id\":716075687778656257,\"id_str\":\"716075687778656257\",\"text\":\"RT @TasbehEstigfar: \\u062a\\u0637\\u0628\\u064a\\u0642 \\u0627\\u0644\\u0642\\u0631\\u0622\\u0646 \\u0627\\u0644\\u0643\\u0631\\u064a\\u0645 \\u0627\\u0644\\u0634\\u0627\\u0645\\u0644 \\u0648\\u0642\\u0641 \\u0648\\u0635\\u062f\\u0642\\u0629 \\u062c\\u0627\\u0631\\u064a\\u0629 \\u0644\\u0644\\u0648\\u0627\\u0644\\u062f \\u0627\\u0644\\u0644\\u0647 \\u064a\\u0631\\u062d\\u0645\\u0647\\u060c \\u0644\\u0627\\u062a\\u062d\\u0631\\u0645\\u0648\\u0647 \\u0627\\u0644\\u0627\\u062c\\u0631 https:\\/\\/t.co\\/pRXVzL90iZ \\u0631\\u0628\\u064e\\u064a \\u0627\\u0631\\u062d\\u0645\\u0647 \\u0648\\u0627\\u0631\\u062d\\u0645 \\u0623\\u2026\",\"source\":\"\\u003ca href=\\\"http:\\/\\/twitter.com\\/download\\/android\\\" rel=\\\"nofollow\\\"\\u003eTwitter for Android\\u003c\\/a\\u003e\",\"truncated\":false,\"in_reply_to_status_id\":null,\"in_reply_to_status_id_str\":null,\"in_reply_to_user_id\":null,\"in_reply_to_user_id_str\":null,\"in_reply_to_screen_name\":null,\"user\":{\"id\":2152549595,\"id_str\":\"2152549595\",\"name\":\"\\u0623\\u0628\\u0648 \\u0645\\u062d\\u0645\\u062f\",\"screen_name\":\"am155155\",\"location\":null,\"url\":null,\"description\":\"\\u200f\\u200f\\u200f\\u0627\\u0644\\u0644\\u0647\\u0645 \\u0627\\u062d\\u0641\\u0638 \\u0628\\u0644\\u0627\\u062f\\u064a \\u0648\\u0623\\u0647\\u0644\\u0647\\u0627 \\u0645\\u0646 \\u0643\\u0644 \\u0634\\u0631 \\u0648\\u0647\\u0644\\u0643 \\u0625\\u064a\\u0631\\u0627\\u0646 \\u0648\\u0627\\u0630\\u0646\\u0627\\u0628\\u0647\\u0627 \\u0628\\u0643\\u0644 \\u0645\\u0643\\u0627\\u0646.\",\"protected\":false,\"verified\":false,\"followers_count\":126,\"friends_count\":215,\"listed_count\":0,\"favourites_count\":134,\"statuses_count\":4913,\"created_at\":\"Fri Oct 25 12:01:08 +0000 2013\",\"utc_offset\":null,\"time_zone\":null,\"geo_enabled\":false,\"lang\":\"en\",\"contributors_enabled\":false,\"is_translator\":false,\"profile_background_color\":\"C0DEED\",\"profile_background_image_url\":\"http:\\/\\/abs.twimg.com\\/images\\/themes\\/theme1\\/bg.png\",\"profile_background_image_url_https\":\"https:\\/\\/abs.twimg.com\\/images\\/themes\\/theme1\\/bg.png\",\"profile_background_tile\":false,\"profile_link_color\":\"0084B4\",\"profile_sidebar_border_color\":\"C0DEED\",\"profile_sidebar_fill_color\":\"DDEEF6\",\"profile_text_color\":\"333333\",\"profile_use_background_image\":true,\"profile_image_url\":\"http:\\/\\/pbs.twimg.com\\/profile_images\\/688100780595896320\\/HzHtAFZM_normal.jpg\",\"profile_image_url_https\":\"https:\\/\\/pbs.twimg.com\\/profile_images\\/688100780595896320\\/HzHtAFZM_normal.jpg\",\"profile_banner_url\":\"https:\\/\\/pbs.twimg.com\\/profile_banners\\/2152549595\\/1433663011\",\"default_profile\":true,\"default_profile_image\":false,\"following\":null,\"follow_request_sent\":null,\"notifications\":null},\"geo\":null,\"coordinates\":null,\"place\":null,\"contributors\":null,\"retweeted_status\":{\"created_at\":\"Sat Apr 02 01:18:34 +0000 2016\",\"id\":716072297862447104,\"id_str\":\"716072297862447104\",\"text\":\"\\u062a\\u0637\\u0628\\u064a\\u0642 \\u0627\\u0644\\u0642\\u0631\\u0622\\u0646 \\u0627\\u0644\\u0643\\u0631\\u064a\\u0645 \\u0627\\u0644\\u0634\\u0627\\u0645\\u0644 \\u0648\\u0642\\u0641 \\u0648\\u0635\\u062f\\u0642\\u0629 \\u062c\\u0627\\u0631\\u064a\\u0629 \\u0644\\u0644\\u0648\\u0627\\u0644\\u062f \\u0627\\u0644\\u0644\\u0647 \\u064a\\u0631\\u062d\\u0645\\u0647\\u060c \\u0644\\u0627\\u062a\\u062d\\u0631\\u0645\\u0648\\u0647 \\u0627\\u0644\\u0627\\u062c\\u0631 https:\\/\\/t.co\\/pRXVzL90iZ \\u0631\\u0628\\u064e\\u064a \\u0627\\u0631\\u062d\\u0645\\u0647 \\u0648\\u0627\\u0631\\u062d\\u0645 \\u0623\\u0645\\u0648\\u0627\\u062a \\u0627\\u0644\\u0645\\u0633\\u0644\\u0645\\u064a\\u0646\",\"source\":\"\\u003ca href=\\\"http:\\/\\/ifttt.com\\\" rel=\\\"nofollow\\\"\\u003eIFTTT\\u003c\\/a\\u003e\",\"truncated\":false,\"in_reply_to_status_id\":null,\"in_reply_to_status_id_str\":null,\"in_reply_to_user_id\":null,\"in_reply_to_user_id_str\":null,\"in_reply_to_screen_name\":null,\"user\":{\"id\":2333266243,\"id_str\":\"2333266243\",\"name\":\"\\u062a\\u0633\\u0628\\u064a\\u062d \\u0648 \\u0627\\u0633\\u062a\\u063a\\u0641\\u0627\\u0631\",\"screen_name\":\"TasbehEstigfar\",\"location\":null,\"url\":null,\"description\":\"\\u062d\\u0633\\u0627\\u0628 \\u064a\\u063a\\u0631\\u062f \\u0643\\u0644 \\u0633\\u0627\\u0639\\u0647 \\u0644\\u062a\\u0633\\u062a\\u063a\\u0641\\u0631 \\u0627\\u0644\\u0644\\u0647 \\u0648\\u062a\\u0633\\u0628\\u062d \\u0628\\u062d\\u0645\\u062f\\u0647 \\u0628\\u062a\\u0641\\u0636\\u064a\\u0644\\u0643 \\u0648\\u0636\\u063a\\u0637 \\u0632\\u0631 \\u0627\\u0644\\u0631\\u064a\\u062a\\u0648\\u064a\\u062a \\u0648 \\u0627\\u0644\\u0641\\u0644\\u0648 \\u0633\\u062a\\u0633\\u0627\\u0647\\u0645 \\u0641\\u064a \\u0646\\u0634\\u0631 \\u0627\\u0644\\u062e\\u064a\\u0631\",\"protected\":false,\"verified\":false,\"followers_count\":381656,\"friends_count\":134,\"listed_count\":384,\"favourites_count\":8981,\"statuses_count\":44523,\"created_at\":\"Sat Feb 08 10:29:19 +0000 2014\",\"utc_offset\":10800,\"time_zone\":\"Riyadh\",\"geo_enabled\":false,\"lang\":\"ar\",\"contributors_enabled\":false,\"is_translator\":false,\"profile_background_color\":\"038500\",\"profile_background_image_url\":\"http:\\/\\/pbs.twimg.com\\/profile_background_images\\/445661040659808256\\/IS-Ccs3P.jpeg\",\"profile_background_image_url_https\":\"https:\\/\\/pbs.twimg.com\\/profile_background_images\\/445661040659808256\\/IS-Ccs3P.jpeg\",\"profile_background_tile\":true,\"profile_link_color\":\"4A913C\",\"profile_sidebar_border_color\":\"000000\",\"profile_sidebar_fill_color\":\"EADEAA\",\"profile_text_color\":\"333333\",\"profile_use_background_image\":true,\"profile_image_url\":\"http:\\/\\/pbs.twimg.com\\/profile_images\\/612419596197343232\\/0Z4iarN4_normal.jpg\",\"profile_image_url_https\":\"https:\\/\\/pbs.twimg.com\\/profile_images\\/612419596197343232\\/0Z4iarN4_normal.jpg\",\"profile_banner_url\":\"https:\\/\\/pbs.twimg.com\\/profile_banners\\/2333266243\\/1435117183\",\"default_profile\":false,\"default_profile_image\":false,\"following\":null,\"follow_request_sent\":null,\"notifications\":null},\"geo\":null,\"coordinates\":null,\"place\":null,\"contributors\":null,\"is_quote_status\":false,\"retweet_count\":25,\"favorite_count\":13,\"entities\":{\"hashtags\":[],\"urls\":[{\"url\":\"https:\\/\\/t.co\\/pRXVzL90iZ\",\"expanded_url\":\"http:\\/\\/goo.gl\\/WBfUxU\",\"display_url\":\"goo.gl\\/WBfUxU\",\"indices\":[77,100]}],\"user_mentions\":[],\"symbols\":[]},\"favorited\":false,\"retweeted\":false,\"possibly_sensitive\":false,\"filter_level\":\"low\",\"lang\":\"ar\"},\"is_quote_status\":false,\"retweet_count\":0,\"favorite_count\":0,\"entities\":{\"hashtags\":[],\"urls\":[{\"url\":\"https:\\/\\/t.co\\/pRXVzL90iZ\",\"expanded_url\":\"http:\\/\\/goo.gl\\/WBfUxU\",\"display_url\":\"goo.gl\\/WBfUxU\",\"indices\":[97,120]}],\"user_mentions\":[{\"screen_name\":\"TasbehEstigfar\",\"name\":\"\\u062a\\u0633\\u0628\\u064a\\u062d \\u0648 \\u0627\\u0633\\u062a\\u063a\\u0641\\u0627\\u0631\",\"id\":2333266243,\"id_str\":\"2333266243\",\"indices\":[3,18]}],\"symbols\":[]},\"favorited\":false,\"retweeted\":false,\"possibly_sensitive\":false,\"filter_level\":\"low\",\"lang\":\"ar\",\"timestamp_ms\":\"1459560722666\"}\n",
      "\n",
      "Has no text, skip entry\n",
      "Trying line:  {\"created_at\":\"Sat Apr 02 01:32:02 +0000 2016\",\"id\":716075687740895232,\"id_str\":\"716075687740895232\",\"text\":\"T\\u00e1 tendo um tanto de not\\u00edcias boas na internet, quando vou abrir e ler, \\u00e9 pegadinha de 1\\u00b0 de abril\",\"source\":\"\\u003ca href=\\\"http:\\/\\/twitter.com\\/download\\/android\\\" rel=\\\"nofollow\\\"\\u003eTwitter for Android\\u003c\\/a\\u003e\",\"truncated\":false,\"in_reply_to_status_id\":null,\"in_reply_to_status_id_str\":null,\"in_reply_to_user_id\":null,\"in_reply_to_user_id_str\":null,\"in_reply_to_screen_name\":null,\"user\":{\"id\":2515702763,\"id_str\":\"2515702763\",\"name\":\"\\u3164\\u262e \\u3164\\u262e\",\"screen_name\":\"nanbibiano\",\"location\":\"BH\",\"url\":\"http:\\/\\/instagram.com\\/nanbibiano\",\"description\":\"nada mais bonito do que o amor pr\\u00f3prio\",\"protected\":false,\"verified\":false,\"followers_count\":443,\"friends_count\":79,\"listed_count\":2,\"favourites_count\":1526,\"statuses_count\":8845,\"created_at\":\"Mon Apr 28 23:05:51 +0000 2014\",\"utc_offset\":-10800,\"time_zone\":\"Brasilia\",\"geo_enabled\":true,\"lang\":\"pt\",\"contributors_enabled\":false,\"is_translator\":false,\"profile_background_color\":\"ABB8C2\",\"profile_background_image_url\":\"http:\\/\\/pbs.twimg.com\\/profile_background_images\\/662035735160168456\\/kt7HPJkX.jpg\",\"profile_background_image_url_https\":\"https:\\/\\/pbs.twimg.com\\/profile_background_images\\/662035735160168456\\/kt7HPJkX.jpg\",\"profile_background_tile\":true,\"profile_link_color\":\"3B94D9\",\"profile_sidebar_border_color\":\"000000\",\"profile_sidebar_fill_color\":\"DDEEF6\",\"profile_text_color\":\"333333\",\"profile_use_background_image\":true,\"profile_image_url\":\"http:\\/\\/pbs.twimg.com\\/profile_images\\/710661432342355968\\/fD18MHht_normal.jpg\",\"profile_image_url_https\":\"https:\\/\\/pbs.twimg.com\\/profile_images\\/710661432342355968\\/fD18MHht_normal.jpg\",\"profile_banner_url\":\"https:\\/\\/pbs.twimg.com\\/profile_banners\\/2515702763\\/1459212807\",\"default_profile\":false,\"default_profile_image\":false,\"following\":null,\"follow_request_sent\":null,\"notifications\":null},\"geo\":null,\"coordinates\":null,\"place\":null,\"contributors\":null,\"is_quote_status\":false,\"retweet_count\":0,\"favorite_count\":0,\"entities\":{\"hashtags\":[],\"urls\":[],\"user_mentions\":[],\"symbols\":[]},\"favorited\":false,\"retweeted\":false,\"filter_level\":\"low\",\"lang\":\"pt\",\"timestamp_ms\":\"1459560722657\"}\n",
      "\n",
      "Has no text, skip entry\n",
      "Trying line:  {\"created_at\":\"Sat Apr 02 01:32:02 +0000 2016\",\"id\":716075687774404608,\"id_str\":\"716075687774404608\",\"text\":\"RT @argiro1961: Van 500 millones por Otoniel , necesito la red de cooperantes q ten\\u00eda el guerrerista Uribe. https:\\/\\/t.co\\/cdbhlbJRti\",\"source\":\"\\u003ca href=\\\"http:\\/\\/twitter.com\\\" rel=\\\"nofollow\\\"\\u003eTwitter Web Client\\u003c\\/a\\u003e\",\"truncated\":false,\"in_reply_to_status_id\":null,\"in_reply_to_status_id_str\":null,\"in_reply_to_user_id\":null,\"in_reply_to_user_id_str\":null,\"in_reply_to_screen_name\":null,\"user\":{\"id\":1025248639,\"id_str\":\"1025248639\",\"name\":\"MARIA\\u00ae\",\"screen_name\":\"puertag63_\",\"location\":\"DESDE LA DISTANCIA MUY LEJOS \",\"url\":null,\"description\":\"URIBISTA 100% \\nCUANDO UN MAMERTO ME QUIERE JODER SIMPLEMENTE LO BLOQUEO VOY CON URIBE POR SIEMPRE.\",\"protected\":false,\"verified\":false,\"followers_count\":2457,\"friends_count\":1595,\"listed_count\":12,\"favourites_count\":11394,\"statuses_count\":32384,\"created_at\":\"Thu Dec 20 23:32:52 +0000 2012\",\"utc_offset\":-18000,\"time_zone\":\"Bogota\",\"geo_enabled\":true,\"lang\":\"es\",\"contributors_enabled\":false,\"is_translator\":false,\"profile_background_color\":\"BADFCD\",\"profile_background_image_url\":\"http:\\/\\/abs.twimg.com\\/images\\/themes\\/theme12\\/bg.gif\",\"profile_background_image_url_https\":\"https:\\/\\/abs.twimg.com\\/images\\/themes\\/theme12\\/bg.gif\",\"profile_background_tile\":false,\"profile_link_color\":\"FF0000\",\"profile_sidebar_border_color\":\"F2E195\",\"profile_sidebar_fill_color\":\"FFF7CC\",\"profile_text_color\":\"0C3E53\",\"profile_use_background_image\":true,\"profile_image_url\":\"http:\\/\\/pbs.twimg.com\\/profile_images\\/702239978944929797\\/oqPclrvk_normal.jpg\",\"profile_image_url_https\":\"https:\\/\\/pbs.twimg.com\\/profile_images\\/702239978944929797\\/oqPclrvk_normal.jpg\",\"profile_banner_url\":\"https:\\/\\/pbs.twimg.com\\/profile_banners\\/1025248639\\/1457400580\",\"default_profile\":false,\"default_profile_image\":false,\"following\":null,\"follow_request_sent\":null,\"notifications\":null},\"geo\":null,\"coordinates\":null,\"place\":null,\"contributors\":null,\"retweeted_status\":{\"created_at\":\"Sat Apr 02 01:30:09 +0000 2016\",\"id\":716075213394460672,\"id_str\":\"716075213394460672\",\"text\":\"Van 500 millones por Otoniel , necesito la red de cooperantes q ten\\u00eda el guerrerista Uribe. https:\\/\\/t.co\\/cdbhlbJRti\",\"source\":\"\\u003ca href=\\\"http:\\/\\/twitter.com\\/#!\\/download\\/ipad\\\" rel=\\\"nofollow\\\"\\u003eTwitter for iPad\\u003c\\/a\\u003e\",\"truncated\":false,\"in_reply_to_status_id\":null,\"in_reply_to_status_id_str\":null,\"in_reply_to_user_id\":null,\"in_reply_to_user_id_str\":null,\"in_reply_to_screen_name\":null,\"user\":{\"id\":1436348834,\"id_str\":\"1436348834\",\"name\":\"Argiro Casta\\u00f1o\",\"screen_name\":\"argiro1961\",\"location\":null,\"url\":null,\"description\":\"Cincuenta y cuatro a\\u00f1os. Padre de familia. Carpintero de profesi\\u00f3n, campesino de coraz\\u00f3n, enamorado de mi negra y m\\u00e1s Uribista que un putas.\",\"protected\":false,\"verified\":false,\"followers_count\":15324,\"friends_count\":800,\"listed_count\":52,\"favourites_count\":118093,\"statuses_count\":72647,\"created_at\":\"Fri May 17 18:18:42 +0000 2013\",\"utc_offset\":null,\"time_zone\":null,\"geo_enabled\":true,\"lang\":\"es\",\"contributors_enabled\":false,\"is_translator\":false,\"profile_background_color\":\"C0DEED\",\"profile_background_image_url\":\"http:\\/\\/abs.twimg.com\\/images\\/themes\\/theme1\\/bg.png\",\"profile_background_image_url_https\":\"https:\\/\\/abs.twimg.com\\/images\\/themes\\/theme1\\/bg.png\",\"profile_background_tile\":false,\"profile_link_color\":\"0084B4\",\"profile_sidebar_border_color\":\"C0DEED\",\"profile_sidebar_fill_color\":\"DDEEF6\",\"profile_text_color\":\"333333\",\"profile_use_background_image\":true,\"profile_image_url\":\"http:\\/\\/pbs.twimg.com\\/profile_images\\/710414741018165248\\/IDltDtO5_normal.jpg\",\"profile_image_url_https\":\"https:\\/\\/pbs.twimg.com\\/profile_images\\/710414741018165248\\/IDltDtO5_normal.jpg\",\"profile_banner_url\":\"https:\\/\\/pbs.twimg.com\\/profile_banners\\/1436348834\\/1459294457\",\"default_profile\":true,\"default_profile_image\":false,\"following\":null,\"follow_request_sent\":null,\"notifications\":null},\"geo\":null,\"coordinates\":null,\"place\":null,\"contributors\":null,\"is_quote_status\":false,\"retweet_count\":1,\"favorite_count\":0,\"entities\":{\"hashtags\":[],\"urls\":[],\"user_mentions\":[],\"symbols\":[],\"media\":[{\"id\":716075184982200320,\"id_str\":\"716075184982200320\",\"indices\":[92,115],\"media_url\":\"http:\\/\\/pbs.twimg.com\\/media\\/CfACljlWEAAjAJD.jpg\",\"media_url_https\":\"https:\\/\\/pbs.twimg.com\\/media\\/CfACljlWEAAjAJD.jpg\",\"url\":\"https:\\/\\/t.co\\/cdbhlbJRti\",\"display_url\":\"pic.twitter.com\\/cdbhlbJRti\",\"expanded_url\":\"http:\\/\\/twitter.com\\/argiro1961\\/status\\/716075213394460672\\/photo\\/1\",\"type\":\"photo\",\"sizes\":{\"medium\":{\"w\":560,\"h\":373,\"resize\":\"fit\"},\"thumb\":{\"w\":150,\"h\":150,\"resize\":\"crop\"},\"small\":{\"w\":340,\"h\":226,\"resize\":\"fit\"},\"large\":{\"w\":560,\"h\":373,\"resize\":\"fit\"}}}]},\"extended_entities\":{\"media\":[{\"id\":716075184982200320,\"id_str\":\"716075184982200320\",\"indices\":[92,115],\"media_url\":\"http:\\/\\/pbs.twimg.com\\/media\\/CfACljlWEAAjAJD.jpg\",\"media_url_https\":\"https:\\/\\/pbs.twimg.com\\/media\\/CfACljlWEAAjAJD.jpg\",\"url\":\"https:\\/\\/t.co\\/cdbhlbJRti\",\"display_url\":\"pic.twitter.com\\/cdbhlbJRti\",\"expanded_url\":\"http:\\/\\/twitter.com\\/argiro1961\\/status\\/716075213394460672\\/photo\\/1\",\"type\":\"photo\",\"sizes\":{\"medium\":{\"w\":560,\"h\":373,\"resize\":\"fit\"},\"thumb\":{\"w\":150,\"h\":150,\"resize\":\"crop\"},\"small\":{\"w\":340,\"h\":226,\"resize\":\"fit\"},\"large\":{\"w\":560,\"h\":373,\"resize\":\"fit\"}}}]},\"favorited\":false,\"retweeted\":false,\"possibly_sensitive\":false,\"filter_level\":\"low\",\"lang\":\"es\"},\"is_quote_status\":false,\"retweet_count\":0,\"favorite_count\":0,\"entities\":{\"hashtags\":[],\"urls\":[],\"user_mentions\":[{\"screen_name\":\"argiro1961\",\"name\":\"Argiro Casta\\u00f1o\",\"id\":1436348834,\"id_str\":\"1436348834\",\"indices\":[3,14]}],\"symbols\":[],\"media\":[{\"id\":716075184982200320,\"id_str\":\"716075184982200320\",\"indices\":[108,131],\"media_url\":\"http:\\/\\/pbs.twimg.com\\/media\\/CfACljlWEAAjAJD.jpg\",\"media_url_https\":\"https:\\/\\/pbs.twimg.com\\/media\\/CfACljlWEAAjAJD.jpg\",\"url\":\"https:\\/\\/t.co\\/cdbhlbJRti\",\"display_url\":\"pic.twitter.com\\/cdbhlbJRti\",\"expanded_url\":\"http:\\/\\/twitter.com\\/argiro1961\\/status\\/716075213394460672\\/photo\\/1\",\"type\":\"photo\",\"sizes\":{\"medium\":{\"w\":560,\"h\":373,\"resize\":\"fit\"},\"thumb\":{\"w\":150,\"h\":150,\"resize\":\"crop\"},\"small\":{\"w\":340,\"h\":226,\"resize\":\"fit\"},\"large\":{\"w\":560,\"h\":373,\"resize\":\"fit\"}},\"source_status_id\":716075213394460672,\"source_status_id_str\":\"716075213394460672\",\"source_user_id\":1436348834,\"source_user_id_str\":\"1436348834\"}]},\"extended_entities\":{\"media\":[{\"id\":716075184982200320,\"id_str\":\"716075184982200320\",\"indices\":[108,131],\"media_url\":\"http:\\/\\/pbs.twimg.com\\/media\\/CfACljlWEAAjAJD.jpg\",\"media_url_https\":\"https:\\/\\/pbs.twimg.com\\/media\\/CfACljlWEAAjAJD.jpg\",\"url\":\"https:\\/\\/t.co\\/cdbhlbJRti\",\"display_url\":\"pic.twitter.com\\/cdbhlbJRti\",\"expanded_url\":\"http:\\/\\/twitter.com\\/argiro1961\\/status\\/716075213394460672\\/photo\\/1\",\"type\":\"photo\",\"sizes\":{\"medium\":{\"w\":560,\"h\":373,\"resize\":\"fit\"},\"thumb\":{\"w\":150,\"h\":150,\"resize\":\"crop\"},\"small\":{\"w\":340,\"h\":226,\"resize\":\"fit\"},\"large\":{\"w\":560,\"h\":373,\"resize\":\"fit\"}},\"source_status_id\":716075213394460672,\"source_status_id_str\":\"716075213394460672\",\"source_user_id\":1436348834,\"source_user_id_str\":\"1436348834\"}]},\"favorited\":false,\"retweeted\":false,\"possibly_sensitive\":false,\"filter_level\":\"low\",\"lang\":\"es\",\"timestamp_ms\":\"1459560722665\"}\n",
      "\n",
      "Has no text, skip entry\n",
      "Trying line:  {\"created_at\":\"Sat Apr 02 01:32:02 +0000 2016\",\"id\":716075687770193921,\"id_str\":\"716075687770193921\",\"text\":\"Que nunca me falten mis amigos plis \\ud83d\\udc4c\\u270c\\ud83d\\udc95\",\"source\":\"\\u003ca href=\\\"http:\\/\\/twitter.com\\/download\\/android\\\" rel=\\\"nofollow\\\"\\u003eTwitter for Android\\u003c\\/a\\u003e\",\"truncated\":false,\"in_reply_to_status_id\":null,\"in_reply_to_status_id_str\":null,\"in_reply_to_user_id\":null,\"in_reply_to_user_id_str\":null,\"in_reply_to_screen_name\":null,\"user\":{\"id\":1365120894,\"id_str\":\"1365120894\",\"name\":\"Yuliana\",\"screen_name\":\"Yuliana_Sk8\",\"location\":null,\"url\":null,\"description\":\"Ni Las Farras Ni Las Drogas Ni El Alcohol Podr\\u00e1n Brindarle La Diversi\\u00f3n y La Libertad Que Se Siente Al Patinar\",\"protected\":false,\"verified\":false,\"followers_count\":215,\"friends_count\":151,\"listed_count\":2,\"favourites_count\":824,\"statuses_count\":4442,\"created_at\":\"Fri Apr 19 18:49:55 +0000 2013\",\"utc_offset\":-14400,\"time_zone\":\"Eastern Time (US & Canada)\",\"geo_enabled\":true,\"lang\":\"es\",\"contributors_enabled\":false,\"is_translator\":false,\"profile_background_color\":\"C0DEED\",\"profile_background_image_url\":\"http:\\/\\/pbs.twimg.com\\/profile_background_images\\/633751650155401216\\/Wo0BRaxD.jpg\",\"profile_background_image_url_https\":\"https:\\/\\/pbs.twimg.com\\/profile_background_images\\/633751650155401216\\/Wo0BRaxD.jpg\",\"profile_background_tile\":true,\"profile_link_color\":\"0084B4\",\"profile_sidebar_border_color\":\"FFFFFF\",\"profile_sidebar_fill_color\":\"DDEEF6\",\"profile_text_color\":\"333333\",\"profile_use_background_image\":true,\"profile_image_url\":\"http:\\/\\/pbs.twimg.com\\/profile_images\\/711780534263930880\\/7fwumlcB_normal.jpg\",\"profile_image_url_https\":\"https:\\/\\/pbs.twimg.com\\/profile_images\\/711780534263930880\\/7fwumlcB_normal.jpg\",\"profile_banner_url\":\"https:\\/\\/pbs.twimg.com\\/profile_banners\\/1365120894\\/1458536676\",\"default_profile\":false,\"default_profile_image\":false,\"following\":null,\"follow_request_sent\":null,\"notifications\":null},\"geo\":null,\"coordinates\":null,\"place\":null,\"contributors\":null,\"is_quote_status\":false,\"retweet_count\":0,\"favorite_count\":0,\"entities\":{\"hashtags\":[],\"urls\":[],\"user_mentions\":[],\"symbols\":[]},\"favorited\":false,\"retweeted\":false,\"filter_level\":\"low\",\"lang\":\"es\",\"timestamp_ms\":\"1459560722664\"}\n",
      "\n",
      "Has no text, skip entry\n",
      "Trying line:  {\"created_at\":\"Sat Apr 02 01:32:02 +0000 2016\",\"id\":716075687774433281,\"id_str\":\"716075687774433281\",\"text\":\"RT @Laker_Show: REPORT: Lakers looking to trade D'Angelo Russell because of recent issues. https:\\/\\/t.co\\/Bq9KmHhYuo\",\"source\":\"\\u003ca href=\\\"http:\\/\\/twitter.com\\/download\\/iphone\\\" rel=\\\"nofollow\\\"\\u003eTwitter for iPhone\\u003c\\/a\\u003e\",\"truncated\":false,\"in_reply_to_status_id\":null,\"in_reply_to_status_id_str\":null,\"in_reply_to_user_id\":null,\"in_reply_to_user_id_str\":null,\"in_reply_to_screen_name\":null,\"user\":{\"id\":2256181070,\"id_str\":\"2256181070\",\"name\":\"TheOnlyG\",\"screen_name\":\"BuggaButtFatCat\",\"location\":\"Brooklyn, NY \",\"url\":null,\"description\":\"B\\u00aeOOKLYN\\u264e\\ufe0f God1st, MyMother2nd, MyFamily3rd: #YoungNapps SC:BeGreatG Im Like No Other\",\"protected\":false,\"verified\":false,\"followers_count\":136,\"friends_count\":250,\"listed_count\":0,\"favourites_count\":3223,\"statuses_count\":1596,\"created_at\":\"Sat Dec 21 08:23:46 +0000 2013\",\"utc_offset\":null,\"time_zone\":null,\"geo_enabled\":false,\"lang\":\"en\",\"contributors_enabled\":false,\"is_translator\":false,\"profile_background_color\":\"C0DEED\",\"profile_background_image_url\":\"http:\\/\\/abs.twimg.com\\/images\\/themes\\/theme1\\/bg.png\",\"profile_background_image_url_https\":\"https:\\/\\/abs.twimg.com\\/images\\/themes\\/theme1\\/bg.png\",\"profile_background_tile\":false,\"profile_link_color\":\"0084B4\",\"profile_sidebar_border_color\":\"C0DEED\",\"profile_sidebar_fill_color\":\"DDEEF6\",\"profile_text_color\":\"333333\",\"profile_use_background_image\":true,\"profile_image_url\":\"http:\\/\\/pbs.twimg.com\\/profile_images\\/716074150004011010\\/1M0WEDtB_normal.jpg\",\"profile_image_url_https\":\"https:\\/\\/pbs.twimg.com\\/profile_images\\/716074150004011010\\/1M0WEDtB_normal.jpg\",\"profile_banner_url\":\"https:\\/\\/pbs.twimg.com\\/profile_banners\\/2256181070\\/1459305515\",\"default_profile\":true,\"default_profile_image\":false,\"following\":null,\"follow_request_sent\":null,\"notifications\":null},\"geo\":null,\"coordinates\":null,\"place\":null,\"contributors\":null,\"retweeted_status\":{\"created_at\":\"Fri Apr 01 23:34:16 +0000 2016\",\"id\":716046050423873537,\"id_str\":\"716046050423873537\",\"text\":\"REPORT: Lakers looking to trade D'Angelo Russell because of recent issues. https:\\/\\/t.co\\/Bq9KmHhYuo\",\"source\":\"\\u003ca href=\\\"http:\\/\\/twitter.com\\/download\\/iphone\\\" rel=\\\"nofollow\\\"\\u003eTwitter for iPhone\\u003c\\/a\\u003e\",\"truncated\":false,\"in_reply_to_status_id\":null,\"in_reply_to_status_id_str\":null,\"in_reply_to_user_id\":null,\"in_reply_to_user_id_str\":null,\"in_reply_to_screen_name\":null,\"user\":{\"id\":1480651784,\"id_str\":\"1480651784\",\"name\":\"Lake Show\",\"screen_name\":\"Laker_Show\",\"location\":null,\"url\":\"https:\\/\\/Instagram.com\\/thelakershow\\/\",\"description\":\"3,217 wins - most in NBA... 31 Final appearances- most in NBA... 16 championships- 2nd most in NBA... This Is The Laker Show, Dont Drown, No.\\u2122\",\"protected\":false,\"verified\":false,\"followers_count\":28294,\"friends_count\":14218,\"listed_count\":70,\"favourites_count\":133,\"statuses_count\":6922,\"created_at\":\"Mon Jun 03 21:15:46 +0000 2013\",\"utc_offset\":-14400,\"time_zone\":\"Eastern Time (US & Canada)\",\"geo_enabled\":true,\"lang\":\"en\",\"contributors_enabled\":false,\"is_translator\":false,\"profile_background_color\":\"C0DEED\",\"profile_background_image_url\":\"http:\\/\\/pbs.twimg.com\\/profile_background_images\\/458970771889455104\\/5PALbjwD.jpeg\",\"profile_background_image_url_https\":\"https:\\/\\/pbs.twimg.com\\/profile_background_images\\/458970771889455104\\/5PALbjwD.jpeg\",\"profile_background_tile\":true,\"profile_link_color\":\"622DC4\",\"profile_sidebar_border_color\":\"FFFFFF\",\"profile_sidebar_fill_color\":\"DDEEF6\",\"profile_text_color\":\"333333\",\"profile_use_background_image\":true,\"profile_image_url\":\"http:\\/\\/pbs.twimg.com\\/profile_images\\/713724589839351808\\/_lDm91aj_normal.jpg\",\"profile_image_url_https\":\"https:\\/\\/pbs.twimg.com\\/profile_images\\/713724589839351808\\/_lDm91aj_normal.jpg\",\"profile_banner_url\":\"https:\\/\\/pbs.twimg.com\\/profile_banners\\/1480651784\\/1459423045\",\"default_profile\":false,\"default_profile_image\":false,\"following\":null,\"follow_request_sent\":null,\"notifications\":null},\"geo\":null,\"coordinates\":null,\"place\":null,\"contributors\":null,\"is_quote_status\":false,\"retweet_count\":822,\"favorite_count\":272,\"entities\":{\"hashtags\":[],\"urls\":[],\"user_mentions\":[],\"symbols\":[],\"media\":[{\"id\":716046047135547394,\"id_str\":\"716046047135547394\",\"indices\":[75,98],\"media_url\":\"http:\\/\\/pbs.twimg.com\\/media\\/Ce_oFgpWQAIfgqn.jpg\",\"media_url_https\":\"https:\\/\\/pbs.twimg.com\\/media\\/Ce_oFgpWQAIfgqn.jpg\",\"url\":\"https:\\/\\/t.co\\/Bq9KmHhYuo\",\"display_url\":\"pic.twitter.com\\/Bq9KmHhYuo\",\"expanded_url\":\"http:\\/\\/twitter.com\\/Laker_Show\\/status\\/716046050423873537\\/photo\\/1\",\"type\":\"photo\",\"sizes\":{\"large\":{\"w\":640,\"h\":428,\"resize\":\"fit\"},\"medium\":{\"w\":600,\"h\":401,\"resize\":\"fit\"},\"thumb\":{\"w\":150,\"h\":150,\"resize\":\"crop\"},\"small\":{\"w\":340,\"h\":227,\"resize\":\"fit\"}}}]},\"extended_entities\":{\"media\":[{\"id\":716046047135547394,\"id_str\":\"716046047135547394\",\"indices\":[75,98],\"media_url\":\"http:\\/\\/pbs.twimg.com\\/media\\/Ce_oFgpWQAIfgqn.jpg\",\"media_url_https\":\"https:\\/\\/pbs.twimg.com\\/media\\/Ce_oFgpWQAIfgqn.jpg\",\"url\":\"https:\\/\\/t.co\\/Bq9KmHhYuo\",\"display_url\":\"pic.twitter.com\\/Bq9KmHhYuo\",\"expanded_url\":\"http:\\/\\/twitter.com\\/Laker_Show\\/status\\/716046050423873537\\/photo\\/1\",\"type\":\"photo\",\"sizes\":{\"large\":{\"w\":640,\"h\":428,\"resize\":\"fit\"},\"medium\":{\"w\":600,\"h\":401,\"resize\":\"fit\"},\"thumb\":{\"w\":150,\"h\":150,\"resize\":\"crop\"},\"small\":{\"w\":340,\"h\":227,\"resize\":\"fit\"}}}]},\"favorited\":false,\"retweeted\":false,\"possibly_sensitive\":false,\"filter_level\":\"low\",\"lang\":\"en\"},\"is_quote_status\":false,\"retweet_count\":0,\"favorite_count\":0,\"entities\":{\"hashtags\":[],\"urls\":[],\"user_mentions\":[{\"screen_name\":\"Laker_Show\",\"name\":\"Lake Show\",\"id\":1480651784,\"id_str\":\"1480651784\",\"indices\":[3,14]}],\"symbols\":[],\"media\":[{\"id\":716046047135547394,\"id_str\":\"716046047135547394\",\"indices\":[91,114],\"media_url\":\"http:\\/\\/pbs.twimg.com\\/media\\/Ce_oFgpWQAIfgqn.jpg\",\"media_url_https\":\"https:\\/\\/pbs.twimg.com\\/media\\/Ce_oFgpWQAIfgqn.jpg\",\"url\":\"https:\\/\\/t.co\\/Bq9KmHhYuo\",\"display_url\":\"pic.twitter.com\\/Bq9KmHhYuo\",\"expanded_url\":\"http:\\/\\/twitter.com\\/Laker_Show\\/status\\/716046050423873537\\/photo\\/1\",\"type\":\"photo\",\"sizes\":{\"large\":{\"w\":640,\"h\":428,\"resize\":\"fit\"},\"medium\":{\"w\":600,\"h\":401,\"resize\":\"fit\"},\"thumb\":{\"w\":150,\"h\":150,\"resize\":\"crop\"},\"small\":{\"w\":340,\"h\":227,\"resize\":\"fit\"}},\"source_status_id\":716046050423873537,\"source_status_id_str\":\"716046050423873537\",\"source_user_id\":1480651784,\"source_user_id_str\":\"1480651784\"}]},\"extended_entities\":{\"media\":[{\"id\":716046047135547394,\"id_str\":\"716046047135547394\",\"indices\":[91,114],\"media_url\":\"http:\\/\\/pbs.twimg.com\\/media\\/Ce_oFgpWQAIfgqn.jpg\",\"media_url_https\":\"https:\\/\\/pbs.twimg.com\\/media\\/Ce_oFgpWQAIfgqn.jpg\",\"url\":\"https:\\/\\/t.co\\/Bq9KmHhYuo\",\"display_url\":\"pic.twitter.com\\/Bq9KmHhYuo\",\"expanded_url\":\"http:\\/\\/twitter.com\\/Laker_Show\\/status\\/716046050423873537\\/photo\\/1\",\"type\":\"photo\",\"sizes\":{\"large\":{\"w\":640,\"h\":428,\"resize\":\"fit\"},\"medium\":{\"w\":600,\"h\":401,\"resize\":\"fit\"},\"thumb\":{\"w\":150,\"h\":150,\"resize\":\"crop\"},\"small\":{\"w\":340,\"h\":227,\"resize\":\"fit\"}},\"source_status_id\":716046050423873537,\"source_status_id_str\":\"716046050423873537\",\"source_user_id\":1480651784,\"source_user_id_str\":\"1480651784\"}]},\"favorited\":false,\"retweeted\":false,\"possibly_sensitive\":false,\"filter_level\":\"low\",\"lang\":\"en\",\"timestamp_ms\":\"1459560722665\"}\n",
      "\n",
      "Has no text, skip entry\n",
      "Trying line:  {\"created_at\":\"Sat Apr 02 01:32:02 +0000 2016\",\"id\":716075687774396416,\"id_str\":\"716075687774396416\",\"text\":\"RT @etthyene: The100 \\u00e9 a s\\u00e9rie mais real que tem ne: lgbt s\\u00f3 toma no cu, mulher s\\u00f3 sofre e homem faz merda e fica impune e \\u00e9 pintado como h\\u2026\",\"source\":\"\\u003ca href=\\\"http:\\/\\/twitter.com\\\" rel=\\\"nofollow\\\"\\u003eTwitter Web Client\\u003c\\/a\\u003e\",\"truncated\":false,\"in_reply_to_status_id\":null,\"in_reply_to_status_id_str\":null,\"in_reply_to_user_id\":null,\"in_reply_to_user_id_str\":null,\"in_reply_to_screen_name\":null,\"user\":{\"id\":701804786593701888,\"id_str\":\"701804786593701888\",\"name\":\"gabriela\",\"screen_name\":\"debnamlicious\",\"location\":\"Narnia\",\"url\":null,\"description\":\"Lexa deserved better\",\"protected\":false,\"verified\":false,\"followers_count\":425,\"friends_count\":277,\"listed_count\":1,\"favourites_count\":171,\"statuses_count\":5392,\"created_at\":\"Mon Feb 22 16:24:34 +0000 2016\",\"utc_offset\":-25200,\"time_zone\":\"Pacific Time (US & Canada)\",\"geo_enabled\":false,\"lang\":\"pt\",\"contributors_enabled\":false,\"is_translator\":false,\"profile_background_color\":\"000000\",\"profile_background_image_url\":\"http:\\/\\/abs.twimg.com\\/images\\/themes\\/theme1\\/bg.png\",\"profile_background_image_url_https\":\"https:\\/\\/abs.twimg.com\\/images\\/themes\\/theme1\\/bg.png\",\"profile_background_tile\":false,\"profile_link_color\":\"38BEA2\",\"profile_sidebar_border_color\":\"000000\",\"profile_sidebar_fill_color\":\"000000\",\"profile_text_color\":\"000000\",\"profile_use_background_image\":false,\"profile_image_url\":\"http:\\/\\/pbs.twimg.com\\/profile_images\\/715294944307585025\\/D_8eMGFl_normal.jpg\",\"profile_image_url_https\":\"https:\\/\\/pbs.twimg.com\\/profile_images\\/715294944307585025\\/D_8eMGFl_normal.jpg\",\"profile_banner_url\":\"https:\\/\\/pbs.twimg.com\\/profile_banners\\/701804786593701888\\/1459374723\",\"default_profile\":false,\"default_profile_image\":false,\"following\":null,\"follow_request_sent\":null,\"notifications\":null},\"geo\":null,\"coordinates\":null,\"place\":null,\"contributors\":null,\"retweeted_status\":{\"created_at\":\"Fri Apr 01 02:08:01 +0000 2016\",\"id\":715722354354204672,\"id_str\":\"715722354354204672\",\"text\":\"The100 \\u00e9 a s\\u00e9rie mais real que tem ne: lgbt s\\u00f3 toma no cu, mulher s\\u00f3 sofre e homem faz merda e fica impune e \\u00e9 pintado como her\\u00f3i\",\"source\":\"\\u003ca href=\\\"http:\\/\\/twitter.com\\/download\\/android\\\" rel=\\\"nofollow\\\"\\u003eTwitter for Android\\u003c\\/a\\u003e\",\"truncated\":false,\"in_reply_to_status_id\":null,\"in_reply_to_status_id_str\":null,\"in_reply_to_user_id\":null,\"in_reply_to_user_id_str\":null,\"in_reply_to_screen_name\":null,\"user\":{\"id\":4705657049,\"id_str\":\"4705657049\",\"name\":\"thyca\",\"screen_name\":\"etthyene\",\"location\":\"falecida fakingshitt\",\"url\":null,\"description\":\"aos que me queimaram no passado: hoje eu dan\\u00e7o com o fogo.\",\"protected\":false,\"verified\":false,\"followers_count\":100,\"friends_count\":119,\"listed_count\":3,\"favourites_count\":249,\"statuses_count\":3441,\"created_at\":\"Mon Jan 04 14:40:09 +0000 2016\",\"utc_offset\":null,\"time_zone\":null,\"geo_enabled\":true,\"lang\":\"pt\",\"contributors_enabled\":false,\"is_translator\":false,\"profile_background_color\":\"F5F8FA\",\"profile_background_image_url\":\"\",\"profile_background_image_url_https\":\"\",\"profile_background_tile\":false,\"profile_link_color\":\"2B7BB9\",\"profile_sidebar_border_color\":\"C0DEED\",\"profile_sidebar_fill_color\":\"DDEEF6\",\"profile_text_color\":\"333333\",\"profile_use_background_image\":true,\"profile_image_url\":\"http:\\/\\/pbs.twimg.com\\/profile_images\\/715031522596757508\\/RAJmBP8a_normal.jpg\",\"profile_image_url_https\":\"https:\\/\\/pbs.twimg.com\\/profile_images\\/715031522596757508\\/RAJmBP8a_normal.jpg\",\"profile_banner_url\":\"https:\\/\\/pbs.twimg.com\\/profile_banners\\/4705657049\\/1458581716\",\"default_profile\":true,\"default_profile_image\":false,\"following\":null,\"follow_request_sent\":null,\"notifications\":null},\"geo\":null,\"coordinates\":null,\"place\":null,\"contributors\":null,\"is_quote_status\":false,\"retweet_count\":176,\"favorite_count\":56,\"entities\":{\"hashtags\":[],\"urls\":[],\"user_mentions\":[],\"symbols\":[]},\"favorited\":false,\"retweeted\":false,\"filter_level\":\"low\",\"lang\":\"pt\"},\"is_quote_status\":false,\"retweet_count\":0,\"favorite_count\":0,\"entities\":{\"hashtags\":[],\"urls\":[],\"user_mentions\":[{\"screen_name\":\"etthyene\",\"name\":\"thyca\",\"id\":4705657049,\"id_str\":\"4705657049\",\"indices\":[3,12]}],\"symbols\":[]},\"favorited\":false,\"retweeted\":false,\"filter_level\":\"low\",\"lang\":\"pt\",\"timestamp_ms\":\"1459560722665\"}\n",
      "\n",
      "Has no text, skip entry\n",
      "Trying line:  {\"created_at\":\"Sat Apr 02 01:32:02 +0000 2016\",\"id\":716075687778598912,\"id_str\":\"716075687778598912\",\"text\":\"RT @LaurenMJSpain: #Harmonizers #iHeartAwards #BestFanArmy https:\\/\\/t.co\\/EDWnpUPIRk\",\"source\":\"\\u003ca href=\\\"http:\\/\\/twitter.com\\/download\\/android\\\" rel=\\\"nofollow\\\"\\u003eTwitter for Android\\u003c\\/a\\u003e\",\"truncated\":false,\"in_reply_to_status_id\":null,\"in_reply_to_status_id_str\":null,\"in_reply_to_user_id\":null,\"in_reply_to_user_id_str\":null,\"in_reply_to_screen_name\":null,\"user\":{\"id\":711287987145973760,\"id_str\":\"711287987145973760\",\"name\":\"\\u2764cabello\\u27647\\/27\",\"screen_name\":\"5H_889\",\"location\":\"Paraguay\\u27645H\",\"url\":null,\"description\":\"\\u2764Lauren Jauregui\\u2764\\n@Micaela5840 y @5H_x100\",\"protected\":false,\"verified\":false,\"followers_count\":194,\"friends_count\":407,\"listed_count\":0,\"favourites_count\":158,\"statuses_count\":4586,\"created_at\":\"Sat Mar 19 20:27:26 +0000 2016\",\"utc_offset\":null,\"time_zone\":null,\"geo_enabled\":false,\"lang\":\"es\",\"contributors_enabled\":false,\"is_translator\":false,\"profile_background_color\":\"F5F8FA\",\"profile_background_image_url\":\"\",\"profile_background_image_url_https\":\"\",\"profile_background_tile\":false,\"profile_link_color\":\"2B7BB9\",\"profile_sidebar_border_color\":\"C0DEED\",\"profile_sidebar_fill_color\":\"DDEEF6\",\"profile_text_color\":\"333333\",\"profile_use_background_image\":true,\"profile_image_url\":\"http:\\/\\/pbs.twimg.com\\/profile_images\\/711288774207148032\\/l00GDbrh_normal.jpg\",\"profile_image_url_https\":\"https:\\/\\/pbs.twimg.com\\/profile_images\\/711288774207148032\\/l00GDbrh_normal.jpg\",\"profile_banner_url\":\"https:\\/\\/pbs.twimg.com\\/profile_banners\\/711287987145973760\\/1458514394\",\"default_profile\":true,\"default_profile_image\":false,\"following\":null,\"follow_request_sent\":null,\"notifications\":null},\"geo\":null,\"coordinates\":null,\"place\":null,\"contributors\":null,\"retweeted_status\":{\"created_at\":\"Sat Apr 02 01:30:17 +0000 2016\",\"id\":716075247284391936,\"id_str\":\"716075247284391936\",\"text\":\"#Harmonizers #iHeartAwards #BestFanArmy https:\\/\\/t.co\\/EDWnpUPIRk\",\"source\":\"\\u003ca href=\\\"http:\\/\\/twitter.com\\/download\\/iphone\\\" rel=\\\"nofollow\\\"\\u003eTwitter for iPhone\\u003c\\/a\\u003e\",\"truncated\":false,\"in_reply_to_status_id\":null,\"in_reply_to_status_id_str\":null,\"in_reply_to_user_id\":null,\"in_reply_to_user_id_str\":null,\"in_reply_to_screen_name\":null,\"user\":{\"id\":4195074863,\"id_str\":\"4195074863\",\"name\":\"Lauren J Spain\",\"screen_name\":\"LaurenMJSpain\",\"location\":null,\"url\":\"http:\\/\\/ask.fm\\/LaurenMJSpain\",\"description\":\"Toda la informaci\\u00f3n sobre Lauren Jauregui (@LaurenJauregui) en espa\\u00f1ol, aqu\\u00ed. Noticias, traducciones, fotos, v\\u00eddeos y mucho m\\u00e1s.\",\"protected\":false,\"verified\":false,\"followers_count\":5961,\"friends_count\":19,\"listed_count\":11,\"favourites_count\":324,\"statuses_count\":4456,\"created_at\":\"Sun Nov 15 16:08:02 +0000 2015\",\"utc_offset\":7200,\"time_zone\":\"Madrid\",\"geo_enabled\":false,\"lang\":\"es\",\"contributors_enabled\":false,\"is_translator\":false,\"profile_background_color\":\"ACDED6\",\"profile_background_image_url\":\"http:\\/\\/pbs.twimg.com\\/profile_background_images\\/693943068953841665\\/hD35TntG.png\",\"profile_background_image_url_https\":\"https:\\/\\/pbs.twimg.com\\/profile_background_images\\/693943068953841665\\/hD35TntG.png\",\"profile_background_tile\":false,\"profile_link_color\":\"7FDBB6\",\"profile_sidebar_border_color\":\"000000\",\"profile_sidebar_fill_color\":\"000000\",\"profile_text_color\":\"000000\",\"profile_use_background_image\":true,\"profile_image_url\":\"http:\\/\\/pbs.twimg.com\\/profile_images\\/711229521710678017\\/ze3BN6nO_normal.jpg\",\"profile_image_url_https\":\"https:\\/\\/pbs.twimg.com\\/profile_images\\/711229521710678017\\/ze3BN6nO_normal.jpg\",\"profile_banner_url\":\"https:\\/\\/pbs.twimg.com\\/profile_banners\\/4195074863\\/1458405280\",\"default_profile\":false,\"default_profile_image\":false,\"following\":null,\"follow_request_sent\":null,\"notifications\":null},\"geo\":null,\"coordinates\":null,\"place\":null,\"contributors\":null,\"is_quote_status\":false,\"retweet_count\":21,\"favorite_count\":5,\"entities\":{\"hashtags\":[{\"text\":\"Harmonizers\",\"indices\":[0,12]},{\"text\":\"iHeartAwards\",\"indices\":[13,26]},{\"text\":\"BestFanArmy\",\"indices\":[27,39]}],\"urls\":[],\"user_mentions\":[],\"symbols\":[],\"media\":[{\"id\":716075233418076161,\"id_str\":\"716075233418076161\",\"indices\":[40,63],\"media_url\":\"http:\\/\\/pbs.twimg.com\\/media\\/CfACoYBW4AEUDmH.jpg\",\"media_url_https\":\"https:\\/\\/pbs.twimg.com\\/media\\/CfACoYBW4AEUDmH.jpg\",\"url\":\"https:\\/\\/t.co\\/EDWnpUPIRk\",\"display_url\":\"pic.twitter.com\\/EDWnpUPIRk\",\"expanded_url\":\"http:\\/\\/twitter.com\\/LaurenMJSpain\\/status\\/716075247284391936\\/photo\\/1\",\"type\":\"photo\",\"sizes\":{\"small\":{\"w\":340,\"h\":549,\"resize\":\"fit\"},\"large\":{\"w\":709,\"h\":1144,\"resize\":\"fit\"},\"thumb\":{\"w\":150,\"h\":150,\"resize\":\"crop\"},\"medium\":{\"w\":600,\"h\":968,\"resize\":\"fit\"}}}]},\"extended_entities\":{\"media\":[{\"id\":716075233418076161,\"id_str\":\"716075233418076161\",\"indices\":[40,63],\"media_url\":\"http:\\/\\/pbs.twimg.com\\/media\\/CfACoYBW4AEUDmH.jpg\",\"media_url_https\":\"https:\\/\\/pbs.twimg.com\\/media\\/CfACoYBW4AEUDmH.jpg\",\"url\":\"https:\\/\\/t.co\\/EDWnpUPIRk\",\"display_url\":\"pic.twitter.com\\/EDWnpUPIRk\",\"expanded_url\":\"http:\\/\\/twitter.com\\/LaurenMJSpain\\/status\\/716075247284391936\\/photo\\/1\",\"type\":\"photo\",\"sizes\":{\"small\":{\"w\":340,\"h\":549,\"resize\":\"fit\"},\"large\":{\"w\":709,\"h\":1144,\"resize\":\"fit\"},\"thumb\":{\"w\":150,\"h\":150,\"resize\":\"crop\"},\"medium\":{\"w\":600,\"h\":968,\"resize\":\"fit\"}}},{\"id\":716075233468395520,\"id_str\":\"716075233468395520\",\"indices\":[40,63],\"media_url\":\"http:\\/\\/pbs.twimg.com\\/media\\/CfACoYNWsAAdMuK.jpg\",\"media_url_https\":\"https:\\/\\/pbs.twimg.com\\/media\\/CfACoYNWsAAdMuK.jpg\",\"url\":\"https:\\/\\/t.co\\/EDWnpUPIRk\",\"display_url\":\"pic.twitter.com\\/EDWnpUPIRk\",\"expanded_url\":\"http:\\/\\/twitter.com\\/LaurenMJSpain\\/status\\/716075247284391936\\/photo\\/1\",\"type\":\"photo\",\"sizes\":{\"small\":{\"w\":340,\"h\":567,\"resize\":\"fit\"},\"thumb\":{\"w\":150,\"h\":150,\"resize\":\"crop\"},\"medium\":{\"w\":600,\"h\":1000,\"resize\":\"fit\"},\"large\":{\"w\":621,\"h\":1035,\"resize\":\"fit\"}}}]},\"favorited\":false,\"retweeted\":false,\"possibly_sensitive\":false,\"filter_level\":\"low\",\"lang\":\"und\"},\"is_quote_status\":false,\"retweet_count\":0,\"favorite_count\":0,\"entities\":{\"hashtags\":[{\"text\":\"Harmonizers\",\"indices\":[19,31]},{\"text\":\"iHeartAwards\",\"indices\":[32,45]},{\"text\":\"BestFanArmy\",\"indices\":[46,58]}],\"urls\":[],\"user_mentions\":[{\"screen_name\":\"LaurenMJSpain\",\"name\":\"Lauren J Spain\",\"id\":4195074863,\"id_str\":\"4195074863\",\"indices\":[3,17]}],\"symbols\":[],\"media\":[{\"id\":716075233418076161,\"id_str\":\"716075233418076161\",\"indices\":[59,82],\"media_url\":\"http:\\/\\/pbs.twimg.com\\/media\\/CfACoYBW4AEUDmH.jpg\",\"media_url_https\":\"https:\\/\\/pbs.twimg.com\\/media\\/CfACoYBW4AEUDmH.jpg\",\"url\":\"https:\\/\\/t.co\\/EDWnpUPIRk\",\"display_url\":\"pic.twitter.com\\/EDWnpUPIRk\",\"expanded_url\":\"http:\\/\\/twitter.com\\/LaurenMJSpain\\/status\\/716075247284391936\\/photo\\/1\",\"type\":\"photo\",\"sizes\":{\"small\":{\"w\":340,\"h\":549,\"resize\":\"fit\"},\"large\":{\"w\":709,\"h\":1144,\"resize\":\"fit\"},\"thumb\":{\"w\":150,\"h\":150,\"resize\":\"crop\"},\"medium\":{\"w\":600,\"h\":968,\"resize\":\"fit\"}},\"source_status_id\":716075247284391936,\"source_status_id_str\":\"716075247284391936\",\"source_user_id\":4195074863,\"source_user_id_str\":\"4195074863\"}]},\"extended_entities\":{\"media\":[{\"id\":716075233418076161,\"id_str\":\"716075233418076161\",\"indices\":[59,82],\"media_url\":\"http:\\/\\/pbs.twimg.com\\/media\\/CfACoYBW4AEUDmH.jpg\",\"media_url_https\":\"https:\\/\\/pbs.twimg.com\\/media\\/CfACoYBW4AEUDmH.jpg\",\"url\":\"https:\\/\\/t.co\\/EDWnpUPIRk\",\"display_url\":\"pic.twitter.com\\/EDWnpUPIRk\",\"expanded_url\":\"http:\\/\\/twitter.com\\/LaurenMJSpain\\/status\\/716075247284391936\\/photo\\/1\",\"type\":\"photo\",\"sizes\":{\"small\":{\"w\":340,\"h\":549,\"resize\":\"fit\"},\"large\":{\"w\":709,\"h\":1144,\"resize\":\"fit\"},\"thumb\":{\"w\":150,\"h\":150,\"resize\":\"crop\"},\"medium\":{\"w\":600,\"h\":968,\"resize\":\"fit\"}},\"source_status_id\":716075247284391936,\"source_status_id_str\":\"716075247284391936\",\"source_user_id\":4195074863,\"source_user_id_str\":\"4195074863\"},{\"id\":716075233468395520,\"id_str\":\"716075233468395520\",\"indices\":[59,82],\"media_url\":\"http:\\/\\/pbs.twimg.com\\/media\\/CfACoYNWsAAdMuK.jpg\",\"media_url_https\":\"https:\\/\\/pbs.twimg.com\\/media\\/CfACoYNWsAAdMuK.jpg\",\"url\":\"https:\\/\\/t.co\\/EDWnpUPIRk\",\"display_url\":\"pic.twitter.com\\/EDWnpUPIRk\",\"expanded_url\":\"http:\\/\\/twitter.com\\/LaurenMJSpain\\/status\\/716075247284391936\\/photo\\/1\",\"type\":\"photo\",\"sizes\":{\"small\":{\"w\":340,\"h\":567,\"resize\":\"fit\"},\"thumb\":{\"w\":150,\"h\":150,\"resize\":\"crop\"},\"medium\":{\"w\":600,\"h\":1000,\"resize\":\"fit\"},\"large\":{\"w\":621,\"h\":1035,\"resize\":\"fit\"}},\"source_status_id\":716075247284391936,\"source_status_id_str\":\"716075247284391936\",\"source_user_id\":4195074863,\"source_user_id_str\":\"4195074863\"}]},\"favorited\":false,\"retweeted\":false,\"possibly_sensitive\":false,\"filter_level\":\"low\",\"lang\":\"und\",\"timestamp_ms\":\"1459560722666\"}\n",
      "\n",
      "Has no text, skip entry\n",
      "Trying line:  {\"created_at\":\"Sat Apr 02 01:32:02 +0000 2016\",\"id\":716075687770238977,\"id_str\":\"716075687770238977\",\"text\":\"tenho mania em ser melhor em tudo at\\u00e9 pq eu sou melhor em tudo n\\u00e9\",\"source\":\"\\u003ca href=\\\"http:\\/\\/twitter.com\\/download\\/android\\\" rel=\\\"nofollow\\\"\\u003eTwitter for Android\\u003c\\/a\\u003e\",\"truncated\":false,\"in_reply_to_status_id\":null,\"in_reply_to_status_id_str\":null,\"in_reply_to_user_id\":null,\"in_reply_to_user_id_str\":null,\"in_reply_to_screen_name\":null,\"user\":{\"id\":170776652,\"id_str\":\"170776652\",\"name\":\"giovanna\",\"screen_name\":\"ohmycavill\",\"location\":null,\"url\":\"https:\\/\\/dornangasm.tumblr.com\",\"description\":\"bookwhore\",\"protected\":false,\"verified\":false,\"followers_count\":1379,\"friends_count\":653,\"listed_count\":21,\"favourites_count\":12717,\"statuses_count\":69812,\"created_at\":\"Sun Jul 25 18:55:05 +0000 2010\",\"utc_offset\":-7200,\"time_zone\":\"Greenland\",\"geo_enabled\":true,\"lang\":\"pt\",\"contributors_enabled\":false,\"is_translator\":false,\"profile_background_color\":\"000000\",\"profile_background_image_url\":\"http:\\/\\/pbs.twimg.com\\/profile_background_images\\/624980354978435072\\/f1SeYFOs.png\",\"profile_background_image_url_https\":\"https:\\/\\/pbs.twimg.com\\/profile_background_images\\/624980354978435072\\/f1SeYFOs.png\",\"profile_background_tile\":true,\"profile_link_color\":\"000000\",\"profile_sidebar_border_color\":\"000000\",\"profile_sidebar_fill_color\":\"7AC3EE\",\"profile_text_color\":\"3D1957\",\"profile_use_background_image\":true,\"profile_image_url\":\"http:\\/\\/pbs.twimg.com\\/profile_images\\/714521621017526273\\/2uEeKyy6_normal.jpg\",\"profile_image_url_https\":\"https:\\/\\/pbs.twimg.com\\/profile_images\\/714521621017526273\\/2uEeKyy6_normal.jpg\",\"profile_banner_url\":\"https:\\/\\/pbs.twimg.com\\/profile_banners\\/170776652\\/1459189164\",\"default_profile\":false,\"default_profile_image\":false,\"following\":null,\"follow_request_sent\":null,\"notifications\":null},\"geo\":null,\"coordinates\":null,\"place\":null,\"contributors\":null,\"is_quote_status\":false,\"retweet_count\":0,\"favorite_count\":0,\"entities\":{\"hashtags\":[],\"urls\":[],\"user_mentions\":[],\"symbols\":[]},\"favorited\":false,\"retweeted\":false,\"filter_level\":\"low\",\"lang\":\"pt\",\"timestamp_ms\":\"1459560722664\"}\n",
      "\n",
      "Has no text, skip entry\n"
     ]
    }
   ],
   "source": [
    "tweetScores= []#Initialize list of total score per tweet\n",
    "\n",
    "tweet_index= 0#Initialize a counter to keep track of tweet we're on\n",
    "for line2 in tweet_file:\n",
    "    print 'Trying line: ', line2\n",
    "    try:#We'll try our entire process for all objects that are tweets and not 'delete' objects (which have no 'text' field)\n",
    "        tweet_index= tweet_index+1\n",
    "        dataDict= json.loads(line2)#Loads first 'line2', which is actually the first json object\n",
    "        #print 'Tweet index:', tweet_index, ',', 'Tweet text: '#, dataDict['text']\n",
    "        tweet= dataDict['place'].split()#Split text object into a list of terms\n",
    "        print tweet\n",
    "        \n",
    "        tweetList= []#Initialize list of scores for tweet \n",
    "        sumTweet= []#Initialize sum variable\n",
    "        for i in range(0,len(tweet)):#For item in list, if it is in dictionary, append value/score (from key:value pair) to tweetList. If not, append a 0 value instead\n",
    "            if tweet[i].encode('utf-8').strip() in scores.keys():\n",
    "                 tweetList.append(scores[tweet[i]])\n",
    "            else:\n",
    "                tweetList.append(0)\n",
    "        sumTweet= sum(tweetList)#Add scores of all terms in tweet\n",
    "        tweetScores.append(sumTweet)\n",
    "        print sumTweet#'Tweet score: ', sumTweet#Append this total score to a list with combined scores for all tweets\n",
    "    except:#If not, then:\n",
    "        print 'Has no text, skip entry'\n",
    "        continue\n",
    "    \n",
    "    #==\n",
    "    #The following is not relevant anymore since it prints out 0 as length (reason is we finished reading file so by this point there are no more lines left)\n",
    "    #lines(sent_file)\n",
    "    #lines(tweet_file)\n",
    "    #print 'Our final score table for the tweets is: ', tweetScores"
   ]
  },
  {
   "cell_type": "code",
   "execution_count": 49,
   "metadata": {
    "collapsed": false
   },
   "outputs": [
    {
     "ename": "NameError",
     "evalue": "name 'tweet' is not defined",
     "output_type": "error",
     "traceback": [
      "\u001b[1;31m---------------------------------------------------------------------------\u001b[0m",
      "\u001b[1;31mNameError\u001b[0m                                 Traceback (most recent call last)",
      "\u001b[1;32m<ipython-input-49-fff4d77459e8>\u001b[0m in \u001b[0;36m<module>\u001b[1;34m()\u001b[0m\n\u001b[1;32m----> 1\u001b[1;33m \u001b[0mtweet\u001b[0m\u001b[1;33m\u001b[0m\u001b[0m\n\u001b[0m",
      "\u001b[1;31mNameError\u001b[0m: name 'tweet' is not defined"
     ]
    }
   ],
   "source": [
    "tweet"
   ]
  },
  {
   "cell_type": "code",
   "execution_count": 48,
   "metadata": {
    "collapsed": false
   },
   "outputs": [
    {
     "name": "stdout",
     "output_type": "stream",
     "text": [
      "Once deleted, variables cannot be recovered. Proceed (y/[n])?  y\n"
     ]
    }
   ],
   "source": [
    "reset_selective tweet"
   ]
  },
  {
   "cell_type": "code",
   "execution_count": null,
   "metadata": {
    "collapsed": true
   },
   "outputs": [],
   "source": []
  }
 ],
 "metadata": {
  "kernelspec": {
   "display_name": "Python 2",
   "language": "python",
   "name": "python2"
  },
  "language_info": {
   "codemirror_mode": {
    "name": "ipython",
    "version": 2
   },
   "file_extension": ".py",
   "mimetype": "text/x-python",
   "name": "python",
   "nbconvert_exporter": "python",
   "pygments_lexer": "ipython2",
   "version": "2.7.11"
  }
 },
 "nbformat": 4,
 "nbformat_minor": 0
}

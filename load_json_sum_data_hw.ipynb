{
 "cells": [
  {
   "cell_type": "markdown",
   "metadata": {},
   "source": [
    "###This is one of the hw's for 'using python to access web data'. In this assigment we'll load some json data, extract the 'count' data and get the count sum for all inviduals listed."
   ]
  },
  {
   "cell_type": "code",
   "execution_count": 24,
   "metadata": {
    "collapsed": false
   },
   "outputs": [
    {
     "name": "stdout",
     "output_type": "stream",
     "text": [
      "Insert url to read: http://python-data.dr-chuck.net/comments_208376.json\n",
      "Fetching http://python-data.dr-chuck.net/comments_208376.json\n"
     ]
    }
   ],
   "source": [
    "#We'll begin by importing the urllib and json libraries,\n",
    "#then ask for url, and read the data from the page\n",
    "import urllib \n",
    "import json\n",
    "\n",
    "input_url= raw_input('Insert url to read: ')\n",
    "print 'Fetching', input_url\n",
    "\n",
    "url_data= urllib.urlopen(input_url)#Open url\n",
    "#http://python-data.dr-chuck.net/comments_42.json is test dataset"
   ]
  },
  {
   "cell_type": "code",
   "execution_count": 25,
   "metadata": {
    "collapsed": false
   },
   "outputs": [
    {
     "name": "stdout",
     "output_type": "stream",
     "text": [
      "Got it!\n"
     ]
    }
   ],
   "source": [
    "data= url_data.read()#Read all lines in opened file\n",
    "print 'Got it!'\n",
    "\n",
    "js= json.loads(str(data))#Take data and use json loads fxn to convert to json format"
   ]
  },
  {
   "cell_type": "code",
   "execution_count": 26,
   "metadata": {
    "collapsed": false
   },
   "outputs": [
    {
     "name": "stdout",
     "output_type": "stream",
     "text": [
      "<type 'dict'> 2\n"
     ]
    }
   ],
   "source": [
    "print type(js), len(js)#Check type and size"
   ]
  },
  {
   "cell_type": "code",
   "execution_count": 27,
   "metadata": {
    "collapsed": true
   },
   "outputs": [
    {
     "data": {
      "text/plain": [
       "[u'This file contains the actual data for your assignment</note>',\n",
       " [{u'count': 100, u'name': u'Caseyleigh'},\n",
       "  {u'count': 99, u'name': u'Tomasz'},\n",
       "  {u'count': 99, u'name': u'Ohran'},\n",
       "  {u'count': 97, u'name': u'Eden'},\n",
       "  {u'count': 97, u'name': u'Chala'},\n",
       "  {u'count': 92, u'name': u'Jakey'},\n",
       "  {u'count': 91, u'name': u'Alyssa'},\n",
       "  {u'count': 88, u'name': u'Ciar'},\n",
       "  {u'count': 86, u'name': u'Kinza'},\n",
       "  {u'count': 85, u'name': u'Sheriff'},\n",
       "  {u'count': 84, u'name': u'Reice'},\n",
       "  {u'count': 81, u'name': u'Nikhil'},\n",
       "  {u'count': 80, u'name': u'Geoff'},\n",
       "  {u'count': 80, u'name': u'Oluwademilade'},\n",
       "  {u'count': 79, u'name': u'Jasveer'},\n",
       "  {u'count': 72, u'name': u'Alice'},\n",
       "  {u'count': 71, u'name': u'Ivan'},\n",
       "  {u'count': 71, u'name': u'Heidi'},\n",
       "  {u'count': 65, u'name': u'Riccardo'},\n",
       "  {u'count': 60, u'name': u'Kaily'},\n",
       "  {u'count': 60, u'name': u'Lianne'},\n",
       "  {u'count': 59, u'name': u'Allanah'},\n",
       "  {u'count': 58, u'name': u'Layah'},\n",
       "  {u'count': 57, u'name': u'Menna'},\n",
       "  {u'count': 57, u'name': u'Yassin'},\n",
       "  {u'count': 56, u'name': u'Carmen'},\n",
       "  {u'count': 56, u'name': u'Ayden'},\n",
       "  {u'count': 55, u'name': u'Mindi'},\n",
       "  {u'count': 52, u'name': u'Mackena'},\n",
       "  {u'count': 51, u'name': u'Kealan'},\n",
       "  {u'count': 50, u'name': u'Letitia'},\n",
       "  {u'count': 45, u'name': u'Simonne'},\n",
       "  {u'count': 45, u'name': u'Samatar'},\n",
       "  {u'count': 44, u'name': u'Louie'},\n",
       "  {u'count': 43, u'name': u'Gurardass'},\n",
       "  {u'count': 42, u'name': u'Laurianne'},\n",
       "  {u'count': 39, u'name': u'J'},\n",
       "  {u'count': 37, u'name': u'Ronald'},\n",
       "  {u'count': 35, u'name': u'Lucien'},\n",
       "  {u'count': 28, u'name': u'Ari'},\n",
       "  {u'count': 25, u'name': u'Anifhe'},\n",
       "  {u'count': 23, u'name': u'Theodore'},\n",
       "  {u'count': 22, u'name': u'Kerri'},\n",
       "  {u'count': 20, u'name': u'Erik'},\n",
       "  {u'count': 19, u'name': u'Kheanna'},\n",
       "  {u'count': 18, u'name': u'Ama'},\n",
       "  {u'count': 17, u'name': u'Wesley'},\n",
       "  {u'count': 10, u'name': u'Khizer'},\n",
       "  {u'count': 4, u'name': u'Kaia'},\n",
       "  {u'count': 2, u'name': u'Laura'}]]"
      ]
     },
     "execution_count": 27,
     "metadata": {},
     "output_type": "execute_result"
    }
   ],
   "source": [
    "js.values()#Should show a dictionary with first item being a dictionary, second a list"
   ]
  },
  {
   "cell_type": "code",
   "execution_count": 28,
   "metadata": {
    "collapsed": false
   },
   "outputs": [],
   "source": [
    "#Second item (list) has the scores that we want to get the sum of so we'll load list first\n",
    "new= js.values()[1]"
   ]
  },
  {
   "cell_type": "code",
   "execution_count": 29,
   "metadata": {
    "collapsed": false
   },
   "outputs": [
    {
     "name": "stdout",
     "output_type": "stream",
     "text": [
      "<type 'list'> <type 'dict'>\n"
     ]
    }
   ],
   "source": [
    "#New is a list, but each element in list is a dictionary\n",
    "print type(new), type(new[0])"
   ]
  },
  {
   "cell_type": "code",
   "execution_count": 30,
   "metadata": {
    "collapsed": false
   },
   "outputs": [
    {
     "name": "stdout",
     "output_type": "stream",
     "text": [
      "[u'count', u'name'] [100, u'Caseyleigh']\n"
     ]
    }
   ],
   "source": [
    "#For each dictionary, we have keys and values, count is what we'd like to total\n",
    "print new[0].keys(), new[0].values()"
   ]
  },
  {
   "cell_type": "code",
   "execution_count": 31,
   "metadata": {
    "collapsed": false
   },
   "outputs": [
    {
     "data": {
      "text/plain": [
       "100"
      ]
     },
     "execution_count": 31,
     "metadata": {},
     "output_type": "execute_result"
    }
   ],
   "source": [
    "#We can fetch the count value with the following syntax\n",
    "new[0].values()[0]"
   ]
  },
  {
   "cell_type": "code",
   "execution_count": 32,
   "metadata": {
    "collapsed": false
   },
   "outputs": [],
   "source": [
    "#Using this syntax, let's iterate through list and append each 'count' value to a new list, 'counts'\n",
    "counts= []\n",
    "for i in range(0,len(new)):\n",
    "    counts.append(new[i].values()[0])"
   ]
  },
  {
   "cell_type": "code",
   "execution_count": 33,
   "metadata": {
    "collapsed": true
   },
   "outputs": [
    {
     "data": {
      "text/plain": [
       "[100,\n",
       " 99,\n",
       " 99,\n",
       " 97,\n",
       " 97,\n",
       " 92,\n",
       " 91,\n",
       " 88,\n",
       " 86,\n",
       " 85,\n",
       " 84,\n",
       " 81,\n",
       " 80,\n",
       " 80,\n",
       " 79,\n",
       " 72,\n",
       " 71,\n",
       " 71,\n",
       " 65,\n",
       " 60,\n",
       " 60,\n",
       " 59,\n",
       " 58,\n",
       " 57,\n",
       " 57,\n",
       " 56,\n",
       " 56,\n",
       " 55,\n",
       " 52,\n",
       " 51,\n",
       " 50,\n",
       " 45,\n",
       " 45,\n",
       " 44,\n",
       " 43,\n",
       " 42,\n",
       " 39,\n",
       " 37,\n",
       " 35,\n",
       " 28,\n",
       " 25,\n",
       " 23,\n",
       " 22,\n",
       " 20,\n",
       " 19,\n",
       " 18,\n",
       " 17,\n",
       " 10,\n",
       " 4,\n",
       " 2]"
      ]
     },
     "execution_count": 33,
     "metadata": {},
     "output_type": "execute_result"
    }
   ],
   "source": [
    "#List the counts"
   ]
  },
  {
   "cell_type": "code",
   "execution_count": 34,
   "metadata": {
    "collapsed": false
   },
   "outputs": [
    {
     "data": {
      "text/plain": [
       "2806"
      ]
     },
     "execution_count": 34,
     "metadata": {},
     "output_type": "execute_result"
    }
   ],
   "source": [
    "#Now let's take the sum, should either be 2482 (for test set) or end in 6 for our new set\n",
    "sum(counts)"
   ]
  },
  {
   "cell_type": "code",
   "execution_count": null,
   "metadata": {
    "collapsed": true
   },
   "outputs": [],
   "source": []
  }
 ],
 "metadata": {
  "kernelspec": {
   "display_name": "Python 2",
   "language": "python",
   "name": "python2"
  },
  "language_info": {
   "codemirror_mode": {
    "name": "ipython",
    "version": 2
   },
   "file_extension": ".py",
   "mimetype": "text/x-python",
   "name": "python",
   "nbconvert_exporter": "python",
   "pygments_lexer": "ipython2",
   "version": "2.7.10"
  }
 },
 "nbformat": 4,
 "nbformat_minor": 0
}

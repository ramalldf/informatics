{
 "cells": [
  {
   "cell_type": "code",
   "execution_count": 11,
   "metadata": {
    "collapsed": true
   },
   "outputs": [],
   "source": [
    "def countBob(s):\n",
    "    '''Assume s is a string of lower case\n",
    "    characters. Write a program that prints\n",
    "    the number of times the string 'bob'\n",
    "    occurs in s.'''\n",
    "    s= s.lower()#Lower case of word\n",
    "    pattern= 'bob'#Define pattern\n",
    "    count= 0#Initialize count\n",
    "    for i in range(0,len(s)):#Iterate through s\n",
    "        comp= s[i:i+3]#Make new subset of s to compare against pattern\n",
    "        #if pattern in comp:#This works too but less certain on limits\n",
    "        if comp == pattern:#If subset equals pattern add 1\n",
    "            count += 1#Add to count\n",
    "    return count\n",
    "    "
   ]
  },
  {
   "cell_type": "code",
   "execution_count": 4,
   "metadata": {
    "collapsed": true
   },
   "outputs": [],
   "source": [
    "s= 'diego'\n",
    "p= 'ego'\n",
    "w= 'diega'"
   ]
  },
  {
   "cell_type": "code",
   "execution_count": 5,
   "metadata": {
    "collapsed": false
   },
   "outputs": [
    {
     "data": {
      "text/plain": [
       "True"
      ]
     },
     "execution_count": 5,
     "metadata": {},
     "output_type": "execute_result"
    }
   ],
   "source": [
    "p in s"
   ]
  },
  {
   "cell_type": "code",
   "execution_count": 6,
   "metadata": {
    "collapsed": false
   },
   "outputs": [
    {
     "data": {
      "text/plain": [
       "False"
      ]
     },
     "execution_count": 6,
     "metadata": {},
     "output_type": "execute_result"
    }
   ],
   "source": [
    "p in w"
   ]
  },
  {
   "cell_type": "code",
   "execution_count": 10,
   "metadata": {
    "collapsed": false
   },
   "outputs": [
    {
     "data": {
      "text/plain": [
       "3"
      ]
     },
     "execution_count": 10,
     "metadata": {},
     "output_type": "execute_result"
    }
   ],
   "source": [
    "countBob('bobbybobboobobbo')"
   ]
  },
  {
   "cell_type": "markdown",
   "metadata": {},
   "source": [
    "### W2: PS1.3"
   ]
  },
  {
   "cell_type": "markdown",
   "metadata": {},
   "source": [
    "A catering company has hired you to help with organizing and preparing customer's orders. You are given a list of each customer's desired items, and must write a program that will count the number of each items needed for the chefs to prepare. The items that a customer can order are: salad, hamburger, and water.\n",
    "\n",
    "Write a function called item_order that takes as input a string named order. The string contains only words for the items the customer can order separated by one space. The function returns a string that counts the number of each item and consolidates them in the following order: salad:[# salad] hamburger:[# hambruger] water:[# water]\n",
    "\n",
    "If an order does not contain an item, then the count for that item is 0. Notice that each item is formatted as [name of the item][a colon symbol][count of the item] and all item groups are separated by a space."
   ]
  },
  {
   "cell_type": "code",
   "execution_count": 27,
   "metadata": {
    "collapsed": false
   },
   "outputs": [],
   "source": [
    "def item_order(orderString):\n",
    "    '''Week 2: PS2.3\n",
    "    Write a function called item_order that takes\n",
    "    as input a string named order. The string contains\n",
    "    only words for the items the customer can order \n",
    "    separated by one space. The function returns a \n",
    "    string that counts the number of each item and \n",
    "    consolidates them in the following order: \n",
    "    salad:[# salad] hamburger:[# hambruger] water:[# water]'''\n",
    "    \n",
    "    itemList= orderString.split(' ')\n",
    "    salad= 0\n",
    "    hamburger= 0\n",
    "    water= 0\n",
    "    \n",
    "    for i in range(0, len(itemList)):\n",
    "        if itemList[i] == 'salad':\n",
    "            salad +=1\n",
    "        elif itemList[i] == 'hamburger':\n",
    "            hamburger +=1\n",
    "        elif itemList[i] == 'water':\n",
    "            water +=1\n",
    "    #print 'salad: %s hamburger %s water: %s' % (salad,hamburger,water)#This also works but is discouraged\n",
    "    print 'salad: {0} hamburger {1} water: {2}'.format(salad,hamburger,water)#Better for string replacement!"
   ]
  },
  {
   "cell_type": "code",
   "execution_count": 28,
   "metadata": {
    "collapsed": false
   },
   "outputs": [
    {
     "name": "stdout",
     "output_type": "stream",
     "text": [
      "salad: 3 hamburger 2 water: 4\n"
     ]
    }
   ],
   "source": [
    "partyFood= 'water diego hamburger salad water salad hamburger salad water water'\n",
    "item_order(partyFood)"
   ]
  },
  {
   "cell_type": "code",
   "execution_count": null,
   "metadata": {
    "collapsed": true
   },
   "outputs": [],
   "source": []
  },
  {
   "cell_type": "code",
   "execution_count": 32,
   "metadata": {
    "collapsed": false
   },
   "outputs": [],
   "source": [
    "def iterPower(base,exp):\n",
    "    '''Week3: L5 Problem 1\n",
    "    First  way of solving exponiation of base. Have zero and 1 base cases\n",
    "    with iterative steps'''\n",
    "    tot= base\n",
    "    if exp== 0:\n",
    "        return 1 \n",
    "    else:\n",
    "        for i in range(1,exp):\n",
    "            print i\n",
    "            tot= tot*base\n",
    "    return tot    "
   ]
  },
  {
   "cell_type": "code",
   "execution_count": 34,
   "metadata": {
    "collapsed": false
   },
   "outputs": [
    {
     "name": "stdout",
     "output_type": "stream",
     "text": [
      "1\n",
      "2\n",
      "3\n"
     ]
    },
    {
     "data": {
      "text/plain": [
       "16"
      ]
     },
     "execution_count": 34,
     "metadata": {},
     "output_type": "execute_result"
    }
   ],
   "source": [
    "iterPower(2,4)"
   ]
  },
  {
   "cell_type": "code",
   "execution_count": 4,
   "metadata": {
    "collapsed": true
   },
   "outputs": [],
   "source": [
    "def recurPower(base,exp):\n",
    "    '''Week3: L5 Problem 2\n",
    "    second  way of solving exponiation of base. Have zero and 1 base cases\n",
    "    with recursive step'''\n",
    "    if exp== 0:#Base case\n",
    "        return 1 \n",
    "    elif exp ==1:\n",
    "        return base\n",
    "    else:\n",
    "        return tot*recurPower(base,exp-1)"
   ]
  },
  {
   "cell_type": "code",
   "execution_count": 6,
   "metadata": {
    "collapsed": false
   },
   "outputs": [
    {
     "data": {
      "text/plain": [
       "1024"
      ]
     },
     "execution_count": 6,
     "metadata": {},
     "output_type": "execute_result"
    }
   ],
   "source": [
    "recurPower(2,10)"
   ]
  },
  {
   "cell_type": "code",
   "execution_count": 23,
   "metadata": {
    "collapsed": true
   },
   "outputs": [],
   "source": [
    "def recurPowerNew(base,exp):\n",
    "    '''Week3: L5 Problem 3\n",
    "    Use third way of solving this equation. Have zero and 1 base cases\n",
    "    but also odds and evens: odds is same as regular recursion, evens\n",
    "    is (base squared)^exp/2'''\n",
    "    if exp== 0:#Base case\n",
    "        return 1 \n",
    "    elif exp ==1:\n",
    "        return base\n",
    "    else:\n",
    "        if exp%2 ==0:\n",
    "            return recurPowerNew(base*base,exp/2)\n",
    "        else:\n",
    "            return base*recurPowerNew(base,exp-1)"
   ]
  },
  {
   "cell_type": "code",
   "execution_count": 24,
   "metadata": {
    "collapsed": false
   },
   "outputs": [
    {
     "data": {
      "text/plain": [
       "3125"
      ]
     },
     "execution_count": 24,
     "metadata": {},
     "output_type": "execute_result"
    }
   ],
   "source": [
    "recurPowerNew(5,5)"
   ]
  },
  {
   "cell_type": "code",
   "execution_count": 64,
   "metadata": {
    "collapsed": false
   },
   "outputs": [],
   "source": [
    "def gcd(a,b):\n",
    "    testVal= a\n",
    "    for i in range(b,a-1,-1):\n",
    "        print i, a%i, b%i\n",
    "        if a%i == 0 and b%i == 0:\n",
    "            print 'works'\n",
    "            break\n",
    "        elif a==1:\n",
    "            return 1\n",
    "        #break\n",
    "    return i"
   ]
  },
  {
   "cell_type": "code",
   "execution_count": 76,
   "metadata": {
    "collapsed": true
   },
   "outputs": [],
   "source": [
    "def gcdIter(a,b):\n",
    "    '''Given positive integers a,b find the\n",
    "    greatest common denominator (largest integer \n",
    "    that divides each of them without remainder. \n",
    "    Write an iterative function, gcdIter(a, b), \n",
    "    that implements this idea. One easy way to do \n",
    "    this is to begin with a test value equal to t\n",
    "    he smaller of the two input arguments, and \n",
    "    iteratively reduce this test value by 1 until\n",
    "    you either reach a case where the test divides \n",
    "    both a and b without remainder, or you reach 1.)'''\n",
    "    \n",
    "    testVal= min(a,b)#Find the min of both and set as test value\n",
    "    while testVal > 0:#Know it has to be positive\n",
    "        if (a%testVal ==0 and b%testVal == 0):#Set conditions for correct answer\n",
    "            return testVal\n",
    "        elif testVal == 1:#Set condition for test value = 1\n",
    "            return 1\n",
    "        else:#Set condition for test val not correct and decreasing by 1\n",
    "            testVal -=1"
   ]
  },
  {
   "cell_type": "code",
   "execution_count": 77,
   "metadata": {
    "collapsed": false
   },
   "outputs": [
    {
     "data": {
      "text/plain": [
       "1"
      ]
     },
     "execution_count": 77,
     "metadata": {},
     "output_type": "execute_result"
    }
   ],
   "source": [
    "gcdIter(17,12)"
   ]
  },
  {
   "cell_type": "code",
   "execution_count": 78,
   "metadata": {
    "collapsed": false
   },
   "outputs": [],
   "source": [
    "def gcdRecur(a,b):\n",
    "    '''A clever mathematical trick (due to Euclid) \n",
    "    makes it easy to find greatest common divisors.\n",
    "    Suppose that a and b are two positive integers:\n",
    "    If b = 0, then the answer is a, Otherwise, \n",
    "    gcd(a, b) is the same as gcd(b, a % b). Write a \n",
    "    function gcdRecur(a, b) that implements this idea \n",
    "    recursively. This function takes in two positive \n",
    "    integers and returns one integer.'''\n",
    "    \n",
    "    if b == 0:\n",
    "        return a\n",
    "    else:\n",
    "        return gcdRecur(b,a%b)"
   ]
  },
  {
   "cell_type": "code",
   "execution_count": 83,
   "metadata": {
    "collapsed": false
   },
   "outputs": [
    {
     "data": {
      "text/plain": [
       "1"
      ]
     },
     "execution_count": 83,
     "metadata": {},
     "output_type": "execute_result"
    }
   ],
   "source": [
    "gcdRecur(17, 12)"
   ]
  },
  {
   "cell_type": "code",
   "execution_count": 84,
   "metadata": {
    "collapsed": true
   },
   "outputs": [],
   "source": [
    "def lenIter(aStr):\n",
    "    '''Write an iterative function, lenIter, which \n",
    "    computes the length of an input argument \n",
    "    (a string), by counting up the number of \n",
    "    characters in the string.'''\n",
    "    \n",
    "    count= 0\n",
    "    for i in aStr:\n",
    "        count+=1\n",
    "    return count"
   ]
  },
  {
   "cell_type": "code",
   "execution_count": 86,
   "metadata": {
    "collapsed": false
   },
   "outputs": [
    {
     "data": {
      "text/plain": [
       "5"
      ]
     },
     "execution_count": 86,
     "metadata": {},
     "output_type": "execute_result"
    }
   ],
   "source": [
    "lenIter('horse')"
   ]
  },
  {
   "cell_type": "code",
   "execution_count": 5,
   "metadata": {
    "collapsed": false
   },
   "outputs": [],
   "source": [
    "def lenRecur(aStr):\n",
    "    ''' write a recursive function, lenRecur, which computes \n",
    "    the length of an input argument (a string), by counting up\n",
    "    the number of characters in the string.'''\n",
    "    \n",
    "    total= 0#Initialize counter\n",
    "    if aStr == '':#Base case: If string empty, return counter\n",
    "        return total\n",
    "    else:\n",
    "        total +=1 #Add one to counter\n",
    "        #print aStr, total\n",
    "        return total + lenRecur(aStr[1:]) \n",
    "        #For final line, return total + output of lenRecur on shortened aStr\n",
    "        #(which at most basic form should be +1 sequentially)"
   ]
  },
  {
   "cell_type": "code",
   "execution_count": 8,
   "metadata": {
    "collapsed": false
   },
   "outputs": [
    {
     "data": {
      "text/plain": [
       "3"
      ]
     },
     "execution_count": 8,
     "metadata": {},
     "output_type": "execute_result"
    }
   ],
   "source": [
    "lenRecur('bob')"
   ]
  },
  {
   "cell_type": "code",
   "execution_count": 138,
   "metadata": {
    "collapsed": false
   },
   "outputs": [
    {
     "name": "stdout",
     "output_type": "stream",
     "text": [
      "e\n"
     ]
    }
   ],
   "source": [
    "name= 'de'\n",
    "mid= len(name)/2\n",
    "print name[mid]"
   ]
  },
  {
   "cell_type": "code",
   "execution_count": 9,
   "metadata": {
    "collapsed": false
   },
   "outputs": [],
   "source": [
    "def isIn(char,aStr):\n",
    "    '''Checks if a character char is in a string aStr\n",
    "    '''\n",
    "    \n",
    "    aStr= sorted(aStr)#First step is to sort\n",
    "    mid= len(aStr)/2#Second step is to find mid character\n",
    "    if len(aStr) == 0:#Base case 1 (no characters)\n",
    "        return False\n",
    "    elif len(aStr) <= 2:#Base case 2 (two characters, no mid)\n",
    "        print 'No half for two', aStr\n",
    "        if char == aStr[0] or char == aStr[1]:\n",
    "            return True\n",
    "        else:\n",
    "            return False\n",
    "        return isIn(char,aStr[:1])\n",
    "    elif aStr[mid] == char:\n",
    "        print 'Found it'\n",
    "        return True\n",
    "    elif char < aStr[mid]:\n",
    "        print 'char is lower', aStr[mid], aStr\n",
    "        return isIn(char,aStr[:mid+1])\n",
    "        #return isIn(char,aStr[:mid]) #also works\n",
    "    elif char > aStr[mid]:\n",
    "        print 'char is higher', aStr[mid], aStr\n",
    "        return isIn(char,aStr[mid:])#Be careful with extra colons! To span in slice just use one colon!\n",
    "        #return isIn(char,aStr[mid+1:])#also works\n",
    "    else:#This would be condition for not present, but never gets here\n",
    "        print 'Not here!'\n",
    "        return False\n",
    "    "
   ]
  },
  {
   "cell_type": "code",
   "execution_count": 12,
   "metadata": {
    "collapsed": false
   },
   "outputs": [
    {
     "name": "stdout",
     "output_type": "stream",
     "text": [
      "char is higher l ['e', 'e', 'e', 'f', 'h', 'k', 'l', 'm', 'n', 'v', 'z', 'z']\n",
      "char is higher v ['l', 'm', 'n', 'v', 'z', 'z']\n",
      "Found it\n"
     ]
    },
    {
     "data": {
      "text/plain": [
       "True"
      ]
     },
     "execution_count": 12,
     "metadata": {},
     "output_type": "execute_result"
    }
   ],
   "source": [
    "isIn('z','zeeezfhklmnv')"
   ]
  },
  {
   "cell_type": "code",
   "execution_count": 161,
   "metadata": {
    "collapsed": false
   },
   "outputs": [
    {
     "data": {
      "text/plain": [
       "True"
      ]
     },
     "execution_count": 161,
     "metadata": {},
     "output_type": "execute_result"
    }
   ],
   "source": [
    "char= 'y'; aStr= 'y'\n",
    "char == aStr"
   ]
  },
  {
   "cell_type": "code",
   "execution_count": 296,
   "metadata": {
    "collapsed": false
   },
   "outputs": [],
   "source": [
    "#Check strings are not single characters\n",
    "#Check strings are not equal\n",
    "#Use wrapper fxn\n",
    "#What would strategy be? Check first couple of letters\n",
    "\n",
    "def semordnilapWrapper(str1, str2):\n",
    "    # A single-length string cannot be semordnilap\n",
    "    print 'Initializing'\n",
    "    if len(str1) == 1 or len(str2) == 1:\n",
    "        return False\n",
    "\n",
    "    # Equal strings cannot be semordnilap\n",
    "    if str1 == str2:\n",
    "        return False\n",
    "    #score= len(str1)\n",
    "    #elif str1 == '':\n",
    "        #return True\n",
    "    \n",
    "    def semordnilap(str1,str2):\n",
    "    #At most basic level you check single characters\n",
    "    #First need to reverse to line them up\n",
    "        print 'First check: ', str1, str2\n",
    "        print 'First chars: ', str1[0], str2[::-1][0]\n",
    "        if len(str1) == 0 and len(str2) == 0:\n",
    "            print 'Done'\n",
    "            return True\n",
    "        \n",
    "        elif str1[0] != str2[::-1][0]:\n",
    "            #print str1[0], str2[::-1][0]\n",
    "            print 'First chars not equal'\n",
    "            return semordnilap(str1[1:], str2[1:])\n",
    "        else:\n",
    "            print 'Well here'#return False\n",
    "    \n",
    "    return semordnilap(str1, str2)"
   ]
  },
  {
   "cell_type": "code",
   "execution_count": 301,
   "metadata": {
    "collapsed": false
   },
   "outputs": [
    {
     "name": "stdout",
     "output_type": "stream",
     "text": [
      " Initializing\n",
      "First check:  dog god\n",
      "First chars:  d d\n",
      "Well here\n"
     ]
    }
   ],
   "source": [
    "semordnilapWrapper('dog','god')"
   ]
  },
  {
   "cell_type": "code",
   "execution_count": 288,
   "metadata": {
    "collapsed": false
   },
   "outputs": [
    {
     "data": {
      "text/plain": [
       "'ogeid'"
      ]
     },
     "execution_count": 288,
     "metadata": {},
     "output_type": "execute_result"
    }
   ],
   "source": [
    "str1= 'diego'\n",
    "str1[::-1]\n"
   ]
  },
  {
   "cell_type": "code",
   "execution_count": 241,
   "metadata": {
    "collapsed": false
   },
   "outputs": [
    {
     "data": {
      "text/plain": [
       "'iego'"
      ]
     },
     "execution_count": 241,
     "metadata": {},
     "output_type": "execute_result"
    }
   ],
   "source": [
    "str1[1:]#len(str1)]"
   ]
  },
  {
   "cell_type": "code",
   "execution_count": 250,
   "metadata": {
    "collapsed": false
   },
   "outputs": [
    {
     "name": "stdout",
     "output_type": "stream",
     "text": [
      "l l\n"
     ]
    }
   ],
   "source": [
    "semordnilapWrapper('live','evil')"
   ]
  },
  {
   "cell_type": "code",
   "execution_count": 257,
   "metadata": {
    "collapsed": false
   },
   "outputs": [
    {
     "data": {
      "text/plain": [
       "'ogeid'"
      ]
     },
     "execution_count": 257,
     "metadata": {},
     "output_type": "execute_result"
    }
   ],
   "source": [
    "str1[::-1]"
   ]
  },
  {
   "cell_type": "code",
   "execution_count": 258,
   "metadata": {
    "collapsed": false
   },
   "outputs": [
    {
     "data": {
      "text/plain": [
       "'o'"
      ]
     },
     "execution_count": 258,
     "metadata": {},
     "output_type": "execute_result"
    }
   ],
   "source": [
    "str1[::-1][0]"
   ]
  },
  {
   "cell_type": "code",
   "execution_count": 302,
   "metadata": {
    "collapsed": false
   },
   "outputs": [
    {
     "data": {
      "text/plain": [
       "(3, 5, 2, 4, 6, 8)"
      ]
     },
     "execution_count": 302,
     "metadata": {},
     "output_type": "execute_result"
    }
   ],
   "source": [
    "test= (3,5,2,4,6,8)\n",
    "test"
   ]
  },
  {
   "cell_type": "code",
   "execution_count": 303,
   "metadata": {
    "collapsed": false
   },
   "outputs": [
    {
     "data": {
      "text/plain": [
       "(5, 2)"
      ]
     },
     "execution_count": 303,
     "metadata": {},
     "output_type": "execute_result"
    }
   ],
   "source": [
    "test[1:3]"
   ]
  },
  {
   "cell_type": "code",
   "execution_count": 307,
   "metadata": {
    "collapsed": false
   },
   "outputs": [
    {
     "data": {
      "text/plain": [
       "(3, 5, 2, 4, 6, 8, 2)"
      ]
     },
     "execution_count": 307,
     "metadata": {},
     "output_type": "execute_result"
    }
   ],
   "source": [
    "test+(2,)"
   ]
  },
  {
   "cell_type": "code",
   "execution_count": 310,
   "metadata": {
    "collapsed": false
   },
   "outputs": [
    {
     "ename": "AttributeError",
     "evalue": "'tuple' object has no attribute 'append'",
     "output_type": "error",
     "traceback": [
      "\u001b[1;31m---------------------------------------------------------------------------\u001b[0m",
      "\u001b[1;31mAttributeError\u001b[0m                            Traceback (most recent call last)",
      "\u001b[1;32m<ipython-input-310-978e44e469ac>\u001b[0m in \u001b[0;36m<module>\u001b[1;34m()\u001b[0m\n\u001b[1;32m----> 1\u001b[1;33m \u001b[0mtest\u001b[0m\u001b[1;33m.\u001b[0m\u001b[0mappend\u001b[0m\u001b[1;33m(\u001b[0m\u001b[1;33m(\u001b[0m\u001b[1;36m3\u001b[0m\u001b[1;33m,\u001b[0m\u001b[1;33m)\u001b[0m\u001b[1;33m)\u001b[0m\u001b[1;33m\u001b[0m\u001b[0m\n\u001b[0m",
      "\u001b[1;31mAttributeError\u001b[0m: 'tuple' object has no attribute 'append'"
     ]
    }
   ],
   "source": [
    "test.append((3,))"
   ]
  },
  {
   "cell_type": "code",
   "execution_count": 319,
   "metadata": {
    "collapsed": false
   },
   "outputs": [],
   "source": [
    "x = [1, 2, [3, 'John', 4], 'Hi'] "
   ]
  },
  {
   "cell_type": "code",
   "execution_count": 329,
   "metadata": {
    "collapsed": false
   },
   "outputs": [
    {
     "data": {
      "text/plain": [
       "[10, 9, 8, 7, 6, 5, 4]"
      ]
     },
     "execution_count": 329,
     "metadata": {},
     "output_type": "execute_result"
    }
   ],
   "source": [
    "range(10,3,-1)"
   ]
  },
  {
   "cell_type": "code",
   "execution_count": 333,
   "metadata": {
    "collapsed": false
   },
   "outputs": [
    {
     "name": "stdout",
     "output_type": "stream",
     "text": [
      "[1, 2, 3, 4, 5] [1, 2, 3, 4, 5]\n",
      "[1, 2, 'hello', 4, 5] [1, 2, 'hello', 4, 5]\n"
     ]
    }
   ],
   "source": [
    "a= range(1,6); b= a; print a,b ; a[2]= 'hello'; a==b; print a,b"
   ]
  },
  {
   "cell_type": "code",
   "execution_count": 331,
   "metadata": {
    "collapsed": false
   },
   "outputs": [
    {
     "name": "stdout",
     "output_type": "stream",
     "text": [
      "[1, 2, 'hello', 4, 5] [1, 2, 'hello', 4, 5]\n"
     ]
    }
   ],
   "source": [
    "print a, b"
   ]
  },
  {
   "cell_type": "code",
   "execution_count": 353,
   "metadata": {
    "collapsed": false
   },
   "outputs": [],
   "source": [
    "listA = [1, 4, 3, 0]\n",
    "listB = ['x', 'z', 't', 'q']"
   ]
  },
  {
   "cell_type": "code",
   "execution_count": 337,
   "metadata": {
    "collapsed": false
   },
   "outputs": [
    {
     "data": {
      "text/plain": [
       "'q'"
      ]
     },
     "execution_count": 337,
     "metadata": {},
     "output_type": "execute_result"
    }
   ],
   "source": [
    "listB.pop()"
   ]
  },
  {
   "cell_type": "code",
   "execution_count": 338,
   "metadata": {
    "collapsed": false
   },
   "outputs": [
    {
     "data": {
      "text/plain": [
       "0"
      ]
     },
     "execution_count": 338,
     "metadata": {},
     "output_type": "execute_result"
    }
   ],
   "source": [
    "listA.index(1)"
   ]
  },
  {
   "cell_type": "code",
   "execution_count": 343,
   "metadata": {
    "collapsed": false
   },
   "outputs": [
    {
     "data": {
      "text/plain": [
       "<function sort>"
      ]
     },
     "execution_count": 343,
     "metadata": {},
     "output_type": "execute_result"
    }
   ],
   "source": [
    "listA.sort"
   ]
  },
  {
   "cell_type": "code",
   "execution_count": 344,
   "metadata": {
    "collapsed": false
   },
   "outputs": [],
   "source": [
    "listA.sort()"
   ]
  },
  {
   "cell_type": "code",
   "execution_count": 345,
   "metadata": {
    "collapsed": true
   },
   "outputs": [],
   "source": [
    "listA.append(7)"
   ]
  },
  {
   "cell_type": "code",
   "execution_count": 348,
   "metadata": {
    "collapsed": false
   },
   "outputs": [],
   "source": [
    "listA.insert(0,100)"
   ]
  },
  {
   "cell_type": "code",
   "execution_count": 349,
   "metadata": {
    "collapsed": false
   },
   "outputs": [
    {
     "data": {
      "text/plain": [
       "[100, 1, 4, 3, 0]"
      ]
     },
     "execution_count": 349,
     "metadata": {},
     "output_type": "execute_result"
    }
   ],
   "source": [
    "listA"
   ]
  },
  {
   "cell_type": "code",
   "execution_count": 350,
   "metadata": {
    "collapsed": false
   },
   "outputs": [
    {
     "data": {
      "text/plain": [
       "[100, 1, 4, 3, 0, 10, 20]"
      ]
     },
     "execution_count": 350,
     "metadata": {},
     "output_type": "execute_result"
    }
   ],
   "source": [
    "listA.extend([10,20])\n",
    "listA"
   ]
  },
  {
   "cell_type": "code",
   "execution_count": 351,
   "metadata": {
    "collapsed": true
   },
   "outputs": [],
   "source": [
    "listA.append([11,30])"
   ]
  },
  {
   "cell_type": "code",
   "execution_count": 352,
   "metadata": {
    "collapsed": false
   },
   "outputs": [
    {
     "data": {
      "text/plain": [
       "[100, 1, 4, 3, 0, 10, 20, [11, 30]]"
      ]
     },
     "execution_count": 352,
     "metadata": {},
     "output_type": "execute_result"
    }
   ],
   "source": [
    "listA"
   ]
  },
  {
   "cell_type": "code",
   "execution_count": 354,
   "metadata": {
    "collapsed": false
   },
   "outputs": [
    {
     "data": {
      "text/plain": [
       "[1, 4, 3, 0]"
      ]
     },
     "execution_count": 354,
     "metadata": {},
     "output_type": "execute_result"
    }
   ],
   "source": [
    "listA"
   ]
  },
  {
   "cell_type": "code",
   "execution_count": 355,
   "metadata": {
    "collapsed": false
   },
   "outputs": [
    {
     "data": {
      "text/plain": [
       "[1, 4, 3, 0, 8, 9, 10]"
      ]
     },
     "execution_count": 355,
     "metadata": {},
     "output_type": "execute_result"
    }
   ],
   "source": [
    "listA.extend([8,9,10])\n",
    "listA"
   ]
  },
  {
   "cell_type": "code",
   "execution_count": 357,
   "metadata": {
    "collapsed": false
   },
   "outputs": [
    {
     "data": {
      "text/plain": [
       "1"
      ]
     },
     "execution_count": 357,
     "metadata": {},
     "output_type": "execute_result"
    }
   ],
   "source": [
    "listA.count(3)\n"
   ]
  },
  {
   "cell_type": "code",
   "execution_count": 358,
   "metadata": {
    "collapsed": false
   },
   "outputs": [
    {
     "data": {
      "text/plain": [
       "[1, 4, 3, 0, 8, 9, 10]"
      ]
     },
     "execution_count": 358,
     "metadata": {},
     "output_type": "execute_result"
    }
   ],
   "source": [
    "listA"
   ]
  },
  {
   "cell_type": "code",
   "execution_count": 360,
   "metadata": {
    "collapsed": false
   },
   "outputs": [
    {
     "data": {
      "text/plain": [
       "4"
      ]
     },
     "execution_count": 360,
     "metadata": {},
     "output_type": "execute_result"
    }
   ],
   "source": [
    "listA.index(8)"
   ]
  },
  {
   "cell_type": "code",
   "execution_count": 361,
   "metadata": {
    "collapsed": false
   },
   "outputs": [
    {
     "data": {
      "text/plain": [
       "1"
      ]
     },
     "execution_count": 361,
     "metadata": {},
     "output_type": "execute_result"
    }
   ],
   "source": [
    "listA.append(4)\n",
    "listA.index(4)"
   ]
  },
  {
   "cell_type": "code",
   "execution_count": 362,
   "metadata": {
    "collapsed": false
   },
   "outputs": [
    {
     "data": {
      "text/plain": [
       "[1, 4, 3, 0, 8, 9, 10, 4]"
      ]
     },
     "execution_count": 362,
     "metadata": {},
     "output_type": "execute_result"
    }
   ],
   "source": [
    "listA"
   ]
  },
  {
   "cell_type": "code",
   "execution_count": 364,
   "metadata": {
    "collapsed": false
   },
   "outputs": [
    {
     "data": {
      "text/plain": [
       "1"
      ]
     },
     "execution_count": 364,
     "metadata": {},
     "output_type": "execute_result"
    }
   ],
   "source": [
    "listA.index(4)"
   ]
  },
  {
   "cell_type": "code",
   "execution_count": 365,
   "metadata": {
    "collapsed": true
   },
   "outputs": [],
   "source": [
    "animals = {'a': 'aardvark', 'b': 'baboon', 'c': 'coati'}"
   ]
  },
  {
   "cell_type": "code",
   "execution_count": 366,
   "metadata": {
    "collapsed": false
   },
   "outputs": [
    {
     "data": {
      "text/plain": [
       "{'a': 'dog', 'b': 'baboon', 'c': 'coati'}"
      ]
     },
     "execution_count": 366,
     "metadata": {},
     "output_type": "execute_result"
    }
   ],
   "source": [
    "animals['a'] = 'dog'\n",
    "animals"
   ]
  },
  {
   "cell_type": "code",
   "execution_count": 534,
   "metadata": {
    "collapsed": false
   },
   "outputs": [],
   "source": [
    "#Got it correct finally! :) \n",
    "def ndigits(x):\n",
    "    '''Write a function called ndigits, \n",
    "    that takes an integer x (either positive or \n",
    "    negative) as an argument. This function \n",
    "    should return the number of digits in x'''\n",
    "    new= abs(x)\n",
    "    if new==0:\n",
    "        return 0\n",
    "    else:\n",
    "        return 1+ndigits(new/10)"
   ]
  },
  {
   "cell_type": "code",
   "execution_count": 536,
   "metadata": {
    "collapsed": false
   },
   "outputs": [
    {
     "data": {
      "text/plain": [
       "3"
      ]
     },
     "execution_count": 536,
     "metadata": {},
     "output_type": "execute_result"
    }
   ],
   "source": [
    "ndigits(-100)"
   ]
  },
  {
   "cell_type": "markdown",
   "metadata": {
    "collapsed": true
   },
   "source": [
    "## Deque to check if palindrome\n",
    "\n",
    "I'll need to define the deque class first using list methods. Then I'll write a function that uses the deque class to check if a word is a palindrome. There are all sort of methods we can add here but for now I'll just add the insert and remove methods."
   ]
  },
  {
   "cell_type": "code",
   "execution_count": 47,
   "metadata": {
    "collapsed": true
   },
   "outputs": [],
   "source": [
    "class deque():\n",
    "    def __init__(self):\n",
    "        self.items= []\n",
    "    def add_front(self, item):\n",
    "        self.items.append(item)\n",
    "    def remove_front(self):\n",
    "        return self.items.pop()\n",
    "    def add_rear(self, item):\n",
    "        self.items.insert(0,item)\n",
    "    def remove_rear(self):\n",
    "        return self.items.pop(0)\n",
    "        "
   ]
  },
  {
   "cell_type": "code",
   "execution_count": 56,
   "metadata": {
    "collapsed": false
   },
   "outputs": [],
   "source": [
    "def checkPalindrome(myStr):\n",
    "    '''Here Ill first feed my string into \n",
    "    my deque one char at a time, then start removing items\n",
    "    chars from my str on both ends sequentially \n",
    "    only if they match (like in a palindrome). If\n",
    "    they don't match Ill stop and return False\n",
    "    ''' \n",
    "    #Initialize deque object\n",
    "    myDeque= deque()\n",
    "    \n",
    "    for i in myStr:\n",
    "        myDeque.add_front(i)\n",
    "    \n",
    "    #Check that we have chars in our deque\n",
    "    print myDeque.items, len(myDeque.items)\n",
    "    \n",
    "    #Now iterate through items and compare 1st and last\n",
    "    equal= True\n",
    "    \n",
    "    while len(myDeque.items) >1 and equal:\n",
    "        firstChar= myDeque.remove_front()\n",
    "        lastChar= myDeque.remove_rear()\n",
    "\n",
    "        if firstChar != lastChar:\n",
    "            equal= False\n",
    "    return equal"
   ]
  },
  {
   "cell_type": "code",
   "execution_count": 57,
   "metadata": {
    "collapsed": false
   },
   "outputs": [
    {
     "name": "stdout",
     "output_type": "stream",
     "text": [
      "['m', 'o', 'o', 'n'] 4\n"
     ]
    },
    {
     "data": {
      "text/plain": [
       "False"
      ]
     },
     "execution_count": 57,
     "metadata": {},
     "output_type": "execute_result"
    }
   ],
   "source": [
    "checkPalindrome('moon')"
   ]
  },
  {
   "cell_type": "markdown",
   "metadata": {},
   "source": [
    "## Binary Search Iteratively"
   ]
  },
  {
   "cell_type": "code",
   "execution_count": 50,
   "metadata": {
    "collapsed": false
   },
   "outputs": [
    {
     "name": "stdout",
     "output_type": "stream",
     "text": [
      "\n"
     ]
    }
   ],
   "source": [
    "def binIter(myList, item):\n",
    "    myList= sorted(myList)\n",
    "    low= 0\n",
    "    high= len(myList)-1\n",
    "        \n",
    "    found= False\n",
    "    while len(myList) >1 and not found:\n",
    "        mid= (low+high)/2\n",
    "        print myList, low, mid, high\n",
    "        if myList[mid] == item:\n",
    "            found= True\n",
    "        elif myList[mid] > item:\n",
    "            high= mid-1\n",
    "        elif myList[mid] < item:\n",
    "            low= mid+1\n",
    "    return found"
   ]
  },
  {
   "cell_type": "code",
   "execution_count": null,
   "metadata": {
    "collapsed": false
   },
   "outputs": [],
   "source": []
  },
  {
   "cell_type": "markdown",
   "metadata": {},
   "source": [
    "## Binary Search Recursively"
   ]
  },
  {
   "cell_type": "code",
   "execution_count": 45,
   "metadata": {
    "collapsed": false
   },
   "outputs": [],
   "source": [
    "def binRecur(myList,item):\n",
    "    '''Define your base case(s) and then recurse on each half'''\n",
    "    #Sort list and find first mid\n",
    "    myList= sorted(myList)\n",
    "    mid= len(myList)/2\n",
    "    \n",
    "    print myList, mid\n",
    "    \n",
    "    #Check that list is at least length 1\n",
    "    if len(myList) ==0:\n",
    "        return False\n",
    "    #Define base case (mid=item), two recursive conditions\n",
    "    else:\n",
    "        if myList[mid]== item:\n",
    "            return True\n",
    "        elif myList[mid] > item:\n",
    "            return binRecur(myList[:mid],item)\n",
    "        elif myList[mid] < item:\n",
    "            return binRecur(myList[mid+1:],item)  \n",
    "    #Define stopping case\n",
    "        else:\n",
    "            return False"
   ]
  },
  {
   "cell_type": "code",
   "execution_count": 46,
   "metadata": {
    "collapsed": false
   },
   "outputs": [
    {
     "name": "stdout",
     "output_type": "stream",
     "text": [
      "[5, 7, 8, 9, 10, 11] 3\n",
      "[10, 11] 1\n"
     ]
    },
    {
     "data": {
      "text/plain": [
       "True"
      ]
     },
     "execution_count": 46,
     "metadata": {},
     "output_type": "execute_result"
    }
   ],
   "source": [
    "stocks = [10, 7, 5, 8, 11, 9]\n",
    "binRecur(stocks,11)"
   ]
  },
  {
   "cell_type": "code",
   "execution_count": null,
   "metadata": {
    "collapsed": true
   },
   "outputs": [],
   "source": [
    "stocks = [10, 7, 5, 8, 11, 9]\n",
    "\n",
    "def getMax(prices):\n",
    "    '''Assume stocks is a list of stock prices where \n",
    "    the accompanying index represents a timestamp''' \n",
    "    \n",
    "    \n",
    "    diffList= []\n",
    "    for i in range(0,len(prices)):\n",
    "        for j in range(i, len(prices)):\n",
    "            print prices[i],prices[j], prices[j]-prices[i]\n",
    "            diffList.append(prices[j]-prices[i])\n",
    "    return max(diffList)\n",
    "                   "
   ]
  },
  {
   "cell_type": "markdown",
   "metadata": {},
   "source": [
    "## Delete a Node from a Linked List\n",
    "\n",
    "To remind you, a linked list consists of the head that only contains the pointer for the first node in the list. It also contains the linked nodes that have values AND pointers for the next node on the list. Finally, you have the last node that has a value, but only a NULL for a pointer."
   ]
  },
  {
   "cell_type": "code",
   "execution_count": 1,
   "metadata": {
    "collapsed": true
   },
   "outputs": [],
   "source": [
    "#We can assume that each node will have the .value and .next attributes. \n",
    "#We'll want to save the pointer from the node\n",
    "#that will be deleted, then change the .next value\n",
    "#from the previous node to the value in temp\n",
    "#Key is that we'll need to traverse the list from the\n",
    "#start to access the previous and deleted node positions\n",
    "\n",
    "def deleteNode(LList, node):\n",
    "    current= self.head\n",
    "    \n",
    "    found= False\n",
    "    while current != node and found != True:\n",
    "        temp= current.next\n",
    "        if current.value == node.value:\n",
    "            current.next= temp\n",
    "\n",
    "#Below is what I had before. The problem is that the\n",
    "#linked list is inherently unordered so I can't\n",
    "#traverse it with indices that increase. Instead\n",
    "#I'll just need to check if current node.value\n",
    "#is equal to item we'll delete, while not we'll\n",
    "#update the current.next value to that of the \n",
    "#next node\n",
    "\n",
    "#======Old incorrect version=====\n",
    "# def deleteNode(LList, node):\n",
    "#     #Save the pointer from node in a temp variable\n",
    "#     current= self.head\n",
    "#     i= 0\n",
    "#     #Better to initialize with temp= self.head\n",
    "#     #Traverse llist \n",
    "#     while i < node:\n",
    "#         #When you reach previous node\n",
    "#         #Change next value to temp\n",
    "#         LList[i].next= temp\n",
    "#         i+=1\n",
    "        "
   ]
  },
  {
   "cell_type": "markdown",
   "metadata": {},
   "source": [
    "## Reverse a Linked List\n",
    "\n",
    "In order to reverse a linked list (without creating a new data structure), we'll need to switch the pointers of three adjacent nodes. We can do this in the following way. First, we'll need to traverse the list until we reach the end (final node.next == NULL). \n",
    "\n",
    "while node.next != NULL\n",
    "\n",
    "We'll need to initialize and define three variables: prevNode, currNode, and nextNode (and maybe head). You can only update the pointer for the currNode by taking the value of prevNode and applying it to nextNode (at beginning of each step/iteration, take value from nextNode and make it equal to prevNode and value of prevNode to that of nextNode. At beginning of iteration, we'll make pointer equal to i+2 node.next and redefine current node.next to prevNode.  "
   ]
  },
  {
   "cell_type": "code",
   "execution_count": null,
   "metadata": {
    "collapsed": true
   },
   "outputs": [],
   "source": [
    "# Definition for singly-linked list.\n",
    "# class ListNode(object):\n",
    "#     def __init__(self, x):\n",
    "#         self.val = x\n",
    "#         self.next = None\n",
    "\n",
    "class Solution(object):\n",
    "    def deleteNode(self, node):\n",
    "        \"\"\"\n",
    "        :type node: ListNode\n",
    "        :rtype: void Do not return anything, modify node in-place instead.\n",
    "        \"\"\"\n",
    "        #So for this I'll need to 1) iterate through list to get\n",
    "        #to node = node.val\n",
    "        #Could also have two variables prev pointer and curr pointer\n",
    "        #When I get to curr that's correct node, update prev node's\n",
    "        #pointer to current's pointer\n",
    "        #2) create temp variable with pointer value to node.next\n",
    "        #3) Finally, redefine prevNode.next = temp\n",
    "        value= node.val\n",
    "        prev= None\n",
    "        curr= None\n",
    "        while node.val != value:\n",
    "            prev= curr\n",
    "            curr= node.next\n"
   ]
  },
  {
   "cell_type": "markdown",
   "metadata": {},
   "source": [
    "### From Hackerank pdfviewer problem"
   ]
  },
  {
   "cell_type": "code",
   "execution_count": 94,
   "metadata": {
    "collapsed": false
   },
   "outputs": [],
   "source": [
    "hList= [1, 3, 1, 3, 1, 4, 1, 3, 2, 5, 5, 5, 5, 5, 5, 5, 5,\n",
    "        5, 5, 5, 5, 5, 5, 5, 5, 5]\n",
    "word= 'dog'\n",
    "\n",
    "def wordArea(h, word):\n",
    "    '''Given a word and a list of char heights (assume\n",
    "    width is 1), find the area of a word (product of\n",
    "    # of chars * product of heights assuming height of\n",
    "    each is height of tallest char)'''\n",
    "    \n",
    "    #Initialize letters list\n",
    "    letters= ['a','b','c','d','e','f','g',\n",
    "              'h','i','j','k','l','m','n',\n",
    "              'o','p','q','r','s','t','u',\n",
    "              'v','w','x','y','z']\n",
    "    \n",
    "    #Initialize height list\n",
    "    total= [] \n",
    "    \n",
    "    #Pair the heights (h) and letters into a dict\n",
    "    heights= dict(zip(letters,h))\n",
    "\n",
    "    #Iterate through word and append heights to total\n",
    "    for i in range(0,len(word)):\n",
    "        total.append(heights[word[i]])\n",
    "    \n",
    "    #Find max height\n",
    "    tallest= max(total)\n",
    "    \n",
    "    #Perform area calculation\n",
    "    return tallest*1*len(word)\n",
    "            \n",
    "            "
   ]
  },
  {
   "cell_type": "code",
   "execution_count": 93,
   "metadata": {
    "collapsed": false
   },
   "outputs": [
    {
     "name": "stdout",
     "output_type": "stream",
     "text": [
      "15\n"
     ]
    }
   ],
   "source": [
    "#Print output    \n",
    "print wordArea(hList,word)\n",
    "    "
   ]
  },
  {
   "cell_type": "markdown",
   "metadata": {},
   "source": [
    "## Find mean, median, mode of a list"
   ]
  },
  {
   "cell_type": "code",
   "execution_count": 84,
   "metadata": {
    "collapsed": false
   },
   "outputs": [],
   "source": [
    "#Just return def of mean\n",
    "def meanList(inputList):\n",
    "    return sum(inputList)/float(len(inputList))\n",
    "\n",
    "#Have case where len(inputList) is odd or even\n",
    "def medList(inputList):\n",
    "    #Find mid position\n",
    "    mid= len(inputList)/2\n",
    "    \n",
    "    #Sort list\n",
    "    inputList= sorted(inputList)\n",
    "    \n",
    "    #If even length med is mean of mid and next val\n",
    "    #Since python starts at index 0 though it will be\n",
    "    #mean of inputList[mid-1] and inputList[mid]\n",
    "    if len(inputList)%2== 0:\n",
    "        med= sum([inputList[mid-1],inputList[mid]])/2.0\n",
    "    \n",
    "    #If odd median is just middle value\n",
    "    else:\n",
    "        med= inputList[mid]\n",
    "    return med\n",
    "\n",
    "#Mode is most common item in list\n",
    "def modeList(inputList):\n",
    "    #Initialize dictionary of unique items with 0 values for all keys    dict1= set(inputList)\n",
    "    dict1= dict(zip(dict1,[0]*len(dict1)))\n",
    "    \n",
    "    #Keep track of current maxCount and current maxKey\n",
    "    maxCount= 0\n",
    "    maxKey= 0\n",
    "    #Iterate through our list\n",
    "    for i in range(0,len(inputList)):\n",
    "        #Add 1 if in key in dict\n",
    "        if inputList[i] in dict1.keys():\n",
    "            dict1[inputList[i]] +=1\n",
    "        #Check if item count is larger than maxCount \n",
    "        if dict1[inputList[i]] > maxCount:\n",
    "            #If it is update maxCount and corresponding key\n",
    "            maxCount= dict1[inputList[i]]\n",
    "            maxKey= inputList[i]\n",
    "        #If equal in count, update maxKey to smaller key\n",
    "        #This was just added as a condition HackerRank set\n",
    "        elif dict1[inputList[i]] == maxCount:\n",
    "            maxKey = min([inputList[i], maxKey])\n",
    "    \n",
    "    #Return maxCount's key\n",
    "    return maxKey"
   ]
  },
  {
   "cell_type": "code",
   "execution_count": 66,
   "metadata": {
    "collapsed": true
   },
   "outputs": [],
   "source": [
    "#list1= [1,2,3,4,2,5,6,4,7,3,10]\n",
    "list1= [64630, 11735 ,14216 ,99233 ,14470 ,4978 ,73429 ,\n",
    "        38120, 51135, 67060]"
   ]
  },
  {
   "cell_type": "code",
   "execution_count": 83,
   "metadata": {
    "collapsed": false
   },
   "outputs": [
    {
     "name": "stdout",
     "output_type": "stream",
     "text": [
      "43900.6\n",
      "44627.5\n",
      "4978\n"
     ]
    }
   ],
   "source": [
    "print meanList(list1)\n",
    "print medList(list1)\n",
    "print modeList(list1)"
   ]
  },
  {
   "cell_type": "code",
   "execution_count": 68,
   "metadata": {
    "collapsed": false
   },
   "outputs": [
    {
     "name": "stdout",
     "output_type": "stream",
     "text": [
      "43900.6\n",
      "44627.5\n"
     ]
    }
   ],
   "source": [
    "print np.mean(list1)\n",
    "print np.median(list1)\n",
    "#print np.mode(list1)"
   ]
  },
  {
   "cell_type": "code",
   "execution_count": 74,
   "metadata": {
    "collapsed": false
   },
   "outputs": [
    {
     "name": "stdout",
     "output_type": "stream",
     "text": [
      "[4978, 11735, 14216, 14470, 38120, 51135, 64630, 67060, 73429, 99233]\n"
     ]
    }
   ],
   "source": [
    "test1= sorted(list1)\n",
    "print test1"
   ]
  },
  {
   "cell_type": "code",
   "execution_count": 70,
   "metadata": {
    "collapsed": false
   },
   "outputs": [
    {
     "data": {
      "text/plain": [
       "44627.5"
      ]
     },
     "execution_count": 70,
     "metadata": {},
     "output_type": "execute_result"
    }
   ],
   "source": [
    "np.mean([38120,51135])"
   ]
  },
  {
   "cell_type": "code",
   "execution_count": 80,
   "metadata": {
    "collapsed": false
   },
   "outputs": [
    {
     "name": "stdout",
     "output_type": "stream",
     "text": [
      "4 5\n",
      "38120 51135\n"
     ]
    }
   ],
   "source": [
    "mid= len(list1)/2\n",
    "print mid-1, mid\n",
    "print test1[mid-1], test1[mid]"
   ]
  },
  {
   "cell_type": "markdown",
   "metadata": {
    "collapsed": true
   },
   "source": [
    "## Object-Oriented Programming (OOP) Review"
   ]
  },
  {
   "cell_type": "code",
   "execution_count": null,
   "metadata": {
    "collapsed": true
   },
   "outputs": [],
   "source": [
    "Class is a blueprint for creating instances of that class."
   ]
  },
  {
   "cell_type": "code",
   "execution_count": 1,
   "metadata": {
    "collapsed": true
   },
   "outputs": [],
   "source": [
    "class Employee:\n",
    "    pass \n",
    "\n",
    "emp_1 = Employee()"
   ]
  },
  {
   "cell_type": "markdown",
   "metadata": {},
   "source": [
    "The init method (aka <strong>the constructor</strong>) automatically connects the instance variable to the methods and attributes defined within the class. That way, you don't have to connect them everytime."
   ]
  },
  {
   "cell_type": "code",
   "execution_count": 3,
   "metadata": {
    "collapsed": true
   },
   "outputs": [],
   "source": [
    "class Employee:\n",
    "    def __init__(self, first, last, pay):\n",
    "        self.first= first\n",
    "        self.last = last\n",
    "        self.pay = pay\n",
    "        "
   ]
  },
  {
   "cell_type": "markdown",
   "metadata": {},
   "source": [
    "The self.var = first objects don't have to be named the same as the arguments. Just done to keep track of them (eg. could be called self.name = first)."
   ]
  },
  {
   "cell_type": "code",
   "execution_count": 6,
   "metadata": {
    "collapsed": false
   },
   "outputs": [
    {
     "name": "stdout",
     "output_type": "stream",
     "text": [
      "diego ramallo 0\n"
     ]
    }
   ],
   "source": [
    "emp_1 = Employee('diego','ramallo','0')\n",
    "print emp_1.first, emp_1.last, emp_1.pay"
   ]
  },
  {
   "cell_type": "markdown",
   "metadata": {},
   "source": [
    "Writing the print statement would be annoying to do every time. Now I'm gonna add another method that runs the print function I wrote out above as  a method in my class."
   ]
  },
  {
   "cell_type": "code",
   "execution_count": 12,
   "metadata": {
    "collapsed": false
   },
   "outputs": [],
   "source": [
    "class Employee:\n",
    "    def __init__(self, first, last, pay):\n",
    "        self.first= first\n",
    "        self.last = last\n",
    "        self.pay = pay\n",
    "        \n",
    "    def fullName(self):\n",
    "        print self.first, self.last"
   ]
  },
  {
   "cell_type": "code",
   "execution_count": 16,
   "metadata": {
    "collapsed": false
   },
   "outputs": [
    {
     "name": "stdout",
     "output_type": "stream",
     "text": [
      "diego ramallo\n"
     ]
    }
   ],
   "source": [
    "emp1= Employee('diego','ramallo',0)\n",
    "#Add the parantheses at the end since fullName is a method\n",
    "emp1.fullName()"
   ]
  },
  {
   "cell_type": "markdown",
   "metadata": {},
   "source": [
    "Class variables are variables that are shared by all instances of that class. You include that outside of any of the methods within that class."
   ]
  },
  {
   "cell_type": "code",
   "execution_count": 18,
   "metadata": {
    "collapsed": true
   },
   "outputs": [],
   "source": [
    "class Employee:\n",
    "    \n",
    "    raise_amount = 1.04\n",
    "    \n",
    "    def __init__(self, first, last, pay):\n",
    "        self.first= first\n",
    "        self.last = last\n",
    "        self.pay = pay\n",
    "        \n",
    "    def fullName(self):\n",
    "        print self.first, self.last"
   ]
  },
  {
   "cell_type": "code",
   "execution_count": 21,
   "metadata": {
    "collapsed": false
   },
   "outputs": [
    {
     "name": "stdout",
     "output_type": "stream",
     "text": [
      "1.04\n",
      "1.04\n"
     ]
    }
   ],
   "source": [
    "student1= Employee('diego','ramallo',0)\n",
    "student2= Employee('toby', 'ramallo',10000)\n",
    "\n",
    "print student1.raise_amount\n",
    "print student2.raise_amount"
   ]
  },
  {
   "cell_type": "markdown",
   "metadata": {},
   "source": [
    "We can also change this value from outside the class."
   ]
  },
  {
   "cell_type": "code",
   "execution_count": 22,
   "metadata": {
    "collapsed": true
   },
   "outputs": [],
   "source": [
    "Employee.raise_amount = 1.5"
   ]
  },
  {
   "cell_type": "code",
   "execution_count": 24,
   "metadata": {
    "collapsed": false
   },
   "outputs": [
    {
     "name": "stdout",
     "output_type": "stream",
     "text": [
      "1.5\n",
      "1.5\n"
     ]
    }
   ],
   "source": [
    "print student1.raise_amount\n",
    "print student2.raise_amount"
   ]
  },
  {
   "cell_type": "markdown",
   "metadata": {},
   "source": [
    "But if I change the instance class variable instead, it'll only apply to that specific instance instead."
   ]
  },
  {
   "cell_type": "code",
   "execution_count": 26,
   "metadata": {
    "collapsed": false
   },
   "outputs": [
    {
     "name": "stdout",
     "output_type": "stream",
     "text": [
      "1.5\n",
      "1.04\n"
     ]
    }
   ],
   "source": [
    "#Reset to 1.04\n",
    "Employee.raise_amount = 1.04\n",
    "\n",
    "student1.raise_amount = 1.5\n",
    "\n",
    "print student1.raise_amount\n",
    "print student2.raise_amount"
   ]
  },
  {
   "cell_type": "markdown",
   "metadata": {},
   "source": [
    "### Class Methods and Static Methods\n",
    "\n",
    "If regular method takes instance as first arg., how do change this so it takes the class as the first argument? Add a decorator to the top: @classmethod "
   ]
  },
  {
   "cell_type": "code",
   "execution_count": 38,
   "metadata": {
    "collapsed": true
   },
   "outputs": [],
   "source": [
    "class Employee:\n",
    "    \n",
    "    raise_amount = 1.04\n",
    "    \n",
    "    def __init__(self, first, last, pay):\n",
    "        self.first= first\n",
    "        self.last = last\n",
    "        self.pay = pay\n",
    "        \n",
    "    def fullName(self):\n",
    "        print self.first, self.last\n",
    "        \n",
    "    @classmethod\n",
    "    def set_raise_amt(cls,amount):\n",
    "        cls.raise_amount = amount\n",
    "    \n",
    "    @classmethod\n",
    "    def classFullName(cls, first, last, money):\n",
    "        print first, last, money\n",
    "        \n",
    "    #Decorator changes functionality of method so it takes class as first arg\n",
    "    "
   ]
  },
  {
   "cell_type": "code",
   "execution_count": 39,
   "metadata": {
    "collapsed": false
   },
   "outputs": [
    {
     "name": "stdout",
     "output_type": "stream",
     "text": [
      "diego ramallo 20\n"
     ]
    }
   ],
   "source": [
    "Employee.classFullName('diego','ramallo',20)"
   ]
  },
  {
   "cell_type": "markdown",
   "metadata": {},
   "source": [
    "This was a little difficult for me to understand initially. I think the main purpose of the @classmethod is to provide an alternative way to use a method (class function) without having to initialize a class instance, which is the main way we have accessed these functions up to this point. Eg.\n",
    "\n",
    "normal way: \n",
    "\n",
    "myInst = Employee('diego','ramallo',0)\n",
    "myInst.fullName()\n",
    "\n",
    "alternative way:\n",
    "\n",
    "Employee.classFullName('diego','ramallo',20)\n",
    "\n",
    "In the examples below, you'll see that we can execute alternative way ok, but get an error if we execute the method that is not @classmethod in the same way (without having created an instance beforehand)."
   ]
  },
  {
   "cell_type": "code",
   "execution_count": 42,
   "metadata": {
    "collapsed": false
   },
   "outputs": [
    {
     "name": "stdout",
     "output_type": "stream",
     "text": [
      "diego ramallo 20\n"
     ]
    },
    {
     "ename": "TypeError",
     "evalue": "unbound method fullName() must be called with Employee instance as first argument (got str instance instead)",
     "output_type": "error",
     "traceback": [
      "\u001b[0;31m---------------------------------------------------------------------------\u001b[0m",
      "\u001b[0;31mTypeError\u001b[0m                                 Traceback (most recent call last)",
      "\u001b[0;32m<ipython-input-42-48c742b50942>\u001b[0m in \u001b[0;36m<module>\u001b[0;34m()\u001b[0m\n\u001b[1;32m      1\u001b[0m \u001b[0mEmployee\u001b[0m\u001b[0;34m.\u001b[0m\u001b[0mclassFullName\u001b[0m\u001b[0;34m(\u001b[0m\u001b[0;34m'diego'\u001b[0m\u001b[0;34m,\u001b[0m\u001b[0;34m'ramallo'\u001b[0m\u001b[0;34m,\u001b[0m\u001b[0;36m20\u001b[0m\u001b[0;34m)\u001b[0m\u001b[0;34m\u001b[0m\u001b[0m\n\u001b[1;32m      2\u001b[0m \u001b[0;34m\u001b[0m\u001b[0m\n\u001b[0;32m----> 3\u001b[0;31m \u001b[0mEmployee\u001b[0m\u001b[0;34m.\u001b[0m\u001b[0mfullName\u001b[0m\u001b[0;34m(\u001b[0m\u001b[0;34m'diego'\u001b[0m\u001b[0;34m,\u001b[0m\u001b[0;34m'ramallo'\u001b[0m\u001b[0;34m,\u001b[0m\u001b[0;36m20\u001b[0m\u001b[0;34m)\u001b[0m\u001b[0;34m\u001b[0m\u001b[0m\n\u001b[0m",
      "\u001b[0;31mTypeError\u001b[0m: unbound method fullName() must be called with Employee instance as first argument (got str instance instead)"
     ]
    }
   ],
   "source": [
    "Employee.classFullName('diego','ramallo',20)\n",
    "\n",
    "Employee.fullName('diego','ramallo',20)"
   ]
  },
  {
   "cell_type": "markdown",
   "metadata": {},
   "source": [
    "## Example [Exercise]('https://codearvilyn.wordpress.com/2016/04/19/hacker-rank-day-4-class-vs-instance/')\n",
    "\n",
    "Here's an example exercise where we have to wriet a Person class with an instance variable, age, and a constructor that takes an integer, initialAge, as a parameter."
   ]
  },
  {
   "cell_type": "code",
   "execution_count": 67,
   "metadata": {
    "collapsed": true
   },
   "outputs": [],
   "source": [
    "class Person():\n",
    "    '''This class has attributes that define the \n",
    "    age of a person. They also have methods to increase\n",
    "    the age, and determine if a person is old based on their age'''\n",
    "    \n",
    "    #Define constructor, with an age as the only argument\n",
    "    #Only positive ages are valid\n",
    "    def __init__(self, initialAge):\n",
    "        if initialAge > 0:\n",
    "            self.age = initialAge\n",
    "        else:\n",
    "            self.age = 0\n",
    "            print 'Age is not valid'\n",
    "    \n",
    "    #Method to increase age attribute by 11\n",
    "    def yearPasses(self):\n",
    "        self.age += 11\n",
    "    \n",
    "    #Method to categorize attribute as young, teenager, or old\n",
    "    def amIOld(self):\n",
    "        if self.age < 13:\n",
    "            print 'You are young. You are young.'\n",
    "        elif self.age > 13 and self.age <18:\n",
    "            print 'You are a teenager.'\n",
    "        else:\n",
    "            print 'You are old'"
   ]
  },
  {
   "cell_type": "code",
   "execution_count": 68,
   "metadata": {
    "collapsed": false
   },
   "outputs": [],
   "source": [
    "diego = Person(32)"
   ]
  },
  {
   "cell_type": "code",
   "execution_count": 69,
   "metadata": {
    "collapsed": false
   },
   "outputs": [
    {
     "data": {
      "text/plain": [
       "43"
      ]
     },
     "execution_count": 69,
     "metadata": {},
     "output_type": "execute_result"
    }
   ],
   "source": [
    "diego.yearPasses()\n",
    "diego.age"
   ]
  },
  {
   "cell_type": "code",
   "execution_count": 70,
   "metadata": {
    "collapsed": false
   },
   "outputs": [
    {
     "name": "stdout",
     "output_type": "stream",
     "text": [
      "You are old\n"
     ]
    }
   ],
   "source": [
    "diego.amIOld()"
   ]
  },
  {
   "cell_type": "code",
   "execution_count": null,
   "metadata": {
    "collapsed": true
   },
   "outputs": [],
   "source": []
  }
 ],
 "metadata": {
  "anaconda-cloud": {},
  "kernelspec": {
   "display_name": "Python [default]",
   "language": "python",
   "name": "python2"
  },
  "language_info": {
   "codemirror_mode": {
    "name": "ipython",
    "version": 2
   },
   "file_extension": ".py",
   "mimetype": "text/x-python",
   "name": "python",
   "nbconvert_exporter": "python",
   "pygments_lexer": "ipython2",
   "version": "2.7.12"
  }
 },
 "nbformat": 4,
 "nbformat_minor": 0
}

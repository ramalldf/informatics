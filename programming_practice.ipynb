{
 "cells": [
  {
   "cell_type": "code",
   "execution_count": 11,
   "metadata": {
    "collapsed": true
   },
   "outputs": [],
   "source": [
    "def countBob(s):\n",
    "    '''Assume s is a string of lower case\n",
    "    characters. Write a program that prints\n",
    "    the number of times the string 'bob'\n",
    "    occurs in s.'''\n",
    "    s= s.lower()#Lower case of word\n",
    "    pattern= 'bob'#Define pattern\n",
    "    count= 0#Initialize count\n",
    "    for i in range(0,len(s)):#Iterate through s\n",
    "        comp= s[i:i+3]#Make new subset of s to compare against pattern\n",
    "        #if pattern in comp:#This works too but less certain on limits\n",
    "        if comp == pattern:#If subset equals pattern add 1\n",
    "            count += 1#Add to count\n",
    "    return count\n",
    "    "
   ]
  },
  {
   "cell_type": "code",
   "execution_count": 4,
   "metadata": {
    "collapsed": true
   },
   "outputs": [],
   "source": [
    "s= 'diego'\n",
    "p= 'ego'\n",
    "w= 'diega'"
   ]
  },
  {
   "cell_type": "code",
   "execution_count": 5,
   "metadata": {
    "collapsed": false
   },
   "outputs": [
    {
     "data": {
      "text/plain": [
       "True"
      ]
     },
     "execution_count": 5,
     "metadata": {},
     "output_type": "execute_result"
    }
   ],
   "source": [
    "p in s"
   ]
  },
  {
   "cell_type": "code",
   "execution_count": 6,
   "metadata": {
    "collapsed": false
   },
   "outputs": [
    {
     "data": {
      "text/plain": [
       "False"
      ]
     },
     "execution_count": 6,
     "metadata": {},
     "output_type": "execute_result"
    }
   ],
   "source": [
    "p in w"
   ]
  },
  {
   "cell_type": "code",
   "execution_count": 10,
   "metadata": {
    "collapsed": false
   },
   "outputs": [
    {
     "data": {
      "text/plain": [
       "3"
      ]
     },
     "execution_count": 10,
     "metadata": {},
     "output_type": "execute_result"
    }
   ],
   "source": [
    "countBob('bobbybobboobobbo')"
   ]
  },
  {
   "cell_type": "markdown",
   "metadata": {},
   "source": [
    "### W2: PS1.3"
   ]
  },
  {
   "cell_type": "markdown",
   "metadata": {},
   "source": [
    "A catering company has hired you to help with organizing and preparing customer's orders. You are given a list of each customer's desired items, and must write a program that will count the number of each items needed for the chefs to prepare. The items that a customer can order are: salad, hamburger, and water.\n",
    "\n",
    "Write a function called item_order that takes as input a string named order. The string contains only words for the items the customer can order separated by one space. The function returns a string that counts the number of each item and consolidates them in the following order: salad:[# salad] hamburger:[# hambruger] water:[# water]\n",
    "\n",
    "If an order does not contain an item, then the count for that item is 0. Notice that each item is formatted as [name of the item][a colon symbol][count of the item] and all item groups are separated by a space."
   ]
  },
  {
   "cell_type": "code",
   "execution_count": 27,
   "metadata": {
    "collapsed": false
   },
   "outputs": [],
   "source": [
    "def item_order(orderString):\n",
    "    '''Week 2: PS2.3\n",
    "    Write a function called item_order that takes\n",
    "    as input a string named order. The string contains\n",
    "    only words for the items the customer can order \n",
    "    separated by one space. The function returns a \n",
    "    string that counts the number of each item and \n",
    "    consolidates them in the following order: \n",
    "    salad:[# salad] hamburger:[# hambruger] water:[# water]'''\n",
    "    \n",
    "    itemList= orderString.split(' ')\n",
    "    salad= 0\n",
    "    hamburger= 0\n",
    "    water= 0\n",
    "    \n",
    "    for i in range(0, len(itemList)):\n",
    "        if itemList[i] == 'salad':\n",
    "            salad +=1\n",
    "        elif itemList[i] == 'hamburger':\n",
    "            hamburger +=1\n",
    "        elif itemList[i] == 'water':\n",
    "            water +=1\n",
    "    #print 'salad: %s hamburger %s water: %s' % (salad,hamburger,water)#This also works but is discouraged\n",
    "    print 'salad: {0} hamburger {1} water: {2}'.format(salad,hamburger,water)#Better for string replacement!"
   ]
  },
  {
   "cell_type": "code",
   "execution_count": 28,
   "metadata": {
    "collapsed": false
   },
   "outputs": [
    {
     "name": "stdout",
     "output_type": "stream",
     "text": [
      "salad: 3 hamburger 2 water: 4\n"
     ]
    }
   ],
   "source": [
    "partyFood= 'water diego hamburger salad water salad hamburger salad water water'\n",
    "item_order(partyFood)"
   ]
  },
  {
   "cell_type": "code",
   "execution_count": null,
   "metadata": {
    "collapsed": true
   },
   "outputs": [],
   "source": []
  },
  {
   "cell_type": "code",
   "execution_count": 32,
   "metadata": {
    "collapsed": false
   },
   "outputs": [],
   "source": [
    "def iterPower(base,exp):\n",
    "    '''Week3: L5 Problem 1\n",
    "    First  way of solving exponiation of base. Have zero and 1 base cases\n",
    "    with iterative steps'''\n",
    "    tot= base\n",
    "    if exp== 0:\n",
    "        return 1 \n",
    "    else:\n",
    "        for i in range(1,exp):\n",
    "            print i\n",
    "            tot= tot*base\n",
    "    return tot    "
   ]
  },
  {
   "cell_type": "code",
   "execution_count": 34,
   "metadata": {
    "collapsed": false
   },
   "outputs": [
    {
     "name": "stdout",
     "output_type": "stream",
     "text": [
      "1\n",
      "2\n",
      "3\n"
     ]
    },
    {
     "data": {
      "text/plain": [
       "16"
      ]
     },
     "execution_count": 34,
     "metadata": {},
     "output_type": "execute_result"
    }
   ],
   "source": [
    "iterPower(2,4)"
   ]
  },
  {
   "cell_type": "code",
   "execution_count": 4,
   "metadata": {
    "collapsed": true
   },
   "outputs": [],
   "source": [
    "def recurPower(base,exp):\n",
    "    '''Week3: L5 Problem 2\n",
    "    second  way of solving exponiation of base. Have zero and 1 base cases\n",
    "    with recursive step'''\n",
    "    if exp== 0:#Base case\n",
    "        return 1 \n",
    "    elif exp ==1:\n",
    "        return base\n",
    "    else:\n",
    "        return tot*recurPower(base,exp-1)"
   ]
  },
  {
   "cell_type": "code",
   "execution_count": 6,
   "metadata": {
    "collapsed": false
   },
   "outputs": [
    {
     "data": {
      "text/plain": [
       "1024"
      ]
     },
     "execution_count": 6,
     "metadata": {},
     "output_type": "execute_result"
    }
   ],
   "source": [
    "recurPower(2,10)"
   ]
  },
  {
   "cell_type": "code",
   "execution_count": 23,
   "metadata": {
    "collapsed": true
   },
   "outputs": [],
   "source": [
    "def recurPowerNew(base,exp):\n",
    "    '''Week3: L5 Problem 3\n",
    "    Use third way of solving this equation. Have zero and 1 base cases\n",
    "    but also odds and evens: odds is same as regular recursion, evens\n",
    "    is (base squared)^exp/2'''\n",
    "    if exp== 0:#Base case\n",
    "        return 1 \n",
    "    elif exp ==1:\n",
    "        return base\n",
    "    else:\n",
    "        if exp%2 ==0:\n",
    "            return recurPowerNew(base*base,exp/2)\n",
    "        else:\n",
    "            return base*recurPowerNew(base,exp-1)"
   ]
  },
  {
   "cell_type": "code",
   "execution_count": 24,
   "metadata": {
    "collapsed": false
   },
   "outputs": [
    {
     "data": {
      "text/plain": [
       "3125"
      ]
     },
     "execution_count": 24,
     "metadata": {},
     "output_type": "execute_result"
    }
   ],
   "source": [
    "recurPowerNew(5,5)"
   ]
  },
  {
   "cell_type": "code",
   "execution_count": 64,
   "metadata": {
    "collapsed": false
   },
   "outputs": [],
   "source": [
    "def gcd(a,b):\n",
    "    testVal= a\n",
    "    for i in range(b,a-1,-1):\n",
    "        print i, a%i, b%i\n",
    "        if a%i == 0 and b%i == 0:\n",
    "            print 'works'\n",
    "            break\n",
    "        elif a==1:\n",
    "            return 1\n",
    "        #break\n",
    "    return i"
   ]
  },
  {
   "cell_type": "code",
   "execution_count": 76,
   "metadata": {
    "collapsed": true
   },
   "outputs": [],
   "source": [
    "def gcdIter(a,b):\n",
    "    '''Given positive integers a,b find the\n",
    "    greatest common denominator (largest integer \n",
    "    that divides each of them without remainder. \n",
    "    Write an iterative function, gcdIter(a, b), \n",
    "    that implements this idea. One easy way to do \n",
    "    this is to begin with a test value equal to t\n",
    "    he smaller of the two input arguments, and \n",
    "    iteratively reduce this test value by 1 until\n",
    "    you either reach a case where the test divides \n",
    "    both a and b without remainder, or you reach 1.)'''\n",
    "    \n",
    "    testVal= min(a,b)#Find the min of both and set as test value\n",
    "    while testVal > 0:#Know it has to be positive\n",
    "        if (a%testVal ==0 and b%testVal == 0):#Set conditions for correct answer\n",
    "            return testVal\n",
    "        elif testVal == 1:#Set condition for test value = 1\n",
    "            return 1\n",
    "        else:#Set condition for test val not correct and decreasing by 1\n",
    "            testVal -=1"
   ]
  },
  {
   "cell_type": "code",
   "execution_count": 77,
   "metadata": {
    "collapsed": false
   },
   "outputs": [
    {
     "data": {
      "text/plain": [
       "1"
      ]
     },
     "execution_count": 77,
     "metadata": {},
     "output_type": "execute_result"
    }
   ],
   "source": [
    "gcdIter(17,12)"
   ]
  },
  {
   "cell_type": "code",
   "execution_count": 78,
   "metadata": {
    "collapsed": false
   },
   "outputs": [],
   "source": [
    "def gcdRecur(a,b):\n",
    "    '''A clever mathematical trick (due to Euclid) \n",
    "    makes it easy to find greatest common divisors.\n",
    "    Suppose that a and b are two positive integers:\n",
    "    If b = 0, then the answer is a, Otherwise, \n",
    "    gcd(a, b) is the same as gcd(b, a % b). Write a \n",
    "    function gcdRecur(a, b) that implements this idea \n",
    "    recursively. This function takes in two positive \n",
    "    integers and returns one integer.'''\n",
    "    \n",
    "    if b == 0:\n",
    "        return a\n",
    "    else:\n",
    "        return gcdRecur(b,a%b)"
   ]
  },
  {
   "cell_type": "code",
   "execution_count": 83,
   "metadata": {
    "collapsed": false
   },
   "outputs": [
    {
     "data": {
      "text/plain": [
       "1"
      ]
     },
     "execution_count": 83,
     "metadata": {},
     "output_type": "execute_result"
    }
   ],
   "source": [
    "gcdRecur(17, 12)"
   ]
  },
  {
   "cell_type": "code",
   "execution_count": 84,
   "metadata": {
    "collapsed": true
   },
   "outputs": [],
   "source": [
    "def lenIter(aStr):\n",
    "    '''Write an iterative function, lenIter, which \n",
    "    computes the length of an input argument \n",
    "    (a string), by counting up the number of \n",
    "    characters in the string.'''\n",
    "    \n",
    "    count= 0\n",
    "    for i in aStr:\n",
    "        count+=1\n",
    "    return count"
   ]
  },
  {
   "cell_type": "code",
   "execution_count": 86,
   "metadata": {
    "collapsed": false
   },
   "outputs": [
    {
     "data": {
      "text/plain": [
       "5"
      ]
     },
     "execution_count": 86,
     "metadata": {},
     "output_type": "execute_result"
    }
   ],
   "source": [
    "lenIter('horse')"
   ]
  },
  {
   "cell_type": "code",
   "execution_count": 99,
   "metadata": {
    "collapsed": false
   },
   "outputs": [],
   "source": [
    "def lenRecur(aStr):\n",
    "    ''' write a recursive function, lenRecur, which computes \n",
    "    the length of an input argument (a string), by counting up\n",
    "    the number of characters in the string.'''\n",
    "    \n",
    "    total= 0#Initialize counter\n",
    "    if aStr == '':#Base case: If string empty, return counter\n",
    "        return total\n",
    "    else:\n",
    "        total +=1 #Add one to counter\n",
    "        #print aStr, total\n",
    "        return total + lenRecur(aStr[1::]) \n",
    "        #For final line, return total + output of lenRecur on shortened aStr\n",
    "        #(which at most basic form should be +1 sequentially)"
   ]
  },
  {
   "cell_type": "code",
   "execution_count": 100,
   "metadata": {
    "collapsed": false
   },
   "outputs": [
    {
     "name": "stdout",
     "output_type": "stream",
     "text": [
      "diego 1\n",
      "iego 1\n",
      "ego 1\n",
      "go 1\n",
      "o 1\n"
     ]
    },
    {
     "data": {
      "text/plain": [
       "5"
      ]
     },
     "execution_count": 100,
     "metadata": {},
     "output_type": "execute_result"
    }
   ],
   "source": [
    "lenRecur('diego')"
   ]
  },
  {
   "cell_type": "code",
   "execution_count": 138,
   "metadata": {
    "collapsed": false
   },
   "outputs": [
    {
     "name": "stdout",
     "output_type": "stream",
     "text": [
      "e\n"
     ]
    }
   ],
   "source": [
    "name= 'de'\n",
    "mid= len(name)/2\n",
    "print name[mid]"
   ]
  },
  {
   "cell_type": "code",
   "execution_count": 220,
   "metadata": {
    "collapsed": false
   },
   "outputs": [],
   "source": [
    "def isIn(char,aStr):\n",
    "    '''Checks if a character char is in a string aStr\n",
    "    '''\n",
    "    \n",
    "    aStr= sorted(aStr)#First step is to sort\n",
    "    mid= len(aStr)/2#Second step is to find mid character\n",
    "    if len(aStr) == 0:#Base case 1 (no characters)\n",
    "        return False\n",
    "    elif len(aStr) <= 2:#Base case 2 (two characters, no mid)\n",
    "        print 'No half for two', aStr\n",
    "        if char == aStr[0] or char == aStr[1]:\n",
    "            return True\n",
    "        else:\n",
    "            return False\n",
    "        return isIn(char,aStr[:1])\n",
    "    elif aStr[mid] == char:\n",
    "        print 'Found it'\n",
    "        return True\n",
    "    elif char < aStr[mid]:\n",
    "        print 'char is lower', aStr[mid], aStr\n",
    "        return isIn(char,aStr[:mid+1])\n",
    "        #return isIn(char,aStr[:mid]) #also works\n",
    "    elif char > aStr[mid]:\n",
    "        print 'char is higher', aStr[mid], aStr\n",
    "        return isIn(char,aStr[mid:])#Be careful with extra colons! To span in slice just use one colon!\n",
    "        #return isIn(char,aStr[mid+1:])#also works\n",
    "    else:#This would be condition for not present, but never gets here\n",
    "        print 'Not here!'\n",
    "        return False\n",
    "    "
   ]
  },
  {
   "cell_type": "code",
   "execution_count": 221,
   "metadata": {
    "collapsed": false
   },
   "outputs": [
    {
     "name": "stdout",
     "output_type": "stream",
     "text": [
      "char is higher h ['c', 'e', 'e', 'e', 'f', 'h', 'k', 'l', 'm', 'n', 'v']\n",
      "char is higher m ['h', 'k', 'l', 'm', 'n', 'v']\n",
      "char is higher n ['m', 'n', 'v']\n",
      "No half for two ['n', 'v']\n"
     ]
    },
    {
     "data": {
      "text/plain": [
       "False"
      ]
     },
     "execution_count": 221,
     "metadata": {},
     "output_type": "execute_result"
    }
   ],
   "source": [
    "isIn('z','ceeefhklmnv')"
   ]
  },
  {
   "cell_type": "code",
   "execution_count": 161,
   "metadata": {
    "collapsed": false
   },
   "outputs": [
    {
     "data": {
      "text/plain": [
       "True"
      ]
     },
     "execution_count": 161,
     "metadata": {},
     "output_type": "execute_result"
    }
   ],
   "source": [
    "char= 'y'; aStr= 'y'\n",
    "char == aStr"
   ]
  },
  {
   "cell_type": "code",
   "execution_count": 296,
   "metadata": {
    "collapsed": false
   },
   "outputs": [],
   "source": [
    "#Check strings are not single characters\n",
    "#Check strings are not equal\n",
    "#Use wrapper fxn\n",
    "#What would strategy be? Check first couple of letters\n",
    "\n",
    "def semordnilapWrapper(str1, str2):\n",
    "    # A single-length string cannot be semordnilap\n",
    "    print 'Initializing'\n",
    "    if len(str1) == 1 or len(str2) == 1:\n",
    "        return False\n",
    "\n",
    "    # Equal strings cannot be semordnilap\n",
    "    if str1 == str2:\n",
    "        return False\n",
    "    #score= len(str1)\n",
    "    #elif str1 == '':\n",
    "        #return True\n",
    "    \n",
    "    def semordnilap(str1,str2):\n",
    "    #At most basic level you check single characters\n",
    "    #First need to reverse to line them up\n",
    "        print 'First check: ', str1, str2\n",
    "        print 'First chars: ', str1[0], str2[::-1][0]\n",
    "        if len(str1) == 0 and len(str2) == 0:\n",
    "            print 'Done'\n",
    "            return True\n",
    "        \n",
    "        elif str1[0] != str2[::-1][0]:\n",
    "            #print str1[0], str2[::-1][0]\n",
    "            print 'First chars not equal'\n",
    "            return semordnilap(str1[1:], str2[1:])\n",
    "        else:\n",
    "            print 'Well here'#return False\n",
    "    \n",
    "    return semordnilap(str1, str2)"
   ]
  },
  {
   "cell_type": "code",
   "execution_count": 301,
   "metadata": {
    "collapsed": false
   },
   "outputs": [
    {
     "name": "stdout",
     "output_type": "stream",
     "text": [
      " Initializing\n",
      "First check:  dog god\n",
      "First chars:  d d\n",
      "Well here\n"
     ]
    }
   ],
   "source": [
    "semordnilapWrapper('dog','god')"
   ]
  },
  {
   "cell_type": "code",
   "execution_count": 288,
   "metadata": {
    "collapsed": false
   },
   "outputs": [
    {
     "data": {
      "text/plain": [
       "'ogeid'"
      ]
     },
     "execution_count": 288,
     "metadata": {},
     "output_type": "execute_result"
    }
   ],
   "source": [
    "str1= 'diego'\n",
    "str1[::-1]\n"
   ]
  },
  {
   "cell_type": "code",
   "execution_count": 241,
   "metadata": {
    "collapsed": false
   },
   "outputs": [
    {
     "data": {
      "text/plain": [
       "'iego'"
      ]
     },
     "execution_count": 241,
     "metadata": {},
     "output_type": "execute_result"
    }
   ],
   "source": [
    "str1[1:]#len(str1)]"
   ]
  },
  {
   "cell_type": "code",
   "execution_count": 250,
   "metadata": {
    "collapsed": false
   },
   "outputs": [
    {
     "name": "stdout",
     "output_type": "stream",
     "text": [
      "l l\n"
     ]
    }
   ],
   "source": [
    "semordnilapWrapper('live','evil')"
   ]
  },
  {
   "cell_type": "code",
   "execution_count": 257,
   "metadata": {
    "collapsed": false
   },
   "outputs": [
    {
     "data": {
      "text/plain": [
       "'ogeid'"
      ]
     },
     "execution_count": 257,
     "metadata": {},
     "output_type": "execute_result"
    }
   ],
   "source": [
    "str1[::-1]"
   ]
  },
  {
   "cell_type": "code",
   "execution_count": 258,
   "metadata": {
    "collapsed": false
   },
   "outputs": [
    {
     "data": {
      "text/plain": [
       "'o'"
      ]
     },
     "execution_count": 258,
     "metadata": {},
     "output_type": "execute_result"
    }
   ],
   "source": [
    "str1[::-1][0]"
   ]
  },
  {
   "cell_type": "code",
   "execution_count": 302,
   "metadata": {
    "collapsed": false
   },
   "outputs": [
    {
     "data": {
      "text/plain": [
       "(3, 5, 2, 4, 6, 8)"
      ]
     },
     "execution_count": 302,
     "metadata": {},
     "output_type": "execute_result"
    }
   ],
   "source": [
    "test= (3,5,2,4,6,8)\n",
    "test"
   ]
  },
  {
   "cell_type": "code",
   "execution_count": 303,
   "metadata": {
    "collapsed": false
   },
   "outputs": [
    {
     "data": {
      "text/plain": [
       "(5, 2)"
      ]
     },
     "execution_count": 303,
     "metadata": {},
     "output_type": "execute_result"
    }
   ],
   "source": [
    "test[1:3]"
   ]
  },
  {
   "cell_type": "code",
   "execution_count": 307,
   "metadata": {
    "collapsed": false
   },
   "outputs": [
    {
     "data": {
      "text/plain": [
       "(3, 5, 2, 4, 6, 8, 2)"
      ]
     },
     "execution_count": 307,
     "metadata": {},
     "output_type": "execute_result"
    }
   ],
   "source": [
    "test+(2,)"
   ]
  },
  {
   "cell_type": "code",
   "execution_count": 310,
   "metadata": {
    "collapsed": false
   },
   "outputs": [
    {
     "ename": "AttributeError",
     "evalue": "'tuple' object has no attribute 'append'",
     "output_type": "error",
     "traceback": [
      "\u001b[1;31m---------------------------------------------------------------------------\u001b[0m",
      "\u001b[1;31mAttributeError\u001b[0m                            Traceback (most recent call last)",
      "\u001b[1;32m<ipython-input-310-978e44e469ac>\u001b[0m in \u001b[0;36m<module>\u001b[1;34m()\u001b[0m\n\u001b[1;32m----> 1\u001b[1;33m \u001b[0mtest\u001b[0m\u001b[1;33m.\u001b[0m\u001b[0mappend\u001b[0m\u001b[1;33m(\u001b[0m\u001b[1;33m(\u001b[0m\u001b[1;36m3\u001b[0m\u001b[1;33m,\u001b[0m\u001b[1;33m)\u001b[0m\u001b[1;33m)\u001b[0m\u001b[1;33m\u001b[0m\u001b[0m\n\u001b[0m",
      "\u001b[1;31mAttributeError\u001b[0m: 'tuple' object has no attribute 'append'"
     ]
    }
   ],
   "source": [
    "test.append((3,))"
   ]
  },
  {
   "cell_type": "code",
   "execution_count": 319,
   "metadata": {
    "collapsed": false
   },
   "outputs": [],
   "source": [
    "x = [1, 2, [3, 'John', 4], 'Hi'] "
   ]
  },
  {
   "cell_type": "code",
   "execution_count": 329,
   "metadata": {
    "collapsed": false
   },
   "outputs": [
    {
     "data": {
      "text/plain": [
       "[10, 9, 8, 7, 6, 5, 4]"
      ]
     },
     "execution_count": 329,
     "metadata": {},
     "output_type": "execute_result"
    }
   ],
   "source": [
    "range(10,3,-1)"
   ]
  },
  {
   "cell_type": "code",
   "execution_count": 333,
   "metadata": {
    "collapsed": false
   },
   "outputs": [
    {
     "name": "stdout",
     "output_type": "stream",
     "text": [
      "[1, 2, 3, 4, 5] [1, 2, 3, 4, 5]\n",
      "[1, 2, 'hello', 4, 5] [1, 2, 'hello', 4, 5]\n"
     ]
    }
   ],
   "source": [
    "a= range(1,6); b= a; print a,b ; a[2]= 'hello'; a==b; print a,b"
   ]
  },
  {
   "cell_type": "code",
   "execution_count": 331,
   "metadata": {
    "collapsed": false
   },
   "outputs": [
    {
     "name": "stdout",
     "output_type": "stream",
     "text": [
      "[1, 2, 'hello', 4, 5] [1, 2, 'hello', 4, 5]\n"
     ]
    }
   ],
   "source": [
    "print a, b"
   ]
  },
  {
   "cell_type": "code",
   "execution_count": 353,
   "metadata": {
    "collapsed": false
   },
   "outputs": [],
   "source": [
    "listA = [1, 4, 3, 0]\n",
    "listB = ['x', 'z', 't', 'q']"
   ]
  },
  {
   "cell_type": "code",
   "execution_count": 337,
   "metadata": {
    "collapsed": false
   },
   "outputs": [
    {
     "data": {
      "text/plain": [
       "'q'"
      ]
     },
     "execution_count": 337,
     "metadata": {},
     "output_type": "execute_result"
    }
   ],
   "source": [
    "listB.pop()"
   ]
  },
  {
   "cell_type": "code",
   "execution_count": 338,
   "metadata": {
    "collapsed": false
   },
   "outputs": [
    {
     "data": {
      "text/plain": [
       "0"
      ]
     },
     "execution_count": 338,
     "metadata": {},
     "output_type": "execute_result"
    }
   ],
   "source": [
    "listA.index(1)"
   ]
  },
  {
   "cell_type": "code",
   "execution_count": 343,
   "metadata": {
    "collapsed": false
   },
   "outputs": [
    {
     "data": {
      "text/plain": [
       "<function sort>"
      ]
     },
     "execution_count": 343,
     "metadata": {},
     "output_type": "execute_result"
    }
   ],
   "source": [
    "listA.sort"
   ]
  },
  {
   "cell_type": "code",
   "execution_count": 344,
   "metadata": {
    "collapsed": false
   },
   "outputs": [],
   "source": [
    "listA.sort()"
   ]
  },
  {
   "cell_type": "code",
   "execution_count": 345,
   "metadata": {
    "collapsed": true
   },
   "outputs": [],
   "source": [
    "listA.append(7)"
   ]
  },
  {
   "cell_type": "code",
   "execution_count": 348,
   "metadata": {
    "collapsed": false
   },
   "outputs": [],
   "source": [
    "listA.insert(0,100)"
   ]
  },
  {
   "cell_type": "code",
   "execution_count": 349,
   "metadata": {
    "collapsed": false
   },
   "outputs": [
    {
     "data": {
      "text/plain": [
       "[100, 1, 4, 3, 0]"
      ]
     },
     "execution_count": 349,
     "metadata": {},
     "output_type": "execute_result"
    }
   ],
   "source": [
    "listA"
   ]
  },
  {
   "cell_type": "code",
   "execution_count": 350,
   "metadata": {
    "collapsed": false
   },
   "outputs": [
    {
     "data": {
      "text/plain": [
       "[100, 1, 4, 3, 0, 10, 20]"
      ]
     },
     "execution_count": 350,
     "metadata": {},
     "output_type": "execute_result"
    }
   ],
   "source": [
    "listA.extend([10,20])\n",
    "listA"
   ]
  },
  {
   "cell_type": "code",
   "execution_count": 351,
   "metadata": {
    "collapsed": true
   },
   "outputs": [],
   "source": [
    "listA.append([11,30])"
   ]
  },
  {
   "cell_type": "code",
   "execution_count": 352,
   "metadata": {
    "collapsed": false
   },
   "outputs": [
    {
     "data": {
      "text/plain": [
       "[100, 1, 4, 3, 0, 10, 20, [11, 30]]"
      ]
     },
     "execution_count": 352,
     "metadata": {},
     "output_type": "execute_result"
    }
   ],
   "source": [
    "listA"
   ]
  },
  {
   "cell_type": "code",
   "execution_count": 354,
   "metadata": {
    "collapsed": false
   },
   "outputs": [
    {
     "data": {
      "text/plain": [
       "[1, 4, 3, 0]"
      ]
     },
     "execution_count": 354,
     "metadata": {},
     "output_type": "execute_result"
    }
   ],
   "source": [
    "listA"
   ]
  },
  {
   "cell_type": "code",
   "execution_count": 355,
   "metadata": {
    "collapsed": false
   },
   "outputs": [
    {
     "data": {
      "text/plain": [
       "[1, 4, 3, 0, 8, 9, 10]"
      ]
     },
     "execution_count": 355,
     "metadata": {},
     "output_type": "execute_result"
    }
   ],
   "source": [
    "listA.extend([8,9,10])\n",
    "listA"
   ]
  },
  {
   "cell_type": "code",
   "execution_count": 357,
   "metadata": {
    "collapsed": false
   },
   "outputs": [
    {
     "data": {
      "text/plain": [
       "1"
      ]
     },
     "execution_count": 357,
     "metadata": {},
     "output_type": "execute_result"
    }
   ],
   "source": [
    "listA.count(3)\n"
   ]
  },
  {
   "cell_type": "code",
   "execution_count": 358,
   "metadata": {
    "collapsed": false
   },
   "outputs": [
    {
     "data": {
      "text/plain": [
       "[1, 4, 3, 0, 8, 9, 10]"
      ]
     },
     "execution_count": 358,
     "metadata": {},
     "output_type": "execute_result"
    }
   ],
   "source": [
    "listA"
   ]
  },
  {
   "cell_type": "code",
   "execution_count": 360,
   "metadata": {
    "collapsed": false
   },
   "outputs": [
    {
     "data": {
      "text/plain": [
       "4"
      ]
     },
     "execution_count": 360,
     "metadata": {},
     "output_type": "execute_result"
    }
   ],
   "source": [
    "listA.index(8)"
   ]
  },
  {
   "cell_type": "code",
   "execution_count": 361,
   "metadata": {
    "collapsed": false
   },
   "outputs": [
    {
     "data": {
      "text/plain": [
       "1"
      ]
     },
     "execution_count": 361,
     "metadata": {},
     "output_type": "execute_result"
    }
   ],
   "source": [
    "listA.append(4)\n",
    "listA.index(4)"
   ]
  },
  {
   "cell_type": "code",
   "execution_count": 362,
   "metadata": {
    "collapsed": false
   },
   "outputs": [
    {
     "data": {
      "text/plain": [
       "[1, 4, 3, 0, 8, 9, 10, 4]"
      ]
     },
     "execution_count": 362,
     "metadata": {},
     "output_type": "execute_result"
    }
   ],
   "source": [
    "listA"
   ]
  },
  {
   "cell_type": "code",
   "execution_count": 364,
   "metadata": {
    "collapsed": false
   },
   "outputs": [
    {
     "data": {
      "text/plain": [
       "1"
      ]
     },
     "execution_count": 364,
     "metadata": {},
     "output_type": "execute_result"
    }
   ],
   "source": [
    "listA.index(4)"
   ]
  },
  {
   "cell_type": "code",
   "execution_count": 365,
   "metadata": {
    "collapsed": true
   },
   "outputs": [],
   "source": [
    "animals = {'a': 'aardvark', 'b': 'baboon', 'c': 'coati'}"
   ]
  },
  {
   "cell_type": "code",
   "execution_count": 366,
   "metadata": {
    "collapsed": false
   },
   "outputs": [
    {
     "data": {
      "text/plain": [
       "{'a': 'dog', 'b': 'baboon', 'c': 'coati'}"
      ]
     },
     "execution_count": 366,
     "metadata": {},
     "output_type": "execute_result"
    }
   ],
   "source": [
    "animals['a'] = 'dog'\n",
    "animals"
   ]
  },
  {
   "cell_type": "code",
   "execution_count": 534,
   "metadata": {
    "collapsed": false
   },
   "outputs": [],
   "source": [
    "#Got it correct finally! :) \n",
    "def ndigits(x):\n",
    "    '''Write a function called ndigits, \n",
    "    that takes an integer x (either positive or \n",
    "    negative) as an argument. This function \n",
    "    should return the number of digits in x'''\n",
    "    new= abs(x)\n",
    "    if new==0:\n",
    "        return 0\n",
    "    else:\n",
    "        return 1+ndigits(new/10)"
   ]
  },
  {
   "cell_type": "code",
   "execution_count": 536,
   "metadata": {
    "collapsed": false
   },
   "outputs": [
    {
     "data": {
      "text/plain": [
       "3"
      ]
     },
     "execution_count": 536,
     "metadata": {},
     "output_type": "execute_result"
    }
   ],
   "source": [
    "ndigits(-100)"
   ]
  },
  {
   "cell_type": "markdown",
   "metadata": {
    "collapsed": true
   },
   "source": [
    "## Deque to check if palindrome\n",
    "\n",
    "I'll need to define the deque class first using list methods. Then I'll write a function that uses the deque class to check if a word is a palindrome. There are all sort of methods we can add here but for now I'll just add the insert and remove methods"
   ]
  },
  {
   "cell_type": "code",
   "execution_count": 47,
   "metadata": {
    "collapsed": true
   },
   "outputs": [],
   "source": [
    "class deque():\n",
    "    def __init__(self):\n",
    "        self.items= []\n",
    "    def add_front(self, item):\n",
    "        self.items.append(item)\n",
    "    def remove_front(self):\n",
    "        return self.items.pop()\n",
    "    def add_rear(self, item):\n",
    "        self.items.insert(0,item)\n",
    "    def remove_rear(self):\n",
    "        return self.items.pop(0)\n",
    "        "
   ]
  },
  {
   "cell_type": "code",
   "execution_count": 56,
   "metadata": {
    "collapsed": false
   },
   "outputs": [],
   "source": [
    "def checkPalindrome(myStr):\n",
    "    '''Here Ill first feed my string into \n",
    "    my deque one char at a time, then start removing items\n",
    "    chars from my str on both ends sequentially \n",
    "    only if they match (like in a palindrome). If\n",
    "    they don't match Ill stop and return False\n",
    "    ''' \n",
    "    #Initialize deque object\n",
    "    myDeque= deque()\n",
    "    \n",
    "    for i in myStr:\n",
    "        myDeque.add_front(i)\n",
    "    \n",
    "    #Check that we have chars in our deque\n",
    "    print myDeque.items, len(myDeque.items)\n",
    "    \n",
    "    #Now iterate through items and compare 1st and last\n",
    "    equal= True\n",
    "    \n",
    "    while len(myDeque.items) >1 and equal:\n",
    "        firstChar= myDeque.remove_front()\n",
    "        lastChar= myDeque.remove_rear()\n",
    "\n",
    "        if firstChar != lastChar:\n",
    "            equal= False\n",
    "    return equal"
   ]
  },
  {
   "cell_type": "code",
   "execution_count": 57,
   "metadata": {
    "collapsed": false
   },
   "outputs": [
    {
     "name": "stdout",
     "output_type": "stream",
     "text": [
      "['m', 'o', 'o', 'n'] 4\n"
     ]
    },
    {
     "data": {
      "text/plain": [
       "False"
      ]
     },
     "execution_count": 57,
     "metadata": {},
     "output_type": "execute_result"
    }
   ],
   "source": [
    "checkPalindrome('moon')"
   ]
  },
  {
   "cell_type": "code",
   "execution_count": null,
   "metadata": {
    "collapsed": true
   },
   "outputs": [],
   "source": []
  },
  {
   "cell_type": "code",
   "execution_count": null,
   "metadata": {
    "collapsed": true
   },
   "outputs": [],
   "source": []
  }
 ],
 "metadata": {
  "anaconda-cloud": {},
  "kernelspec": {
   "display_name": "Python [default]",
   "language": "python",
   "name": "python2"
  },
  "language_info": {
   "codemirror_mode": {
    "name": "ipython",
    "version": 2
   },
   "file_extension": ".py",
   "mimetype": "text/x-python",
   "name": "python",
   "nbconvert_exporter": "python",
   "pygments_lexer": "ipython2",
   "version": "2.7.12"
  }
 },
 "nbformat": 4,
 "nbformat_minor": 0
}

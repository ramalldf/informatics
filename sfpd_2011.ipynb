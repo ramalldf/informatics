{
 "cells": [
  {
   "cell_type": "markdown",
   "metadata": {},
   "source": [
    "# Predicting police salaries in San Francisco"
   ]
  },
  {
   "cell_type": "markdown",
   "metadata": {},
   "source": [
    "Kaggle recently released salary data for public servants of the city of San Francisco. Here, I take a closer look at one of the top earning departments in the city (SFPD) to see what features can help predict their salaries."
   ]
  },
  {
   "cell_type": "markdown",
   "metadata": {},
   "source": [
    "## Connecting with database, filtering and refining data"
   ]
  },
  {
   "cell_type": "code",
   "execution_count": 13,
   "metadata": {
    "collapsed": false
   },
   "outputs": [],
   "source": [
    "import sqlite3\n",
    "import pandas as pd\n",
    "import numpy as np\n",
    "import matplotlib.pyplot as plt\n",
    "import seaborn as sns"
   ]
  },
  {
   "cell_type": "code",
   "execution_count": 14,
   "metadata": {
    "collapsed": false
   },
   "outputs": [],
   "source": [
    "#Create connection to SQLite database\n",
    "con= sqlite3.connect('sf_salaries.sqlite')\n",
    "\n",
    "#Use pandas to query database\n",
    "police= pd.read_sql_query('''SELECT * FROM Salaries WHERE JobTitle LIKE '%POLICE%' ''',con)"
   ]
  },
  {
   "cell_type": "code",
   "execution_count": 15,
   "metadata": {
    "collapsed": false
   },
   "outputs": [
    {
     "data": {
      "text/html": [
       "<div>\n",
       "<table border=\"1\" class=\"dataframe\">\n",
       "  <thead>\n",
       "    <tr style=\"text-align: right;\">\n",
       "      <th></th>\n",
       "      <th>Id</th>\n",
       "      <th>EmployeeName</th>\n",
       "      <th>JobTitle</th>\n",
       "      <th>BasePay</th>\n",
       "      <th>OvertimePay</th>\n",
       "      <th>OtherPay</th>\n",
       "      <th>Benefits</th>\n",
       "      <th>TotalPay</th>\n",
       "      <th>TotalPayBenefits</th>\n",
       "      <th>Year</th>\n",
       "      <th>Notes</th>\n",
       "      <th>Agency</th>\n",
       "      <th>Status</th>\n",
       "    </tr>\n",
       "  </thead>\n",
       "  <tbody>\n",
       "    <tr>\n",
       "      <th>0</th>\n",
       "      <td>2</td>\n",
       "      <td>GARY JIMENEZ</td>\n",
       "      <td>CAPTAIN III (POLICE DEPARTMENT)</td>\n",
       "      <td>155966</td>\n",
       "      <td>245131.88</td>\n",
       "      <td>137811.38</td>\n",
       "      <td></td>\n",
       "      <td>538909.28</td>\n",
       "      <td>538909.28</td>\n",
       "      <td>2011</td>\n",
       "      <td></td>\n",
       "      <td>San Francisco</td>\n",
       "      <td></td>\n",
       "    </tr>\n",
       "  </tbody>\n",
       "</table>\n",
       "</div>"
      ],
      "text/plain": [
       "   Id  EmployeeName                         JobTitle BasePay  OvertimePay  \\\n",
       "0   2  GARY JIMENEZ  CAPTAIN III (POLICE DEPARTMENT)  155966    245131.88   \n",
       "\n",
       "    OtherPay Benefits   TotalPay  TotalPayBenefits  Year Notes         Agency  \\\n",
       "0  137811.38           538909.28         538909.28  2011        San Francisco   \n",
       "\n",
       "  Status  \n",
       "0         "
      ]
     },
     "execution_count": 15,
     "metadata": {},
     "output_type": "execute_result"
    }
   ],
   "source": [
    "police.head(1)#A little messy, we'll get rid of unneplcessary columns."
   ]
  },
  {
   "cell_type": "code",
   "execution_count": 16,
   "metadata": {
    "collapsed": false
   },
   "outputs": [
    {
     "name": "stdout",
     "output_type": "stream",
     "text": [
      "8201 8201\n"
     ]
    }
   ],
   "source": [
    "#Let's see if length of title affects salary variables, we'll measure the length of titles and append list of lengths to dataframe\n",
    "titles= police['JobTitle'].tolist()\n",
    "\n",
    "titleLen= []\n",
    "for i in range(0,len(titles)):\n",
    "    titleLen.append(len(titles[i])-1)\n",
    "\n",
    "lenSeries= pd.Series(titleLen) #Convert list to series\n",
    "print len(police),len(lenSeries)#Doublecheck that they're the same lengths"
   ]
  },
  {
   "cell_type": "code",
   "execution_count": 17,
   "metadata": {
    "collapsed": false
   },
   "outputs": [
    {
     "data": {
      "text/html": [
       "<div>\n",
       "<table border=\"1\" class=\"dataframe\">\n",
       "  <thead>\n",
       "    <tr style=\"text-align: right;\">\n",
       "      <th></th>\n",
       "      <th>Id</th>\n",
       "      <th>EmployeeName</th>\n",
       "      <th>JobTitle</th>\n",
       "      <th>BasePay</th>\n",
       "      <th>OvertimePay</th>\n",
       "      <th>OtherPay</th>\n",
       "      <th>Benefits</th>\n",
       "      <th>TotalPay</th>\n",
       "      <th>TotalPayBenefits</th>\n",
       "      <th>Year</th>\n",
       "      <th>Notes</th>\n",
       "      <th>Agency</th>\n",
       "      <th>Status</th>\n",
       "      <th>TitleLen</th>\n",
       "    </tr>\n",
       "  </thead>\n",
       "  <tbody>\n",
       "    <tr>\n",
       "      <th>0</th>\n",
       "      <td>2</td>\n",
       "      <td>GARY JIMENEZ</td>\n",
       "      <td>CAPTAIN III (POLICE DEPARTMENT)</td>\n",
       "      <td>155966</td>\n",
       "      <td>245131.88</td>\n",
       "      <td>137811.38</td>\n",
       "      <td></td>\n",
       "      <td>538909.28</td>\n",
       "      <td>538909.28</td>\n",
       "      <td>2011</td>\n",
       "      <td></td>\n",
       "      <td>San Francisco</td>\n",
       "      <td></td>\n",
       "      <td>30</td>\n",
       "    </tr>\n",
       "  </tbody>\n",
       "</table>\n",
       "</div>"
      ],
      "text/plain": [
       "   Id  EmployeeName                         JobTitle BasePay  OvertimePay  \\\n",
       "0   2  GARY JIMENEZ  CAPTAIN III (POLICE DEPARTMENT)  155966    245131.88   \n",
       "\n",
       "    OtherPay Benefits   TotalPay  TotalPayBenefits  Year Notes         Agency  \\\n",
       "0  137811.38           538909.28         538909.28  2011        San Francisco   \n",
       "\n",
       "  Status  TitleLen  \n",
       "0               30  "
      ]
     },
     "execution_count": 17,
     "metadata": {},
     "output_type": "execute_result"
    }
   ],
   "source": [
    "police['TitleLen']= lenSeries#Append series to dataframe\n",
    "police.head(1)"
   ]
  },
  {
   "cell_type": "code",
   "execution_count": 18,
   "metadata": {
    "collapsed": false
   },
   "outputs": [],
   "source": [
    "#Now we'll drop the columns/Series that are not as useful to clean up the dataset\n",
    "#Year 2011 is a good place to start since it is simpler in that it has no benefits.\n",
    "policeClean= police.drop(['Id','EmployeeName','Notes','Agency','Status'], axis= 1)\n",
    "police2011= policeClean[policeClean['Year'] == 2011]\n",
    "police2011= police2011.drop(['Year','Benefits','TotalPayBenefits'], axis=1)"
   ]
  },
  {
   "cell_type": "code",
   "execution_count": 19,
   "metadata": {
    "collapsed": false
   },
   "outputs": [
    {
     "data": {
      "text/html": [
       "<div>\n",
       "<table border=\"1\" class=\"dataframe\">\n",
       "  <thead>\n",
       "    <tr style=\"text-align: right;\">\n",
       "      <th></th>\n",
       "      <th>JobTitle</th>\n",
       "      <th>BasePay</th>\n",
       "      <th>OvertimePay</th>\n",
       "      <th>OtherPay</th>\n",
       "      <th>TotalPay</th>\n",
       "      <th>TitleLen</th>\n",
       "    </tr>\n",
       "  </thead>\n",
       "  <tbody>\n",
       "    <tr>\n",
       "      <th>0</th>\n",
       "      <td>CAPTAIN III (POLICE DEPARTMENT)</td>\n",
       "      <td>155966</td>\n",
       "      <td>245131.88</td>\n",
       "      <td>137811.38</td>\n",
       "      <td>538909.28</td>\n",
       "      <td>30</td>\n",
       "    </tr>\n",
       "    <tr>\n",
       "      <th>1</th>\n",
       "      <td>CAPTAIN III (POLICE DEPARTMENT)</td>\n",
       "      <td>212739</td>\n",
       "      <td>106088.18</td>\n",
       "      <td>16452.60</td>\n",
       "      <td>335279.91</td>\n",
       "      <td>30</td>\n",
       "    </tr>\n",
       "    <tr>\n",
       "      <th>2</th>\n",
       "      <td>CAPTAIN III (POLICE DEPARTMENT)</td>\n",
       "      <td>99722</td>\n",
       "      <td>87082.62</td>\n",
       "      <td>110804.30</td>\n",
       "      <td>297608.92</td>\n",
       "      <td>30</td>\n",
       "    </tr>\n",
       "    <tr>\n",
       "      <th>3</th>\n",
       "      <td>COMMANDER III, (POLICE DEPARTMENT)</td>\n",
       "      <td>198778</td>\n",
       "      <td>73478.20</td>\n",
       "      <td>13957.65</td>\n",
       "      <td>286213.86</td>\n",
       "      <td>33</td>\n",
       "    </tr>\n",
       "    <tr>\n",
       "      <th>4</th>\n",
       "      <td>CHIEF OF POLICE</td>\n",
       "      <td>256470</td>\n",
       "      <td>0.00</td>\n",
       "      <td>11522.18</td>\n",
       "      <td>267992.59</td>\n",
       "      <td>14</td>\n",
       "    </tr>\n",
       "  </tbody>\n",
       "</table>\n",
       "</div>"
      ],
      "text/plain": [
       "                             JobTitle BasePay  OvertimePay   OtherPay  \\\n",
       "0     CAPTAIN III (POLICE DEPARTMENT)  155966    245131.88  137811.38   \n",
       "1     CAPTAIN III (POLICE DEPARTMENT)  212739    106088.18   16452.60   \n",
       "2     CAPTAIN III (POLICE DEPARTMENT)   99722     87082.62  110804.30   \n",
       "3  COMMANDER III, (POLICE DEPARTMENT)  198778     73478.20   13957.65   \n",
       "4                     CHIEF OF POLICE  256470         0.00   11522.18   \n",
       "\n",
       "    TotalPay  TitleLen  \n",
       "0  538909.28        30  \n",
       "1  335279.91        30  \n",
       "2  297608.92        30  \n",
       "3  286213.86        33  \n",
       "4  267992.59        14  "
      ]
     },
     "execution_count": 19,
     "metadata": {},
     "output_type": "execute_result"
    }
   ],
   "source": [
    "police2011.head()"
   ]
  },
  {
   "cell_type": "markdown",
   "metadata": {},
   "source": [
    "## Splitting our data and visualizing features"
   ]
  },
  {
   "cell_type": "code",
   "execution_count": 20,
   "metadata": {
    "collapsed": true
   },
   "outputs": [],
   "source": [
    "#Now let's split this into a training and test dataset to \n",
    "from sklearn.cross_validation import train_test_split\n",
    "\n",
    "train2011, test2011 = train_test_split(police2011, test_size = 0.2)"
   ]
  },
  {
   "cell_type": "code",
   "execution_count": 33,
   "metadata": {
    "collapsed": false
   },
   "outputs": [
    {
     "data": {
      "text/plain": [
       "<seaborn.axisgrid.PairGrid at 0x232af978>"
      ]
     },
     "execution_count": 33,
     "metadata": {},
     "output_type": "execute_result"
    },
    {
     "data": {
      "image/png": "[encoded data removed]",
      "text/plain": [
       "<matplotlib.figure.Figure at 0x270f6f60>"
      ]
     },
     "metadata": {},
     "output_type": "display_data"
    }
   ],
   "source": [
    "#Now let's see if we can identify any trends by plotting the series against one another\n",
    "%matplotlib inline\n",
    "sns.pairplot(train2011)"
   ]
  },
  {
   "cell_type": "markdown",
   "metadata": {
    "collapsed": false
   },
   "source": [
    "As expected, BasePay has a strong correlation with TotalPay. However, OvertimePay and OtherPay seem to have a positive correlation with TotalPay, and one outlier shows up in both. It would make sense that OvertimePay would contribute more strongly since it is more intuitive while OtherPay is a bit mysterious."
   ]
  },
  {
   "cell_type": "code",
   "execution_count": 54,
   "metadata": {
    "collapsed": false
   },
   "outputs": [
    {
     "data": {
      "application/javascript": [
       "/* Put everything inside the global mpl namespace */\n",
       "window.mpl = {};\n",
       "\n",
       "mpl.get_websocket_type = function() {\n",
       "    if (typeof(WebSocket) !== 'undefined') {\n",
       "        return WebSocket;\n",
       "    } else if (typeof(MozWebSocket) !== 'undefined') {\n",
       "        return MozWebSocket;\n",
       "    } else {\n",
       "        alert('Your browser does not have WebSocket support.' +\n",
       "              'Please try Chrome, Safari or Firefox ≥ 6. ' +\n",
       "              'Firefox 4 and 5 are also supported but you ' +\n",
       "              'have to enable WebSockets in about:config.');\n",
       "    };\n",
       "}\n",
       "\n",
       "mpl.figure = function(figure_id, websocket, ondownload, parent_element) {\n",
       "    this.id = figure_id;\n",
       "\n",
       "    this.ws = websocket;\n",
       "\n",
       "    this.supports_binary = (this.ws.binaryType != undefined);\n",
       "\n",
       "    if (!this.supports_binary) {\n",
       "        var warnings = document.getElementById(\"mpl-warnings\");\n",
       "        if (warnings) {\n",
       "            warnings.style.display = 'block';\n",
       "            warnings.textContent = (\n",
       "                \"This browser does not support binary websocket messages. \" +\n",
       "                    \"Performance may be slow.\");\n",
       "        }\n",
       "    }\n",
       "\n",
       "    this.imageObj = new Image();\n",
       "\n",
       "    this.context = undefined;\n",
       "    this.message = undefined;\n",
       "    this.canvas = undefined;\n",
       "    this.rubberband_canvas = undefined;\n",
       "    this.rubberband_context = undefined;\n",
       "    this.format_dropdown = undefined;\n",
       "\n",
       "    this.image_mode = 'full';\n",
       "\n",
       "    this.root = $('<div/>');\n",
       "    this._root_extra_style(this.root)\n",
       "    this.root.attr('style', 'display: inline-block');\n",
       "\n",
       "    $(parent_element).append(this.root);\n",
       "\n",
       "    this._init_header(this);\n",
       "    this._init_canvas(this);\n",
       "    this._init_toolbar(this);\n",
       "\n",
       "    var fig = this;\n",
       "\n",
       "    this.waiting = false;\n",
       "\n",
       "    this.ws.onopen =  function () {\n",
       "            fig.send_message(\"supports_binary\", {value: fig.supports_binary});\n",
       "            fig.send_message(\"send_image_mode\", {});\n",
       "            fig.send_message(\"refresh\", {});\n",
       "        }\n",
       "\n",
       "    this.imageObj.onload = function() {\n",
       "            if (fig.image_mode == 'full') {\n",
       "                // Full images could contain transparency (where diff images\n",
       "                // almost always do), so we need to clear the canvas so that\n",
       "                // there is no ghosting.\n",
       "                fig.context.clearRect(0, 0, fig.canvas.width, fig.canvas.height);\n",
       "            }\n",
       "            fig.context.drawImage(fig.imageObj, 0, 0);\n",
       "        };\n",
       "\n",
       "    this.imageObj.onunload = function() {\n",
       "        this.ws.close();\n",
       "    }\n",
       "\n",
       "    this.ws.onmessage = this._make_on_message_function(this);\n",
       "\n",
       "    this.ondownload = ondownload;\n",
       "}\n",
       "\n",
       "mpl.figure.prototype._init_header = function() {\n",
       "    var titlebar = $(\n",
       "        '<div class=\"ui-dialog-titlebar ui-widget-header ui-corner-all ' +\n",
       "        'ui-helper-clearfix\"/>');\n",
       "    var titletext = $(\n",
       "        '<div class=\"ui-dialog-title\" style=\"width: 100%; ' +\n",
       "        'text-align: center; padding: 3px;\"/>');\n",
       "    titlebar.append(titletext)\n",
       "    this.root.append(titlebar);\n",
       "    this.header = titletext[0];\n",
       "}\n",
       "\n",
       "\n",
       "\n",
       "mpl.figure.prototype._canvas_extra_style = function(canvas_div) {\n",
       "\n",
       "}\n",
       "\n",
       "\n",
       "mpl.figure.prototype._root_extra_style = function(canvas_div) {\n",
       "\n",
       "}\n",
       "\n",
       "mpl.figure.prototype._init_canvas = function() {\n",
       "    var fig = this;\n",
       "\n",
       "    var canvas_div = $('<div/>');\n",
       "\n",
       "    canvas_div.attr('style', 'position: relative; clear: both; outline: 0');\n",
       "\n",
       "    function canvas_keyboard_event(event) {\n",
       "        return fig.key_event(event, event['data']);\n",
       "    }\n",
       "\n",
       "    canvas_div.keydown('key_press', canvas_keyboard_event);\n",
       "    canvas_div.keyup('key_release', canvas_keyboard_event);\n",
       "    this.canvas_div = canvas_div\n",
       "    this._canvas_extra_style(canvas_div)\n",
       "    this.root.append(canvas_div);\n",
       "\n",
       "    var canvas = $('<canvas/>');\n",
       "    canvas.addClass('mpl-canvas');\n",
       "    canvas.attr('style', \"left: 0; top: 0; z-index: 0; outline: 0\")\n",
       "\n",
       "    this.canvas = canvas[0];\n",
       "    this.context = canvas[0].getContext(\"2d\");\n",
       "\n",
       "    var rubberband = $('<canvas/>');\n",
       "    rubberband.attr('style', \"position: absolute; left: 0; top: 0; z-index: 1;\")\n",
       "\n",
       "    var pass_mouse_events = true;\n",
       "\n",
       "    canvas_div.resizable({\n",
       "        start: function(event, ui) {\n",
       "            pass_mouse_events = false;\n",
       "        },\n",
       "        resize: function(event, ui) {\n",
       "            fig.request_resize(ui.size.width, ui.size.height);\n",
       "        },\n",
       "        stop: function(event, ui) {\n",
       "            pass_mouse_events = true;\n",
       "            fig.request_resize(ui.size.width, ui.size.height);\n",
       "        },\n",
       "    });\n",
       "\n",
       "    function mouse_event_fn(event) {\n",
       "        if (pass_mouse_events)\n",
       "            return fig.mouse_event(event, event['data']);\n",
       "    }\n",
       "\n",
       "    rubberband.mousedown('button_press', mouse_event_fn);\n",
       "    rubberband.mouseup('button_release', mouse_event_fn);\n",
       "    // Throttle sequential mouse events to 1 every 20ms.\n",
       "    rubberband.mousemove('motion_notify', mouse_event_fn);\n",
       "\n",
       "    rubberband.mouseenter('figure_enter', mouse_event_fn);\n",
       "    rubberband.mouseleave('figure_leave', mouse_event_fn);\n",
       "\n",
       "    canvas_div.on(\"wheel\", function (event) {\n",
       "        event = event.originalEvent;\n",
       "        event['data'] = 'scroll'\n",
       "        if (event.deltaY < 0) {\n",
       "            event.step = 1;\n",
       "        } else {\n",
       "            event.step = -1;\n",
       "        }\n",
       "        mouse_event_fn(event);\n",
       "    });\n",
       "\n",
       "    canvas_div.append(canvas);\n",
       "    canvas_div.append(rubberband);\n",
       "\n",
       "    this.rubberband = rubberband;\n",
       "    this.rubberband_canvas = rubberband[0];\n",
       "    this.rubberband_context = rubberband[0].getContext(\"2d\");\n",
       "    this.rubberband_context.strokeStyle = \"#000000\";\n",
       "\n",
       "    this._resize_canvas = function(width, height) {\n",
       "        // Keep the size of the canvas, canvas container, and rubber band\n",
       "        // canvas in synch.\n",
       "        canvas_div.css('width', width)\n",
       "        canvas_div.css('height', height)\n",
       "\n",
       "        canvas.attr('width', width);\n",
       "        canvas.attr('height', height);\n",
       "\n",
       "        rubberband.attr('width', width);\n",
       "        rubberband.attr('height', height);\n",
       "    }\n",
       "\n",
       "    // Set the figure to an initial 600x600px, this will subsequently be updated\n",
       "    // upon first draw.\n",
       "    this._resize_canvas(600, 600);\n",
       "\n",
       "    // Disable right mouse context menu.\n",
       "    $(this.rubberband_canvas).bind(\"contextmenu\",function(e){\n",
       "        return false;\n",
       "    });\n",
       "\n",
       "    function set_focus () {\n",
       "        canvas.focus();\n",
       "        canvas_div.focus();\n",
       "    }\n",
       "\n",
       "    window.setTimeout(set_focus, 100);\n",
       "}\n",
       "\n",
       "mpl.figure.prototype._init_toolbar = function() {\n",
       "    var fig = this;\n",
       "\n",
       "    var nav_element = $('<div/>')\n",
       "    nav_element.attr('style', 'width: 100%');\n",
       "    this.root.append(nav_element);\n",
       "\n",
       "    // Define a callback function for later on.\n",
       "    function toolbar_event(event) {\n",
       "        return fig.toolbar_button_onclick(event['data']);\n",
       "    }\n",
       "    function toolbar_mouse_event(event) {\n",
       "        return fig.toolbar_button_onmouseover(event['data']);\n",
       "    }\n",
       "\n",
       "    for(var toolbar_ind in mpl.toolbar_items) {\n",
       "        var name = mpl.toolbar_items[toolbar_ind][0];\n",
       "        var tooltip = mpl.toolbar_items[toolbar_ind][1];\n",
       "        var image = mpl.toolbar_items[toolbar_ind][2];\n",
       "        var method_name = mpl.toolbar_items[toolbar_ind][3];\n",
       "\n",
       "        if (!name) {\n",
       "            // put a spacer in here.\n",
       "            continue;\n",
       "        }\n",
       "        var button = $('<button/>');\n",
       "        button.addClass('ui-button ui-widget ui-state-default ui-corner-all ' +\n",
       "                        'ui-button-icon-only');\n",
       "        button.attr('role', 'button');\n",
       "        button.attr('aria-disabled', 'false');\n",
       "        button.click(method_name, toolbar_event);\n",
       "        button.mouseover(tooltip, toolbar_mouse_event);\n",
       "\n",
       "        var icon_img = $('<span/>');\n",
       "        icon_img.addClass('ui-button-icon-primary ui-icon');\n",
       "        icon_img.addClass(image);\n",
       "        icon_img.addClass('ui-corner-all');\n",
       "\n",
       "        var tooltip_span = $('<span/>');\n",
       "        tooltip_span.addClass('ui-button-text');\n",
       "        tooltip_span.html(tooltip);\n",
       "\n",
       "        button.append(icon_img);\n",
       "        button.append(tooltip_span);\n",
       "\n",
       "        nav_element.append(button);\n",
       "    }\n",
       "\n",
       "    var fmt_picker_span = $('<span/>');\n",
       "\n",
       "    var fmt_picker = $('<select/>');\n",
       "    fmt_picker.addClass('mpl-toolbar-option ui-widget ui-widget-content');\n",
       "    fmt_picker_span.append(fmt_picker);\n",
       "    nav_element.append(fmt_picker_span);\n",
       "    this.format_dropdown = fmt_picker[0];\n",
       "\n",
       "    for (var ind in mpl.extensions) {\n",
       "        var fmt = mpl.extensions[ind];\n",
       "        var option = $(\n",
       "            '<option/>', {selected: fmt === mpl.default_extension}).html(fmt);\n",
       "        fmt_picker.append(option)\n",
       "    }\n",
       "\n",
       "    // Add hover states to the ui-buttons\n",
       "    $( \".ui-button\" ).hover(\n",
       "        function() { $(this).addClass(\"ui-state-hover\");},\n",
       "        function() { $(this).removeClass(\"ui-state-hover\");}\n",
       "    );\n",
       "\n",
       "    var status_bar = $('<span class=\"mpl-message\"/>');\n",
       "    nav_element.append(status_bar);\n",
       "    this.message = status_bar[0];\n",
       "}\n",
       "\n",
       "mpl.figure.prototype.request_resize = function(x_pixels, y_pixels) {\n",
       "    // Request matplotlib to resize the figure. Matplotlib will then trigger a resize in the client,\n",
       "    // which will in turn request a refresh of the image.\n",
       "    this.send_message('resize', {'width': x_pixels, 'height': y_pixels});\n",
       "}\n",
       "\n",
       "mpl.figure.prototype.send_message = function(type, properties) {\n",
       "    properties['type'] = type;\n",
       "    properties['figure_id'] = this.id;\n",
       "    this.ws.send(JSON.stringify(properties));\n",
       "}\n",
       "\n",
       "mpl.figure.prototype.send_draw_message = function() {\n",
       "    if (!this.waiting) {\n",
       "        this.waiting = true;\n",
       "        this.ws.send(JSON.stringify({type: \"draw\", figure_id: this.id}));\n",
       "    }\n",
       "}\n",
       "\n",
       "\n",
       "mpl.figure.prototype.handle_save = function(fig, msg) {\n",
       "    var format_dropdown = fig.format_dropdown;\n",
       "    var format = format_dropdown.options[format_dropdown.selectedIndex].value;\n",
       "    fig.ondownload(fig, format);\n",
       "}\n",
       "\n",
       "\n",
       "mpl.figure.prototype.handle_resize = function(fig, msg) {\n",
       "    var size = msg['size'];\n",
       "    if (size[0] != fig.canvas.width || size[1] != fig.canvas.height) {\n",
       "        fig._resize_canvas(size[0], size[1]);\n",
       "        fig.send_message(\"refresh\", {});\n",
       "    };\n",
       "}\n",
       "\n",
       "mpl.figure.prototype.handle_rubberband = function(fig, msg) {\n",
       "    var x0 = msg['x0'];\n",
       "    var y0 = fig.canvas.height - msg['y0'];\n",
       "    var x1 = msg['x1'];\n",
       "    var y1 = fig.canvas.height - msg['y1'];\n",
       "    x0 = Math.floor(x0) + 0.5;\n",
       "    y0 = Math.floor(y0) + 0.5;\n",
       "    x1 = Math.floor(x1) + 0.5;\n",
       "    y1 = Math.floor(y1) + 0.5;\n",
       "    var min_x = Math.min(x0, x1);\n",
       "    var min_y = Math.min(y0, y1);\n",
       "    var width = Math.abs(x1 - x0);\n",
       "    var height = Math.abs(y1 - y0);\n",
       "\n",
       "    fig.rubberband_context.clearRect(\n",
       "        0, 0, fig.canvas.width, fig.canvas.height);\n",
       "\n",
       "    fig.rubberband_context.strokeRect(min_x, min_y, width, height);\n",
       "}\n",
       "\n",
       "mpl.figure.prototype.handle_figure_label = function(fig, msg) {\n",
       "    // Updates the figure title.\n",
       "    fig.header.textContent = msg['label'];\n",
       "}\n",
       "\n",
       "mpl.figure.prototype.handle_cursor = function(fig, msg) {\n",
       "    var cursor = msg['cursor'];\n",
       "    switch(cursor)\n",
       "    {\n",
       "    case 0:\n",
       "        cursor = 'pointer';\n",
       "        break;\n",
       "    case 1:\n",
       "        cursor = 'default';\n",
       "        break;\n",
       "    case 2:\n",
       "        cursor = 'crosshair';\n",
       "        break;\n",
       "    case 3:\n",
       "        cursor = 'move';\n",
       "        break;\n",
       "    }\n",
       "    fig.rubberband_canvas.style.cursor = cursor;\n",
       "}\n",
       "\n",
       "mpl.figure.prototype.handle_message = function(fig, msg) {\n",
       "    fig.message.textContent = msg['message'];\n",
       "}\n",
       "\n",
       "mpl.figure.prototype.handle_draw = function(fig, msg) {\n",
       "    // Request the server to send over a new figure.\n",
       "    fig.send_draw_message();\n",
       "}\n",
       "\n",
       "mpl.figure.prototype.handle_image_mode = function(fig, msg) {\n",
       "    fig.image_mode = msg['mode'];\n",
       "}\n",
       "\n",
       "mpl.figure.prototype.updated_canvas_event = function() {\n",
       "    // Called whenever the canvas gets updated.\n",
       "    this.send_message(\"ack\", {});\n",
       "}\n",
       "\n",
       "// A function to construct a web socket function for onmessage handling.\n",
       "// Called in the figure constructor.\n",
       "mpl.figure.prototype._make_on_message_function = function(fig) {\n",
       "    return function socket_on_message(evt) {\n",
       "        if (evt.data instanceof Blob) {\n",
       "            /* FIXME: We get \"Resource interpreted as Image but\n",
       "             * transferred with MIME type text/plain:\" errors on\n",
       "             * Chrome.  But how to set the MIME type?  It doesn't seem\n",
       "             * to be part of the websocket stream */\n",
       "            evt.data.type = \"image/png\";\n",
       "\n",
       "            /* Free the memory for the previous frames */\n",
       "            if (fig.imageObj.src) {\n",
       "                (window.URL || window.webkitURL).revokeObjectURL(\n",
       "                    fig.imageObj.src);\n",
       "            }\n",
       "\n",
       "            fig.imageObj.src = (window.URL || window.webkitURL).createObjectURL(\n",
       "                evt.data);\n",
       "            fig.updated_canvas_event();\n",
       "            fig.waiting = false;\n",
       "            return;\n",
       "        }\n",
       "        else if (typeof evt.data === 'string' && evt.data.slice(0, 21) == \"data:image/png;base64\") {\n",
       "            fig.imageObj.src = evt.data;\n",
       "            fig.updated_canvas_event();\n",
       "            fig.waiting = false;\n",
       "            return;\n",
       "        }\n",
       "\n",
       "        var msg = JSON.parse(evt.data);\n",
       "        var msg_type = msg['type'];\n",
       "\n",
       "        // Call the  \"handle_{type}\" callback, which takes\n",
       "        // the figure and JSON message as its only arguments.\n",
       "        try {\n",
       "            var callback = fig[\"handle_\" + msg_type];\n",
       "        } catch (e) {\n",
       "            console.log(\"No handler for the '\" + msg_type + \"' message type: \", msg);\n",
       "            return;\n",
       "        }\n",
       "\n",
       "        if (callback) {\n",
       "            try {\n",
       "                // console.log(\"Handling '\" + msg_type + \"' message: \", msg);\n",
       "                callback(fig, msg);\n",
       "            } catch (e) {\n",
       "                console.log(\"Exception inside the 'handler_\" + msg_type + \"' callback:\", e, e.stack, msg);\n",
       "            }\n",
       "        }\n",
       "    };\n",
       "}\n",
       "\n",
       "// from http://stackoverflow.com/questions/1114465/getting-mouse-location-in-canvas\n",
       "mpl.findpos = function(e) {\n",
       "    //this section is from http://www.quirksmode.org/js/events_properties.html\n",
       "    var targ;\n",
       "    if (!e)\n",
       "        e = window.event;\n",
       "    if (e.target)\n",
       "        targ = e.target;\n",
       "    else if (e.srcElement)\n",
       "        targ = e.srcElement;\n",
       "    if (targ.nodeType == 3) // defeat Safari bug\n",
       "        targ = targ.parentNode;\n",
       "\n",
       "    // jQuery normalizes the pageX and pageY\n",
       "    // pageX,Y are the mouse positions relative to the document\n",
       "    // offset() returns the position of the element relative to the document\n",
       "    var x = e.pageX - $(targ).offset().left;\n",
       "    var y = e.pageY - $(targ).offset().top;\n",
       "\n",
       "    return {\"x\": x, \"y\": y};\n",
       "};\n",
       "\n",
       "/*\n",
       " * return a copy of an object with only non-object keys\n",
       " * we need this to avoid circular references\n",
       " * http://stackoverflow.com/a/24161582/3208463\n",
       " */\n",
       "function simpleKeys (original) {\n",
       "  return Object.keys(original).reduce(function (obj, key) {\n",
       "    if (typeof original[key] !== 'object')\n",
       "        obj[key] = original[key]\n",
       "    return obj;\n",
       "  }, {});\n",
       "}\n",
       "\n",
       "mpl.figure.prototype.mouse_event = function(event, name) {\n",
       "    var canvas_pos = mpl.findpos(event)\n",
       "\n",
       "    if (name === 'button_press')\n",
       "    {\n",
       "        this.canvas.focus();\n",
       "        this.canvas_div.focus();\n",
       "    }\n",
       "\n",
       "    var x = canvas_pos.x;\n",
       "    var y = canvas_pos.y;\n",
       "\n",
       "    this.send_message(name, {x: x, y: y, button: event.button,\n",
       "                             step: event.step,\n",
       "                             guiEvent: simpleKeys(event)});\n",
       "\n",
       "    /* This prevents the web browser from automatically changing to\n",
       "     * the text insertion cursor when the button is pressed.  We want\n",
       "     * to control all of the cursor setting manually through the\n",
       "     * 'cursor' event from matplotlib */\n",
       "    event.preventDefault();\n",
       "    return false;\n",
       "}\n",
       "\n",
       "mpl.figure.prototype._key_event_extra = function(event, name) {\n",
       "    // Handle any extra behaviour associated with a key event\n",
       "}\n",
       "\n",
       "mpl.figure.prototype.key_event = function(event, name) {\n",
       "\n",
       "    // Prevent repeat events\n",
       "    if (name == 'key_press')\n",
       "    {\n",
       "        if (event.which === this._key)\n",
       "            return;\n",
       "        else\n",
       "            this._key = event.which;\n",
       "    }\n",
       "    if (name == 'key_release')\n",
       "        this._key = null;\n",
       "\n",
       "    var value = '';\n",
       "    if (event.ctrlKey && event.which != 17)\n",
       "        value += \"ctrl+\";\n",
       "    if (event.altKey && event.which != 18)\n",
       "        value += \"alt+\";\n",
       "    if (event.shiftKey && event.which != 16)\n",
       "        value += \"shift+\";\n",
       "\n",
       "    value += 'k';\n",
       "    value += event.which.toString();\n",
       "\n",
       "    this._key_event_extra(event, name);\n",
       "\n",
       "    this.send_message(name, {key: value,\n",
       "                             guiEvent: simpleKeys(event)});\n",
       "    return false;\n",
       "}\n",
       "\n",
       "mpl.figure.prototype.toolbar_button_onclick = function(name) {\n",
       "    if (name == 'download') {\n",
       "        this.handle_save(this, null);\n",
       "    } else {\n",
       "        this.send_message(\"toolbar_button\", {name: name});\n",
       "    }\n",
       "};\n",
       "\n",
       "mpl.figure.prototype.toolbar_button_onmouseover = function(tooltip) {\n",
       "    this.message.textContent = tooltip;\n",
       "};\n",
       "mpl.toolbar_items = [[\"Home\", \"Reset original view\", \"fa fa-home icon-home\", \"home\"], [\"Back\", \"Back to  previous view\", \"fa fa-arrow-left icon-arrow-left\", \"back\"], [\"Forward\", \"Forward to next view\", \"fa fa-arrow-right icon-arrow-right\", \"forward\"], [\"\", \"\", \"\", \"\"], [\"Pan\", \"Pan axes with left mouse, zoom with right\", \"fa fa-arrows icon-move\", \"pan\"], [\"Zoom\", \"Zoom to rectangle\", \"fa fa-square-o icon-check-empty\", \"zoom\"], [\"\", \"\", \"\", \"\"], [\"Download\", \"Download plot\", \"fa fa-floppy-o icon-save\", \"download\"]];\n",
       "\n",
       "mpl.extensions = [\"eps\", \"jpeg\", \"pdf\", \"png\", \"ps\", \"raw\", \"svg\", \"tif\"];\n",
       "\n",
       "mpl.default_extension = \"png\";var comm_websocket_adapter = function(comm) {\n",
       "    // Create a \"websocket\"-like object which calls the given IPython comm\n",
       "    // object with the appropriate methods. Currently this is a non binary\n",
       "    // socket, so there is still some room for performance tuning.\n",
       "    var ws = {};\n",
       "\n",
       "    ws.close = function() {\n",
       "        comm.close()\n",
       "    };\n",
       "    ws.send = function(m) {\n",
       "        //console.log('sending', m);\n",
       "        comm.send(m);\n",
       "    };\n",
       "    // Register the callback with on_msg.\n",
       "    comm.on_msg(function(msg) {\n",
       "        //console.log('receiving', msg['content']['data'], msg);\n",
       "        // Pass the mpl event to the overriden (by mpl) onmessage function.\n",
       "        ws.onmessage(msg['content']['data'])\n",
       "    });\n",
       "    return ws;\n",
       "}\n",
       "\n",
       "mpl.mpl_figure_comm = function(comm, msg) {\n",
       "    // This is the function which gets called when the mpl process\n",
       "    // starts-up an IPython Comm through the \"matplotlib\" channel.\n",
       "\n",
       "    var id = msg.content.data.id;\n",
       "    // Get hold of the div created by the display call when the Comm\n",
       "    // socket was opened in Python.\n",
       "    var element = $(\"#\" + id);\n",
       "    var ws_proxy = comm_websocket_adapter(comm)\n",
       "\n",
       "    function ondownload(figure, format) {\n",
       "        window.open(figure.imageObj.src);\n",
       "    }\n",
       "\n",
       "    var fig = new mpl.figure(id, ws_proxy,\n",
       "                           ondownload,\n",
       "                           element.get(0));\n",
       "\n",
       "    // Call onopen now - mpl needs it, as it is assuming we've passed it a real\n",
       "    // web socket which is closed, not our websocket->open comm proxy.\n",
       "    ws_proxy.onopen();\n",
       "\n",
       "    fig.parent_element = element.get(0);\n",
       "    fig.cell_info = mpl.find_output_cell(\"<div id='\" + id + \"'></div>\");\n",
       "    if (!fig.cell_info) {\n",
       "        console.error(\"Failed to find cell for figure\", id, fig);\n",
       "        return;\n",
       "    }\n",
       "\n",
       "    var output_index = fig.cell_info[2]\n",
       "    var cell = fig.cell_info[0];\n",
       "\n",
       "};\n",
       "\n",
       "mpl.figure.prototype.handle_close = function(fig, msg) {\n",
       "    fig.root.unbind('remove')\n",
       "\n",
       "    // Update the output cell to use the data from the current canvas.\n",
       "    fig.push_to_output();\n",
       "    var dataURL = fig.canvas.toDataURL();\n",
       "    // Re-enable the keyboard manager in IPython - without this line, in FF,\n",
       "    // the notebook keyboard shortcuts fail.\n",
       "    IPython.keyboard_manager.enable()\n",
       "    $(fig.parent_element).html('<img src=\"' + dataURL + '\">');\n",
       "    fig.close_ws(fig, msg);\n",
       "}\n",
       "\n",
       "mpl.figure.prototype.close_ws = function(fig, msg){\n",
       "    fig.send_message('closing', msg);\n",
       "    // fig.ws.close()\n",
       "}\n",
       "\n",
       "mpl.figure.prototype.push_to_output = function(remove_interactive) {\n",
       "    // Turn the data on the canvas into data in the output cell.\n",
       "    var dataURL = this.canvas.toDataURL();\n",
       "    this.cell_info[1]['text/html'] = '<img src=\"' + dataURL + '\">';\n",
       "}\n",
       "\n",
       "mpl.figure.prototype.updated_canvas_event = function() {\n",
       "    // Tell IPython that the notebook contents must change.\n",
       "    IPython.notebook.set_dirty(true);\n",
       "    this.send_message(\"ack\", {});\n",
       "    var fig = this;\n",
       "    // Wait a second, then push the new image to the DOM so\n",
       "    // that it is saved nicely (might be nice to debounce this).\n",
       "    setTimeout(function () { fig.push_to_output() }, 1000);\n",
       "}\n",
       "\n",
       "mpl.figure.prototype._init_toolbar = function() {\n",
       "    var fig = this;\n",
       "\n",
       "    var nav_element = $('<div/>')\n",
       "    nav_element.attr('style', 'width: 100%');\n",
       "    this.root.append(nav_element);\n",
       "\n",
       "    // Define a callback function for later on.\n",
       "    function toolbar_event(event) {\n",
       "        return fig.toolbar_button_onclick(event['data']);\n",
       "    }\n",
       "    function toolbar_mouse_event(event) {\n",
       "        return fig.toolbar_button_onmouseover(event['data']);\n",
       "    }\n",
       "\n",
       "    for(var toolbar_ind in mpl.toolbar_items){\n",
       "        var name = mpl.toolbar_items[toolbar_ind][0];\n",
       "        var tooltip = mpl.toolbar_items[toolbar_ind][1];\n",
       "        var image = mpl.toolbar_items[toolbar_ind][2];\n",
       "        var method_name = mpl.toolbar_items[toolbar_ind][3];\n",
       "\n",
       "        if (!name) { continue; };\n",
       "\n",
       "        var button = $('<button class=\"btn btn-default\" href=\"#\" title=\"' + name + '\"><i class=\"fa ' + image + ' fa-lg\"></i></button>');\n",
       "        button.click(method_name, toolbar_event);\n",
       "        button.mouseover(tooltip, toolbar_mouse_event);\n",
       "        nav_element.append(button);\n",
       "    }\n",
       "\n",
       "    // Add the status bar.\n",
       "    var status_bar = $('<span class=\"mpl-message\" style=\"text-align:right; float: right;\"/>');\n",
       "    nav_element.append(status_bar);\n",
       "    this.message = status_bar[0];\n",
       "\n",
       "    // Add the close button to the window.\n",
       "    var buttongrp = $('<div class=\"btn-group inline pull-right\"></div>');\n",
       "    var button = $('<button class=\"btn btn-mini btn-primary\" href=\"#\" title=\"Stop Interaction\"><i class=\"fa fa-power-off icon-remove icon-large\"></i></button>');\n",
       "    button.click(function (evt) { fig.handle_close(fig, {}); } );\n",
       "    button.mouseover('Stop Interaction', toolbar_mouse_event);\n",
       "    buttongrp.append(button);\n",
       "    var titlebar = this.root.find($('.ui-dialog-titlebar'));\n",
       "    titlebar.prepend(buttongrp);\n",
       "}\n",
       "\n",
       "mpl.figure.prototype._root_extra_style = function(el){\n",
       "    var fig = this\n",
       "    el.on(\"remove\", function(){\n",
       "\tfig.close_ws(fig, {});\n",
       "    });\n",
       "}\n",
       "\n",
       "mpl.figure.prototype._canvas_extra_style = function(el){\n",
       "    // this is important to make the div 'focusable\n",
       "    el.attr('tabindex', 0)\n",
       "    // reach out to IPython and tell the keyboard manager to turn it's self\n",
       "    // off when our div gets focus\n",
       "\n",
       "    // location in version 3\n",
       "    if (IPython.notebook.keyboard_manager) {\n",
       "        IPython.notebook.keyboard_manager.register_events(el);\n",
       "    }\n",
       "    else {\n",
       "        // location in version 2\n",
       "        IPython.keyboard_manager.register_events(el);\n",
       "    }\n",
       "\n",
       "}\n",
       "\n",
       "mpl.figure.prototype._key_event_extra = function(event, name) {\n",
       "    var manager = IPython.notebook.keyboard_manager;\n",
       "    if (!manager)\n",
       "        manager = IPython.keyboard_manager;\n",
       "\n",
       "    // Check for shift+enter\n",
       "    if (event.shiftKey && event.which == 13) {\n",
       "        this.canvas_div.blur();\n",
       "        event.shiftKey = false;\n",
       "        // Send a \"J\" for go to next cell\n",
       "        event.which = 74;\n",
       "        event.keyCode = 74;\n",
       "        manager.command_mode();\n",
       "        manager.handle_keydown(event);\n",
       "    }\n",
       "}\n",
       "\n",
       "mpl.figure.prototype.handle_save = function(fig, msg) {\n",
       "    fig.ondownload(fig, null);\n",
       "}\n",
       "\n",
       "\n",
       "mpl.find_output_cell = function(html_output) {\n",
       "    // Return the cell and output element which can be found *uniquely* in the notebook.\n",
       "    // Note - this is a bit hacky, but it is done because the \"notebook_saving.Notebook\"\n",
       "    // IPython event is triggered only after the cells have been serialised, which for\n",
       "    // our purposes (turning an active figure into a static one), is too late.\n",
       "    var cells = IPython.notebook.get_cells();\n",
       "    var ncells = cells.length;\n",
       "    for (var i=0; i<ncells; i++) {\n",
       "        var cell = cells[i];\n",
       "        if (cell.cell_type === 'code'){\n",
       "            for (var j=0; j<cell.output_area.outputs.length; j++) {\n",
       "                var data = cell.output_area.outputs[j];\n",
       "                if (data.data) {\n",
       "                    // IPython >= 3 moved mimebundle to data attribute of output\n",
       "                    data = data.data;\n",
       "                }\n",
       "                if (data['text/html'] == html_output) {\n",
       "                    return [cell, data, j];\n",
       "                }\n",
       "            }\n",
       "        }\n",
       "    }\n",
       "}\n",
       "\n",
       "// Register the function which deals with the matplotlib target/channel.\n",
       "// The kernel may be null if the page has been refreshed.\n",
       "if (IPython.notebook.kernel != null) {\n",
       "    IPython.notebook.kernel.comm_manager.register_target('matplotlib', mpl.mpl_figure_comm);\n",
       "}\n"
      ],
      "text/plain": [
       "<IPython.core.display.Javascript object>"
      ]
     },
     "metadata": {},
     "output_type": "display_data"
    },
    {
     "data": {
      "text/html": [
       "<img src=\"data:image/png;base64,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\">"
      ],
      "text/plain": [
       "<IPython.core.display.HTML object>"
      ]
     },
     "metadata": {},
     "output_type": "display_data"
    },
    {
     "data": {
      "text/plain": [
       "<matplotlib.axes._subplots.AxesSubplot at 0x2ab04c50>"
      ]
     },
     "execution_count": 54,
     "metadata": {},
     "output_type": "execute_result"
    }
   ],
   "source": [
    "#Let's try to plot BasePay against TotalPay with OvertimePay on a third, colored axis\n",
    "%matplotlib nbagg\n",
    "train2011.plot(kind= 'scatter', x= 'BasePay',y= 'TotalPay', c= 'OtherPay',s= 40, colormap = 'viridis', alpha = 0.9)\n",
    "#train2011.plot(kind= 'scatter', x= 'BasePay',y= 'TotalPay', c= 'OvertimePay',s= 40, colormap = 'viridis', alpha = 0.9)#Uses size instead of color"
   ]
  },
  {
   "cell_type": "markdown",
   "metadata": {},
   "source": [
    "Interesting, although the relationship between BasePay and TotalPay is strong as expected, individuals who deviated the most from their BasePay did so through OtherPay including one individual who nearly doubled his or her BasePay from OtherPay alone. A similar plot with OvertimePay on the colored axis shows a significantly lower magnitide of values from OvertimePay)."
   ]
  },
  {
   "cell_type": "code",
   "execution_count": 23,
   "metadata": {
    "collapsed": false
   },
   "outputs": [
    {
     "data": {
      "text/html": [
       "<div>\n",
       "<table border=\"1\" class=\"dataframe\">\n",
       "  <thead>\n",
       "    <tr style=\"text-align: right;\">\n",
       "      <th></th>\n",
       "      <th>OvertimePay</th>\n",
       "      <th>OtherPay</th>\n",
       "      <th>TotalPay</th>\n",
       "      <th>TitleLen</th>\n",
       "    </tr>\n",
       "  </thead>\n",
       "  <tbody>\n",
       "    <tr>\n",
       "      <th>count</th>\n",
       "      <td>2009.000000</td>\n",
       "      <td>2009.000000</td>\n",
       "      <td>2009.000000</td>\n",
       "      <td>2009.000000</td>\n",
       "    </tr>\n",
       "    <tr>\n",
       "      <th>mean</th>\n",
       "      <td>8970.209288</td>\n",
       "      <td>12311.065983</td>\n",
       "      <td>127207.222967</td>\n",
       "      <td>21.571926</td>\n",
       "    </tr>\n",
       "    <tr>\n",
       "      <th>std</th>\n",
       "      <td>10931.664453</td>\n",
       "      <td>15069.234168</td>\n",
       "      <td>37150.736574</td>\n",
       "      <td>7.371808</td>\n",
       "    </tr>\n",
       "    <tr>\n",
       "      <th>min</th>\n",
       "      <td>0.000000</td>\n",
       "      <td>0.000000</td>\n",
       "      <td>597.310000</td>\n",
       "      <td>15.000000</td>\n",
       "    </tr>\n",
       "    <tr>\n",
       "      <th>25%</th>\n",
       "      <td>2966.630000</td>\n",
       "      <td>4072.150000</td>\n",
       "      <td>114218.410000</td>\n",
       "      <td>16.000000</td>\n",
       "    </tr>\n",
       "    <tr>\n",
       "      <th>50%</th>\n",
       "      <td>6435.750000</td>\n",
       "      <td>7814.100000</td>\n",
       "      <td>127144.620000</td>\n",
       "      <td>17.000000</td>\n",
       "    </tr>\n",
       "    <tr>\n",
       "      <th>75%</th>\n",
       "      <td>11185.350000</td>\n",
       "      <td>14471.110000</td>\n",
       "      <td>146537.270000</td>\n",
       "      <td>30.000000</td>\n",
       "    </tr>\n",
       "    <tr>\n",
       "      <th>max</th>\n",
       "      <td>245131.880000</td>\n",
       "      <td>137811.380000</td>\n",
       "      <td>538909.280000</td>\n",
       "      <td>42.000000</td>\n",
       "    </tr>\n",
       "  </tbody>\n",
       "</table>\n",
       "</div>"
      ],
      "text/plain": [
       "         OvertimePay       OtherPay       TotalPay     TitleLen\n",
       "count    2009.000000    2009.000000    2009.000000  2009.000000\n",
       "mean     8970.209288   12311.065983  127207.222967    21.571926\n",
       "std     10931.664453   15069.234168   37150.736574     7.371808\n",
       "min         0.000000       0.000000     597.310000    15.000000\n",
       "25%      2966.630000    4072.150000  114218.410000    16.000000\n",
       "50%      6435.750000    7814.100000  127144.620000    17.000000\n",
       "75%     11185.350000   14471.110000  146537.270000    30.000000\n",
       "max    245131.880000  137811.380000  538909.280000    42.000000"
      ]
     },
     "execution_count": 23,
     "metadata": {},
     "output_type": "execute_result"
    }
   ],
   "source": [
    "train2011.describe()"
   ]
  },
  {
   "cell_type": "markdown",
   "metadata": {
    "collapsed": true
   },
   "source": [
    "## Developing our model"
   ]
  },
  {
   "cell_type": "markdown",
   "metadata": {
    "collapsed": false
   },
   "source": [
    "Now that we've cleaned up our data and have narrowed it down to a few variables, we try to determine what variables could be affecting the TotalPay of an officer. Since at best our data indicates a linear relationship, let's calculate the correlation coefficient matrix for these variables. "
   ]
  },
  {
   "cell_type": "code",
   "execution_count": 24,
   "metadata": {
    "collapsed": false
   },
   "outputs": [
    {
     "data": {
      "text/html": [
       "<div>\n",
       "<table border=\"1\" class=\"dataframe\">\n",
       "  <thead>\n",
       "    <tr style=\"text-align: right;\">\n",
       "      <th></th>\n",
       "      <th>OvertimePay</th>\n",
       "      <th>OtherPay</th>\n",
       "      <th>TotalPay</th>\n",
       "      <th>TitleLen</th>\n",
       "    </tr>\n",
       "  </thead>\n",
       "  <tbody>\n",
       "    <tr>\n",
       "      <th>OvertimePay</th>\n",
       "      <td>1.000000</td>\n",
       "      <td>0.423615</td>\n",
       "      <td>0.533378</td>\n",
       "      <td>0.152749</td>\n",
       "    </tr>\n",
       "    <tr>\n",
       "      <th>OtherPay</th>\n",
       "      <td>0.423615</td>\n",
       "      <td>1.000000</td>\n",
       "      <td>0.502951</td>\n",
       "      <td>0.079383</td>\n",
       "    </tr>\n",
       "    <tr>\n",
       "      <th>TotalPay</th>\n",
       "      <td>0.533378</td>\n",
       "      <td>0.502951</td>\n",
       "      <td>1.000000</td>\n",
       "      <td>0.261965</td>\n",
       "    </tr>\n",
       "    <tr>\n",
       "      <th>TitleLen</th>\n",
       "      <td>0.152749</td>\n",
       "      <td>0.079383</td>\n",
       "      <td>0.261965</td>\n",
       "      <td>1.000000</td>\n",
       "    </tr>\n",
       "  </tbody>\n",
       "</table>\n",
       "</div>"
      ],
      "text/plain": [
       "             OvertimePay  OtherPay  TotalPay  TitleLen\n",
       "OvertimePay     1.000000  0.423615  0.533378  0.152749\n",
       "OtherPay        0.423615  1.000000  0.502951  0.079383\n",
       "TotalPay        0.533378  0.502951  1.000000  0.261965\n",
       "TitleLen        0.152749  0.079383  0.261965  1.000000"
      ]
     },
     "execution_count": 24,
     "metadata": {},
     "output_type": "execute_result"
    }
   ],
   "source": [
    "train2011.corr()"
   ]
  },
  {
   "cell_type": "code",
   "execution_count": 25,
   "metadata": {
    "collapsed": false
   },
   "outputs": [
    {
     "data": {
      "text/plain": [
       "JobTitle        object\n",
       "BasePay         object\n",
       "OvertimePay    float64\n",
       "OtherPay       float64\n",
       "TotalPay       float64\n",
       "TitleLen         int64\n",
       "dtype: object"
      ]
     },
     "execution_count": 25,
     "metadata": {},
     "output_type": "execute_result"
    }
   ],
   "source": [
    "#We're missing BasePay. A closer inspection of the datatype reveals that BasePay and TitleLen are different datatypes than the others\n",
    "train2011.dtypes"
   ]
  },
  {
   "cell_type": "code",
   "execution_count": 27,
   "metadata": {
    "collapsed": false
   },
   "outputs": [],
   "source": [
    "#We can change them to all be floats to include them in our analysis\n",
    "train2011[['BasePay', 'TitleLen']]= train2011[['BasePay', 'TitleLen']].astype(np.float64)"
   ]
  },
  {
   "cell_type": "code",
   "execution_count": 39,
   "metadata": {
    "collapsed": false
   },
   "outputs": [
    {
     "data": {
      "text/plain": [
       "JobTitle        object\n",
       "BasePay        float64\n",
       "OvertimePay    float64\n",
       "OtherPay       float64\n",
       "TotalPay       float64\n",
       "TitleLen       float64\n",
       "dtype: object"
      ]
     },
     "execution_count": 39,
     "metadata": {},
     "output_type": "execute_result"
    }
   ],
   "source": [
    "#Let's first validate that we've changed the types\n",
    "train2011.dtypes"
   ]
  },
  {
   "cell_type": "code",
   "execution_count": 40,
   "metadata": {
    "collapsed": false
   },
   "outputs": [
    {
     "data": {
      "text/html": [
       "<div>\n",
       "<table border=\"1\" class=\"dataframe\">\n",
       "  <thead>\n",
       "    <tr style=\"text-align: right;\">\n",
       "      <th></th>\n",
       "      <th>BasePay</th>\n",
       "      <th>OvertimePay</th>\n",
       "      <th>OtherPay</th>\n",
       "      <th>TotalPay</th>\n",
       "      <th>TitleLen</th>\n",
       "    </tr>\n",
       "  </thead>\n",
       "  <tbody>\n",
       "    <tr>\n",
       "      <th>BasePay</th>\n",
       "      <td>1.000000</td>\n",
       "      <td>0.084766</td>\n",
       "      <td>-0.034414</td>\n",
       "      <td>0.804912</td>\n",
       "      <td>0.232790</td>\n",
       "    </tr>\n",
       "    <tr>\n",
       "      <th>OvertimePay</th>\n",
       "      <td>0.084766</td>\n",
       "      <td>1.000000</td>\n",
       "      <td>0.423615</td>\n",
       "      <td>0.533378</td>\n",
       "      <td>0.152749</td>\n",
       "    </tr>\n",
       "    <tr>\n",
       "      <th>OtherPay</th>\n",
       "      <td>-0.034414</td>\n",
       "      <td>0.423615</td>\n",
       "      <td>1.000000</td>\n",
       "      <td>0.502951</td>\n",
       "      <td>0.079383</td>\n",
       "    </tr>\n",
       "    <tr>\n",
       "      <th>TotalPay</th>\n",
       "      <td>0.804912</td>\n",
       "      <td>0.533378</td>\n",
       "      <td>0.502951</td>\n",
       "      <td>1.000000</td>\n",
       "      <td>0.261965</td>\n",
       "    </tr>\n",
       "    <tr>\n",
       "      <th>TitleLen</th>\n",
       "      <td>0.232790</td>\n",
       "      <td>0.152749</td>\n",
       "      <td>0.079383</td>\n",
       "      <td>0.261965</td>\n",
       "      <td>1.000000</td>\n",
       "    </tr>\n",
       "  </tbody>\n",
       "</table>\n",
       "</div>"
      ],
      "text/plain": [
       "              BasePay  OvertimePay  OtherPay  TotalPay  TitleLen\n",
       "BasePay      1.000000     0.084766 -0.034414  0.804912  0.232790\n",
       "OvertimePay  0.084766     1.000000  0.423615  0.533378  0.152749\n",
       "OtherPay    -0.034414     0.423615  1.000000  0.502951  0.079383\n",
       "TotalPay     0.804912     0.533378  0.502951  1.000000  0.261965\n",
       "TitleLen     0.232790     0.152749  0.079383  0.261965  1.000000"
      ]
     },
     "execution_count": 40,
     "metadata": {},
     "output_type": "execute_result"
    }
   ],
   "source": [
    "#Great, now we'll regenerate the correlation matrix\n",
    "train2011.corr()"
   ]
  },
  {
   "cell_type": "markdown",
   "metadata": {},
   "source": [
    "As expected, BasePay has a strong correlation coefficient with TotalPay and all the other variables only have at maximum \n",
    "moderately positive correlations with it. TitleLen has a weak correlation with it, but it will be helpful to know how much it contributes to predicting TotalPay. We'll add it to our model later to how much it improves the model. "
   ]
  },
  {
   "cell_type": "markdown",
   "metadata": {
    "collapsed": false
   },
   "source": [
    "## Implementing our model with SKLearn "
   ]
  },
  {
   "cell_type": "markdown",
   "metadata": {},
   "source": [
    "In order to use our data in SKLearn, we need to convert it from dataframes to numpy arrays. We'll call TotalPay our dependent variable (y), and everything but TitleLen our independent variable (x). "
   ]
  },
  {
   "cell_type": "code",
   "execution_count": 41,
   "metadata": {
    "collapsed": false
   },
   "outputs": [],
   "source": [
    "trainX= np.array(train2011.drop(['TitleLen','TotalPay','JobTitle'], axis= 1))\n",
    "trainY= np.array(train2011['TotalPay'])"
   ]
  },
  {
   "cell_type": "markdown",
   "metadata": {},
   "source": [
    "### Linear Regression"
   ]
  },
  {
   "cell_type": "code",
   "execution_count": 42,
   "metadata": {
    "collapsed": false
   },
   "outputs": [],
   "source": [
    "from sklearn import linear_model\n",
    "from sklearn.metrics import r2_score"
   ]
  },
  {
   "cell_type": "code",
   "execution_count": 43,
   "metadata": {
    "collapsed": false
   },
   "outputs": [
    {
     "data": {
      "text/plain": [
       "LinearRegression(copy_X=True, fit_intercept=True, n_jobs=1, normalize=False)"
      ]
     },
     "execution_count": 43,
     "metadata": {},
     "output_type": "execute_result"
    }
   ],
   "source": [
    "fitLinRegTrain= linear_model.LinearRegression()\n",
    "fitLinRegTrain.fit(trainX,trainY)"
   ]
  },
  {
   "cell_type": "code",
   "execution_count": 44,
   "metadata": {
    "collapsed": false
   },
   "outputs": [
    {
     "data": {
      "text/plain": [
       "array([ 187456.7 ,  161217.88,   66786.75, ...,  163694.47,   66131.4 ,\n",
       "        118252.79])"
      ]
     },
     "execution_count": 44,
     "metadata": {},
     "output_type": "execute_result"
    }
   ],
   "source": [
    "predY= fitLinRegTrain.predict(trainX)\n",
    "predY"
   ]
  },
  {
   "cell_type": "code",
   "execution_count": 55,
   "metadata": {
    "collapsed": false
   },
   "outputs": [
    {
     "data": {
      "text/plain": [
       "1.0"
      ]
     },
     "execution_count": 55,
     "metadata": {},
     "output_type": "execute_result"
    }
   ],
   "source": [
    "r2_score(trainY,predY)"
   ]
  },
  {
   "cell_type": "markdown",
   "metadata": {},
   "source": [
    "That can't be correct, what's most likely occurring is that there's some dependence of OtherPay and OvertimePay on BasePay. In this situation, outliers strongly affect the R^2 and make it calculate a value approaching 1. Let's try Ridge Regression instead."
   ]
  },
  {
   "cell_type": "markdown",
   "metadata": {},
   "source": [
    "### Ridge Regression"
   ]
  },
  {
   "cell_type": "code",
   "execution_count": 59,
   "metadata": {
    "collapsed": false
   },
   "outputs": [
    {
     "data": {
      "text/plain": [
       "Ridge(alpha=0.5, copy_X=True, fit_intercept=True, max_iter=None,\n",
       "   normalize=False, solver='auto', tol=0.001)"
      ]
     },
     "execution_count": 59,
     "metadata": {},
     "output_type": "execute_result"
    }
   ],
   "source": [
    "fitRidgeRegTrain= linear_model.Ridge(alpha= 0.5)\n",
    "fitRidgeRegTrain.fit(trainX,trainY)"
   ]
  },
  {
   "cell_type": "code",
   "execution_count": 60,
   "metadata": {
    "collapsed": false
   },
   "outputs": [
    {
     "data": {
      "text/plain": [
       "<bound method Ridge.score of Ridge(alpha=0.5, copy_X=True, fit_intercept=True, max_iter=None,\n",
       "   normalize=False, solver='auto', tol=0.001)>"
      ]
     },
     "execution_count": 60,
     "metadata": {},
     "output_type": "execute_result"
    }
   ],
   "source": [
    "fitRidgeRegTrain.score"
   ]
  },
  {
   "cell_type": "code",
   "execution_count": 61,
   "metadata": {
    "collapsed": false
   },
   "outputs": [
    {
     "data": {
      "text/plain": [
       "array([ 0.99999885,  1.00000604,  0.99999806])"
      ]
     },
     "execution_count": 61,
     "metadata": {},
     "output_type": "execute_result"
    }
   ],
   "source": [
    "fitLassoRegTrain= linear_model.Lasso(alpha= 0.5)\n",
    "fitLassoRegTrain.fit(trainX,trainY)\n",
    "fitLassoRegTrain.coef_"
   ]
  },
  {
   "cell_type": "code",
   "execution_count": null,
   "metadata": {
    "collapsed": false
   },
   "outputs": [],
   "source": []
  },
  {
   "cell_type": "code",
   "execution_count": null,
   "metadata": {
    "collapsed": false
   },
   "outputs": [],
   "source": []
  },
  {
   "cell_type": "code",
   "execution_count": null,
   "metadata": {
    "collapsed": true
   },
   "outputs": [],
   "source": []
  }
 ],
 "metadata": {
  "kernelspec": {
   "display_name": "Python 2",
   "language": "python",
   "name": "python2"
  },
  "language_info": {
   "codemirror_mode": {
    "name": "ipython",
    "version": 2
   },
   "file_extension": ".py",
   "mimetype": "text/x-python",
   "name": "python",
   "nbconvert_exporter": "python",
   "pygments_lexer": "ipython2",
   "version": "2.7.11"
  }
 },
 "nbformat": 4,
 "nbformat_minor": 0
}
